{
 "cells": [
  {
   "cell_type": "code",
   "execution_count": 43,
   "id": "39c3aceb",
   "metadata": {},
   "outputs": [],
   "source": [
    "from bertopic import BERTopic\n",
    "import pandas as pd\n",
    "import re\n",
    "import spacy\n",
    "import fitz\n",
    "import os\n",
    "import plotly.io as pio\n",
    "import matplotlib.pyplot as plt\n",
    "import seaborn as sns"
   ]
  },
  {
   "cell_type": "code",
   "execution_count": 25,
   "id": "dd6db46b",
   "metadata": {},
   "outputs": [],
   "source": [
    "df = pd.read_csv('../dataset/anfragen_oldenburg_detailed.csv')"
   ]
  },
  {
   "cell_type": "markdown",
   "id": "dd2ec8f6",
   "metadata": {},
   "source": [
    "# Pre-processing data"
   ]
  },
  {
   "cell_type": "code",
   "execution_count": 26,
   "id": "0a7e99d5",
   "metadata": {},
   "outputs": [],
   "source": [
    "df['Beschreibung_original'] = df['Beschreibung']\n",
    "# lowercasing\n",
    "df['Beschreibung'] = df['Beschreibung'].str.lower()\n",
    "\n",
    "# removal of punctuation and digits\n",
    "def clean_entries(entry):\n",
    "    entry = re.sub(r'[\\d]', ' ', entry) # remove digits\n",
    "    entry = re.sub(r'[^\\w\\s]', ' ', entry) # remove non-word characters\n",
    "    return entry\n",
    "df['Beschreibung'] = df['Beschreibung'].apply(clean_entries)\n",
    "\n",
    "# removal of stopwords (e.g., der, die, das, ein)\n",
    "nlp = spacy.load(\"de_core_news_sm\")\n",
    "def remove_stopwords(entry):\n",
    "    doc = nlp(entry)\n",
    "    return \" \".join([token.text for token in doc if not token.is_stop and not token.is_punct and not token.is_space])\n",
    "df['Beschreibung'] = df['Beschreibung'].apply(remove_stopwords)\n",
    "\n"
   ]
  },
  {
   "cell_type": "code",
   "execution_count": 27,
   "id": "18ee3f48",
   "metadata": {},
   "outputs": [],
   "source": [
    "# remove street names\n",
    "street_doc = fitz.open('./Strassenverzeichnis-Oldb.pdf')\n",
    "street_names = []\n",
    "for i, page in enumerate(street_doc):\n",
    "    lines = [line.strip() for line in page.get_text().splitlines() if line.strip()]\n",
    "    \n",
    "    if i == 0:\n",
    "        lines = lines[11:]\n",
    "    else:\n",
    "        lines = lines[8:]\n",
    "\n",
    "    # two special cases for long street names and one for weird formatting\n",
    "    if i == 2:\n",
    "        idx = lines.index('ANNETTE-VON-DROSTE-HUELSHOFF-')\n",
    "        lines[idx] = lines[idx] + ' ' + lines[idx + 1]\n",
    "        del lines[idx + 1]\n",
    "    if i == 7:\n",
    "        idx = lines.index('FRIEDRICH-CHRISTOPH-DAHLMANN-')\n",
    "        lines[idx] = lines[idx] + ' ' + lines[idx + 1]\n",
    "        del lines[idx + 1]\n",
    "    if i == 15:\n",
    "        idx = lines.index('LENZWEG')\n",
    "        corrected = []\n",
    "        corrected.append(lines[idx])\n",
    "        corrected.extend(lines[idx + 4:idx + 6])\n",
    "        corrected.extend(lines[idx + 10::3])\n",
    "        street_names.extend(corrected)\n",
    "        continue \n",
    "    streets = lines[::3]\n",
    "    street_names += streets\n",
    "\n",
    "# extend street names to account for ß and str. and take care of umlaute\n",
    "street_names = [name.lower() for name in street_names]\n",
    "# umlaute\n",
    "def generate_umlaut_variants(name):\n",
    "    variants = set()\n",
    "    variants.add(name)\n",
    "\n",
    "    replacements = [\n",
    "        ('ae', 'ä'),\n",
    "        ('oe', 'ö'),\n",
    "        ('ue', 'ü'),\n",
    "        ('ä', 'ae'),\n",
    "        ('ö', 'oe'),\n",
    "        ('ü', 'ue'),\n",
    "    ]\n",
    "\n",
    "    for a, b in replacements:\n",
    "        if a in name:\n",
    "            variants.add(name.replace(a, b))\n",
    "        if b in name:\n",
    "            variants.add(name.replace(b, a))\n",
    "    \n",
    "    return variants\n",
    "street_names_ext = set()\n",
    "name_patterns = []\n",
    "for name in street_names:\n",
    "    umlaut_names = generate_umlaut_variants(name)\n",
    "    street_names_ext.update(umlaut_names)\n",
    "for name in street_names_ext:\n",
    "    ext_name = name\n",
    "    if 'strasse' in name:\n",
    "        ext_name = name.replace('strasse', r'\\s?(strasse|straße|str\\.?)')\n",
    "    name_patterns.append(ext_name)\n",
    "\n",
    "street_names_pattern = r'\\b(?:' + '|'.join(name_patterns) + r')\\b'\n",
    "df['Beschreibung'] = df['Beschreibung'].str.replace(street_names_pattern, '', flags=re.IGNORECASE, regex=True)"
   ]
  },
  {
   "cell_type": "code",
   "execution_count": 28,
   "id": "ee6d560b",
   "metadata": {},
   "outputs": [],
   "source": [
    "# remove hausnummer, nr. etc.\n",
    "hausnummer_pattern = r'\\b(haus)?(nummer|nr\\.?)\\b'\n",
    "df['Beschreibung'] = df['Beschreibung'].str.replace(hausnummer_pattern, '', flags=re.IGNORECASE, regex=True)"
   ]
  },
  {
   "cell_type": "code",
   "execution_count": 29,
   "id": "3eef129b",
   "metadata": {},
   "outputs": [],
   "source": [
    "# remove stadtteile (stadtteile according to Wikipedia)\n",
    "stadtteile = [\n",
    "    'zentrum',\n",
    "    'dobben',\n",
    "    'haarenesch',\n",
    "    'bahnhofsviertel',\n",
    "    'gerichtsviertel',\n",
    "    'ziegelhof',\n",
    "    'ehnern',\n",
    "    'bürgeresch',\n",
    "    'buergeresch',\n",
    "    'donnerschwee',\n",
    "    'osternburg',\n",
    "    'drielake',\n",
    "    'everstehn',\n",
    "    'hundsmühler höhe',\n",
    "    'hundsmuehler hoehe',\n",
    "    'thomasburg',\n",
    "    'bloherfelde',\n",
    "    'haarentor',\n",
    "    'wechloy',\n",
    "    'bürgerfelde',\n",
    "    'buergerfelde',\n",
    "    'rauhehorst',\n",
    "    'dietrichsfeld',\n",
    "    'alexandersfeld',\n",
    "    'flugplatz',\n",
    "    'ofenerdiek',\n",
    "    'nadorst',\n",
    "    'etzhorn',\n",
    "    'ohmstede',\n",
    "    'bornhorst',\n",
    "    'neuenwege',\n",
    "    'kloster blankenburg',\n",
    "    'kreyenbrück',\n",
    "    'kreyenbrueck',\n",
    "    'bümmerstede',\n",
    "    'buemmerstede',\n",
    "    'tweelbäke west',\n",
    "    'tweelbaeke west',\n",
    "    'krusenbusch',\n",
    "    'drielaker moor'\n",
    "]\n",
    "stadtteile_pattern = r'\\b(?:' + '|'.join(re.escape(stadtteil) for stadtteil in stadtteile) + r')\\b'\n",
    "df['Beschreibung'] = df['Beschreibung'].str.replace(stadtteile_pattern, '', flags=re.IGNORECASE, regex=True)"
   ]
  },
  {
   "cell_type": "code",
   "execution_count": 30,
   "id": "31fd4f74",
   "metadata": {},
   "outputs": [],
   "source": [
    "# lemmatization (e.g., reducing gegangen to gehen)\n",
    "def lemmatize(entry):\n",
    "    doc = nlp(entry)\n",
    "    return \" \".join([token.lemma_ for token in doc if not token.is_stop and not token.is_punct and not token.is_space])\n",
    "df['Beschreibung'] = df['Beschreibung'].apply(lemmatize)"
   ]
  },
  {
   "cell_type": "markdown",
   "id": "e4515de0",
   "metadata": {},
   "source": [
    "Removal of categories, e.g., Straßen or Wilde Müllkippe, would also be an option. In some sense, people are primed towards using these phrases, since they have previously selected categories. But removing e.g., Straßen would come at the expense of losing a lot of relevant information."
   ]
  },
  {
   "cell_type": "code",
   "execution_count": 31,
   "id": "da82158b",
   "metadata": {},
   "outputs": [
    {
     "data": {
      "text/plain": [
       "0    Famila liegen rechts Müll Gebüsch bitte entfernen\n",
       "1                 Ecke diverser Abfall illegal ablegen\n",
       "2            Gang Höhe erneut illegal Abfall entsorgen\n",
       "3    Containerstellplatz ecke diverser Hausmüll ent...\n",
       "4                          Gefrier Kühlschrank ablegen\n",
       "Name: Beschreibung, dtype: object"
      ]
     },
     "metadata": {},
     "output_type": "display_data"
    }
   ],
   "source": [
    "display(df['Beschreibung'].head())"
   ]
  },
  {
   "cell_type": "markdown",
   "id": "e3b5095b",
   "metadata": {},
   "source": [
    "# Topic model"
   ]
  },
  {
   "cell_type": "code",
   "execution_count": 33,
   "id": "9a370aa2",
   "metadata": {},
   "outputs": [],
   "source": [
    "docs = df['Beschreibung'].dropna()"
   ]
  },
  {
   "cell_type": "code",
   "execution_count": 10,
   "id": "a22902a5",
   "metadata": {},
   "outputs": [],
   "source": [
    "topic_model = BERTopic(language=\"german\")\n",
    "topics, probs = topic_model.fit_transform(docs)"
   ]
  },
  {
   "cell_type": "code",
   "execution_count": 34,
   "id": "f948325f",
   "metadata": {},
   "outputs": [
    {
     "data": {
      "text/html": [
       "<div>\n",
       "<style scoped>\n",
       "    .dataframe tbody tr th:only-of-type {\n",
       "        vertical-align: middle;\n",
       "    }\n",
       "\n",
       "    .dataframe tbody tr th {\n",
       "        vertical-align: top;\n",
       "    }\n",
       "\n",
       "    .dataframe thead th {\n",
       "        text-align: right;\n",
       "    }\n",
       "</style>\n",
       "<table border=\"1\" class=\"dataframe\">\n",
       "  <thead>\n",
       "    <tr style=\"text-align: right;\">\n",
       "      <th></th>\n",
       "      <th>Topic</th>\n",
       "      <th>Count</th>\n",
       "      <th>Name</th>\n",
       "      <th>Representation</th>\n",
       "      <th>Representative_Docs</th>\n",
       "    </tr>\n",
       "  </thead>\n",
       "  <tbody>\n",
       "    <tr>\n",
       "      <th>0</th>\n",
       "      <td>-1</td>\n",
       "      <td>240</td>\n",
       "      <td>-1_liegen_stehen_höhe_weg</td>\n",
       "      <td>[liegen, stehen, höhe, weg, müll, gehweg, spie...</td>\n",
       "      <td>[befinden Absenkung mindestens cm breit cm Loc...</td>\n",
       "    </tr>\n",
       "    <tr>\n",
       "      <th>1</th>\n",
       "      <td>0</td>\n",
       "      <td>96</td>\n",
       "      <td>0_müll_wild_mülleimer_liegen</td>\n",
       "      <td>[müll, wild, mülleimer, liegen, parkplatz, meh...</td>\n",
       "      <td>[erneut vermüllen Restmüll Sperrmüll blau Säck...</td>\n",
       "    </tr>\n",
       "    <tr>\n",
       "      <th>2</th>\n",
       "      <td>1</td>\n",
       "      <td>82</td>\n",
       "      <td>1_ampel_straße_signal_schlaglöch</td>\n",
       "      <td>[ampel, straße, signal, schlaglöch, richtung, ...</td>\n",
       "      <td>[Ampel Defekt Grün leuchten wüsting kommend St...</td>\n",
       "    </tr>\n",
       "    <tr>\n",
       "      <th>3</th>\n",
       "      <td>2</td>\n",
       "      <td>71</td>\n",
       "      <td>2_fußball_werbung_aufkleber_unterhaltungsfußball</td>\n",
       "      <td>[fußball, werbung, aufkleber, unterhaltungsfuß...</td>\n",
       "      <td>[Aufkleber Werbung Unterhaltungsfußball vfb Ol...</td>\n",
       "    </tr>\n",
       "    <tr>\n",
       "      <th>4</th>\n",
       "      <td>3</td>\n",
       "      <td>45</td>\n",
       "      <td>3_gefährlich_auto_straße_beschädigen</td>\n",
       "      <td>[gefährlich, auto, straße, beschädigen, gefähr...</td>\n",
       "      <td>[schlaglöch Weg Straßenverkehr gefährden Zenti...</td>\n",
       "    </tr>\n",
       "    <tr>\n",
       "      <th>5</th>\n",
       "      <td>4</td>\n",
       "      <td>44</td>\n",
       "      <td>4_stehen_fahrzeug_kennzeichen_auto</td>\n",
       "      <td>[stehen, fahrzeug, kennzeichen, auto, parkplat...</td>\n",
       "      <td>[mehrere Monat stehen Kurve Dersagauwegs alt P...</td>\n",
       "    </tr>\n",
       "    <tr>\n",
       "      <th>6</th>\n",
       "      <td>5</td>\n",
       "      <td>41</td>\n",
       "      <td>5_sperrmüll_gebotszeich_mast_drückampel</td>\n",
       "      <td>[sperrmüll, gebotszeich, mast, drückampel, kap...</td>\n",
       "      <td>[Druckknopf Ampel Höhe hnr südlich Seite defek...</td>\n",
       "    </tr>\n",
       "    <tr>\n",
       "      <th>7</th>\n",
       "      <td>6</td>\n",
       "      <td>35</td>\n",
       "      <td>6_fahrrad_radfahrer_fahrradweg_rollstuhlfahrer</td>\n",
       "      <td>[fahrrad, radfahrer, fahrradweg, rollstuhlfahr...</td>\n",
       "      <td>[Fußweg stehen stark regenfäll Bereichsweis Wa...</td>\n",
       "    </tr>\n",
       "    <tr>\n",
       "      <th>8</th>\n",
       "      <td>7</td>\n",
       "      <td>30</td>\n",
       "      <td>7_bushaltestellen_bus_schwelle_liegen</td>\n",
       "      <td>[bushaltestellen, bus, schwelle, liegen, busha...</td>\n",
       "      <td>[Schliefenstraße Einmündung befinden quer Fahr...</td>\n",
       "    </tr>\n",
       "    <tr>\n",
       "      <th>9</th>\n",
       "      <td>8</td>\n",
       "      <td>29</td>\n",
       "      <td>8_glascontainer_müll_ecke_papier</td>\n",
       "      <td>[glascontainer, müll, ecke, papier, altglas, g...</td>\n",
       "      <td>[Parkbucht Glascontainer Wilhelm Krüger strn s...</td>\n",
       "    </tr>\n",
       "    <tr>\n",
       "      <th>10</th>\n",
       "      <td>9</td>\n",
       "      <td>22</td>\n",
       "      <td>9_regenwasser_laufen_wasser_entwässerung</td>\n",
       "      <td>[regenwasser, laufen, wasser, entwässerung, ab...</td>\n",
       "      <td>[Stelle stehen Regenwasser knöchelhoch laufen ...</td>\n",
       "    </tr>\n",
       "    <tr>\n",
       "      <th>11</th>\n",
       "      <td>10</td>\n",
       "      <td>18</td>\n",
       "      <td>10_brücke_liegen_autobahnbrücke_wasserzug</td>\n",
       "      <td>[brücke, liegen, autobahnbrücke, wasserzug, wa...</td>\n",
       "      <td>[ecke liegen Kinderroller graben Eingang Rücks...</td>\n",
       "    </tr>\n",
       "    <tr>\n",
       "      <th>12</th>\n",
       "      <td>11</td>\n",
       "      <td>17</td>\n",
       "      <td>11_herr_grundschule_gemeinsam_heckklappe</td>\n",
       "      <td>[herr, grundschule, gemeinsam, heckklappe, old...</td>\n",
       "      <td>[gegenüberliegend einfahren Grundschule liegen...</td>\n",
       "    </tr>\n",
       "    <tr>\n",
       "      <th>13</th>\n",
       "      <td>12</td>\n",
       "      <td>16</td>\n",
       "      <td>12_illegal_müllentsorgung_abfall_müllablage</td>\n",
       "      <td>[illegal, müllentsorgung, abfall, müllablage, ...</td>\n",
       "      <td>[illegal Müllentsorgung Anfang Ecke, Gang Höhe...</td>\n",
       "    </tr>\n",
       "    <tr>\n",
       "      <th>14</th>\n",
       "      <td>13</td>\n",
       "      <td>16</td>\n",
       "      <td>13_asphalt_schließen_cm_anstelle</td>\n",
       "      <td>[asphalt, schließen, cm, anstelle, risse, vors...</td>\n",
       "      <td>[mal Woche vorschlagen loch anstelle stein Asp...</td>\n",
       "    </tr>\n",
       "    <tr>\n",
       "      <th>15</th>\n",
       "      <td>14</td>\n",
       "      <td>15</td>\n",
       "      <td>14_sofa_ca_woche_mittag</td>\n",
       "      <td>[sofa, ca, woche, mittag, naturschutzgebiet, s...</td>\n",
       "      <td>[einfahren Parkplatz Kleingarten Wochenende au...</td>\n",
       "    </tr>\n",
       "    <tr>\n",
       "      <th>16</th>\n",
       "      <td>15</td>\n",
       "      <td>14</td>\n",
       "      <td>15_einmündung_unrat_äste_befinden</td>\n",
       "      <td>[einmündung, unrat, äste, befinden, gehweg, ve...</td>\n",
       "      <td>[mal stehen gehweg Einmündung Dietrich Kohl we...</td>\n",
       "    </tr>\n",
       "    <tr>\n",
       "      <th>17</th>\n",
       "      <td>16</td>\n",
       "      <td>13</td>\n",
       "      <td>16_grün_verkehr_pfeil_ofenerstraße</td>\n",
       "      <td>[grün, verkehr, pfeil, ofenerstraße, efeu, unn...</td>\n",
       "      <td>[rummerweg stadtauswärts Sicht Verkehr Stadt W...</td>\n",
       "    </tr>\n",
       "    <tr>\n",
       "      <th>18</th>\n",
       "      <td>17</td>\n",
       "      <td>13</td>\n",
       "      <td>17_baum_bäume_ewe_pflanze</td>\n",
       "      <td>[baum, bäume, ewe, pflanze, sehen, städtisch, ...</td>\n",
       "      <td>[umgekippt bäume Baum hängen direkt Station fa...</td>\n",
       "    </tr>\n",
       "    <tr>\n",
       "      <th>19</th>\n",
       "      <td>18</td>\n",
       "      <td>12</td>\n",
       "      <td>18_containerstellplatz_entsorgen_hausmüll_pp</td>\n",
       "      <td>[containerstellplatz, entsorgen, hausmüll, pp,...</td>\n",
       "      <td>[Containerstellplatz ecke diverser Hausmüll en...</td>\n",
       "    </tr>\n",
       "    <tr>\n",
       "      <th>20</th>\n",
       "      <td>19</td>\n",
       "      <td>12</td>\n",
       "      <td>19_autobahn_müll_autobahnbrück_seite</td>\n",
       "      <td>[autobahn, müll, autobahnbrück, seite, liegen,...</td>\n",
       "      <td>[graben Grafestraße liegen Müllsäck paar Meter...</td>\n",
       "    </tr>\n",
       "    <tr>\n",
       "      <th>21</th>\n",
       "      <td>20</td>\n",
       "      <td>12</td>\n",
       "      <td>20_foto_schild_sehen_schauen</td>\n",
       "      <td>[foto, schild, sehen, schauen, umgefahren, ang...</td>\n",
       "      <td>[sehen Foto umgefahren Schild ecke, sehen Foto...</td>\n",
       "    </tr>\n",
       "  </tbody>\n",
       "</table>\n",
       "</div>"
      ],
      "text/plain": [
       "    Topic  Count                                              Name  \\\n",
       "0      -1    240                         -1_liegen_stehen_höhe_weg   \n",
       "1       0     96                      0_müll_wild_mülleimer_liegen   \n",
       "2       1     82                  1_ampel_straße_signal_schlaglöch   \n",
       "3       2     71  2_fußball_werbung_aufkleber_unterhaltungsfußball   \n",
       "4       3     45              3_gefährlich_auto_straße_beschädigen   \n",
       "5       4     44                4_stehen_fahrzeug_kennzeichen_auto   \n",
       "6       5     41           5_sperrmüll_gebotszeich_mast_drückampel   \n",
       "7       6     35    6_fahrrad_radfahrer_fahrradweg_rollstuhlfahrer   \n",
       "8       7     30             7_bushaltestellen_bus_schwelle_liegen   \n",
       "9       8     29                  8_glascontainer_müll_ecke_papier   \n",
       "10      9     22          9_regenwasser_laufen_wasser_entwässerung   \n",
       "11     10     18         10_brücke_liegen_autobahnbrücke_wasserzug   \n",
       "12     11     17          11_herr_grundschule_gemeinsam_heckklappe   \n",
       "13     12     16       12_illegal_müllentsorgung_abfall_müllablage   \n",
       "14     13     16                  13_asphalt_schließen_cm_anstelle   \n",
       "15     14     15                           14_sofa_ca_woche_mittag   \n",
       "16     15     14                 15_einmündung_unrat_äste_befinden   \n",
       "17     16     13                16_grün_verkehr_pfeil_ofenerstraße   \n",
       "18     17     13                         17_baum_bäume_ewe_pflanze   \n",
       "19     18     12      18_containerstellplatz_entsorgen_hausmüll_pp   \n",
       "20     19     12              19_autobahn_müll_autobahnbrück_seite   \n",
       "21     20     12                      20_foto_schild_sehen_schauen   \n",
       "\n",
       "                                       Representation  \\\n",
       "0   [liegen, stehen, höhe, weg, müll, gehweg, spie...   \n",
       "1   [müll, wild, mülleimer, liegen, parkplatz, meh...   \n",
       "2   [ampel, straße, signal, schlaglöch, richtung, ...   \n",
       "3   [fußball, werbung, aufkleber, unterhaltungsfuß...   \n",
       "4   [gefährlich, auto, straße, beschädigen, gefähr...   \n",
       "5   [stehen, fahrzeug, kennzeichen, auto, parkplat...   \n",
       "6   [sperrmüll, gebotszeich, mast, drückampel, kap...   \n",
       "7   [fahrrad, radfahrer, fahrradweg, rollstuhlfahr...   \n",
       "8   [bushaltestellen, bus, schwelle, liegen, busha...   \n",
       "9   [glascontainer, müll, ecke, papier, altglas, g...   \n",
       "10  [regenwasser, laufen, wasser, entwässerung, ab...   \n",
       "11  [brücke, liegen, autobahnbrücke, wasserzug, wa...   \n",
       "12  [herr, grundschule, gemeinsam, heckklappe, old...   \n",
       "13  [illegal, müllentsorgung, abfall, müllablage, ...   \n",
       "14  [asphalt, schließen, cm, anstelle, risse, vors...   \n",
       "15  [sofa, ca, woche, mittag, naturschutzgebiet, s...   \n",
       "16  [einmündung, unrat, äste, befinden, gehweg, ve...   \n",
       "17  [grün, verkehr, pfeil, ofenerstraße, efeu, unn...   \n",
       "18  [baum, bäume, ewe, pflanze, sehen, städtisch, ...   \n",
       "19  [containerstellplatz, entsorgen, hausmüll, pp,...   \n",
       "20  [autobahn, müll, autobahnbrück, seite, liegen,...   \n",
       "21  [foto, schild, sehen, schauen, umgefahren, ang...   \n",
       "\n",
       "                                  Representative_Docs  \n",
       "0   [befinden Absenkung mindestens cm breit cm Loc...  \n",
       "1   [erneut vermüllen Restmüll Sperrmüll blau Säck...  \n",
       "2   [Ampel Defekt Grün leuchten wüsting kommend St...  \n",
       "3   [Aufkleber Werbung Unterhaltungsfußball vfb Ol...  \n",
       "4   [schlaglöch Weg Straßenverkehr gefährden Zenti...  \n",
       "5   [mehrere Monat stehen Kurve Dersagauwegs alt P...  \n",
       "6   [Druckknopf Ampel Höhe hnr südlich Seite defek...  \n",
       "7   [Fußweg stehen stark regenfäll Bereichsweis Wa...  \n",
       "8   [Schliefenstraße Einmündung befinden quer Fahr...  \n",
       "9   [Parkbucht Glascontainer Wilhelm Krüger strn s...  \n",
       "10  [Stelle stehen Regenwasser knöchelhoch laufen ...  \n",
       "11  [ecke liegen Kinderroller graben Eingang Rücks...  \n",
       "12  [gegenüberliegend einfahren Grundschule liegen...  \n",
       "13  [illegal Müllentsorgung Anfang Ecke, Gang Höhe...  \n",
       "14  [mal Woche vorschlagen loch anstelle stein Asp...  \n",
       "15  [einfahren Parkplatz Kleingarten Wochenende au...  \n",
       "16  [mal stehen gehweg Einmündung Dietrich Kohl we...  \n",
       "17  [rummerweg stadtauswärts Sicht Verkehr Stadt W...  \n",
       "18  [umgekippt bäume Baum hängen direkt Station fa...  \n",
       "19  [Containerstellplatz ecke diverser Hausmüll en...  \n",
       "20  [graben Grafestraße liegen Müllsäck paar Meter...  \n",
       "21  [sehen Foto umgefahren Schild ecke, sehen Foto...  "
      ]
     },
     "execution_count": 34,
     "metadata": {},
     "output_type": "execute_result"
    }
   ],
   "source": [
    "topic_model.get_topic_info()"
   ]
  },
  {
   "cell_type": "code",
   "execution_count": 35,
   "id": "d04e411a",
   "metadata": {},
   "outputs": [],
   "source": [
    "# Export the top 25 words for each topic\n",
    "path = './topic_model_results'\n",
    "file= os.path.join(path, 'top_words_per_topic.txt')\n",
    "topic_info = topic_model.get_topic_info()\n",
    "with open(file, 'w', encoding='utf-8') as f:\n",
    "    for topic_id in topic_info[topic_info.Topic != -1].Topic:\n",
    "        words = topic_model.get_topic(topic_id)\n",
    "        f.write(f'Topic {topic_id}:\\n')\n",
    "        for word, score in words[:10]:\n",
    "            f.write(f'{word} ({score:.4f})\\n')\n",
    "        f.write('\\n')"
   ]
  },
  {
   "cell_type": "code",
   "execution_count": 39,
   "id": "16fe27b1",
   "metadata": {},
   "outputs": [
    {
     "ename": "ValueError",
     "evalue": "Mime type rendering requires nbformat>=4.2.0 but it is not installed",
     "output_type": "error",
     "traceback": [
      "\u001b[31m---------------------------------------------------------------------------\u001b[39m",
      "\u001b[31mValueError\u001b[39m                                Traceback (most recent call last)",
      "\u001b[36mFile \u001b[39m\u001b[32m~/HCI-project/hci-venv/lib/python3.12/site-packages/IPython/core/formatters.py:984\u001b[39m, in \u001b[36mIPythonDisplayFormatter.__call__\u001b[39m\u001b[34m(self, obj)\u001b[39m\n\u001b[32m    982\u001b[39m method = get_real_method(obj, \u001b[38;5;28mself\u001b[39m.print_method)\n\u001b[32m    983\u001b[39m \u001b[38;5;28;01mif\u001b[39;00m method \u001b[38;5;129;01mis\u001b[39;00m \u001b[38;5;129;01mnot\u001b[39;00m \u001b[38;5;28;01mNone\u001b[39;00m:\n\u001b[32m--> \u001b[39m\u001b[32m984\u001b[39m     \u001b[43mmethod\u001b[49m\u001b[43m(\u001b[49m\u001b[43m)\u001b[49m\n\u001b[32m    985\u001b[39m     \u001b[38;5;28;01mreturn\u001b[39;00m \u001b[38;5;28;01mTrue\u001b[39;00m\n",
      "\u001b[36mFile \u001b[39m\u001b[32m~/HCI-project/hci-venv/lib/python3.12/site-packages/plotly/basedatatypes.py:846\u001b[39m, in \u001b[36mBaseFigure._ipython_display_\u001b[39m\u001b[34m(self)\u001b[39m\n\u001b[32m    843\u001b[39m \u001b[38;5;28;01mimport\u001b[39;00m\u001b[38;5;250m \u001b[39m\u001b[34;01mplotly\u001b[39;00m\u001b[34;01m.\u001b[39;00m\u001b[34;01mio\u001b[39;00m\u001b[38;5;250m \u001b[39m\u001b[38;5;28;01mas\u001b[39;00m\u001b[38;5;250m \u001b[39m\u001b[34;01mpio\u001b[39;00m\n\u001b[32m    845\u001b[39m \u001b[38;5;28;01mif\u001b[39;00m pio.renderers.render_on_display \u001b[38;5;129;01mand\u001b[39;00m pio.renderers.default:\n\u001b[32m--> \u001b[39m\u001b[32m846\u001b[39m     \u001b[43mpio\u001b[49m\u001b[43m.\u001b[49m\u001b[43mshow\u001b[49m\u001b[43m(\u001b[49m\u001b[38;5;28;43mself\u001b[39;49m\u001b[43m)\u001b[49m\n\u001b[32m    847\u001b[39m \u001b[38;5;28;01melse\u001b[39;00m:\n\u001b[32m    848\u001b[39m     \u001b[38;5;28mprint\u001b[39m(\u001b[38;5;28mrepr\u001b[39m(\u001b[38;5;28mself\u001b[39m))\n",
      "\u001b[36mFile \u001b[39m\u001b[32m~/HCI-project/hci-venv/lib/python3.12/site-packages/plotly/io/_renderers.py:425\u001b[39m, in \u001b[36mshow\u001b[39m\u001b[34m(fig, renderer, validate, **kwargs)\u001b[39m\n\u001b[32m    420\u001b[39m     \u001b[38;5;28;01mraise\u001b[39;00m \u001b[38;5;167;01mValueError\u001b[39;00m(\n\u001b[32m    421\u001b[39m         \u001b[33m\"\u001b[39m\u001b[33mMime type rendering requires ipython but it is not installed\u001b[39m\u001b[33m\"\u001b[39m\n\u001b[32m    422\u001b[39m     )\n\u001b[32m    424\u001b[39m \u001b[38;5;28;01mif\u001b[39;00m \u001b[38;5;129;01mnot\u001b[39;00m nbformat \u001b[38;5;129;01mor\u001b[39;00m Version(nbformat.__version__) < Version(\u001b[33m\"\u001b[39m\u001b[33m4.2.0\u001b[39m\u001b[33m\"\u001b[39m):\n\u001b[32m--> \u001b[39m\u001b[32m425\u001b[39m     \u001b[38;5;28;01mraise\u001b[39;00m \u001b[38;5;167;01mValueError\u001b[39;00m(\n\u001b[32m    426\u001b[39m         \u001b[33m\"\u001b[39m\u001b[33mMime type rendering requires nbformat>=4.2.0 but it is not installed\u001b[39m\u001b[33m\"\u001b[39m\n\u001b[32m    427\u001b[39m     )\n\u001b[32m    429\u001b[39m display_jupyter_version_warnings()\n\u001b[32m    431\u001b[39m ipython_display.display(bundle, raw=\u001b[38;5;28;01mTrue\u001b[39;00m)\n",
      "\u001b[31mValueError\u001b[39m: Mime type rendering requires nbformat>=4.2.0 but it is not installed"
     ]
    },
    {
     "data": {
      "application/vnd.plotly.v1+json": {
       "config": {
        "plotlyServerURL": "https://plot.ly"
       },
       "data": [
        {
         "marker": {
          "color": "#D55E00"
         },
         "orientation": "h",
         "type": "bar",
         "x": [
          0.029917385608211687,
          0.03209704372720085,
          0.033931086447938935,
          0.03507404424454232,
          0.03680430491041335,
          0.03879842703861958,
          0.03924528475893372,
          0.03980631915795096,
          0.04043724712112707,
          0.06999920378431643
         ],
         "xaxis": "x",
         "y": [
          "entsorgen  ",
          "müllkippe  ",
          "abfall  ",
          "müllsäcke  ",
          "mehrere  ",
          "parkplatz  ",
          "liegen  ",
          "mülleimer  ",
          "wild  ",
          "müll  "
         ],
         "yaxis": "y"
        },
        {
         "marker": {
          "color": "#0072B2"
         },
         "orientation": "h",
         "type": "bar",
         "x": [
          0.02643675237723817,
          0.02690526476694963,
          0.028999957469920665,
          0.030294381725741774,
          0.03145006843003423,
          0.037469301266646736,
          0.041182919816943823,
          0.049088711224438863,
          0.06301190670088631,
          0.0771930498370068
         ],
         "xaxis": "x2",
         "y": [
          "sensor  ",
          "fußgänger  ",
          "stadteinwärts  ",
          "funktionieren  ",
          "leuchten  ",
          "richtung  ",
          "schlaglöch  ",
          "signal  ",
          "straße  ",
          "ampel  "
         ],
         "yaxis": "y2"
        },
        {
         "marker": {
          "color": "#CC79A7"
         },
         "orientation": "h",
         "type": "bar",
         "x": [
          0.06530375925620578,
          0.08802046055011944,
          0.09308569869822694,
          0.15876107103988582,
          0.17261410504114755,
          0.17704440649923772,
          0.17704440649923772,
          0.17780274170225968,
          0.18198144921681006,
          0.18393306274876378
         ],
         "xaxis": "x3",
         "y": [
          "verkehrszeich  ",
          "entfernen  ",
          "bitte  ",
          "oldenburg  ",
          "vfb  ",
          "gmbh  ",
          "unterhaltungsfußball  ",
          "aufkleber  ",
          "werbung  ",
          "fußball  "
         ],
         "yaxis": "y3"
        },
        {
         "marker": {
          "color": "#E69F00"
         },
         "orientation": "h",
         "type": "bar",
         "x": [
          0.03135989141113486,
          0.03135989141113486,
          0.03355273771823561,
          0.035388940486267347,
          0.03647077748299165,
          0.03912361712489884,
          0.03919986426391858,
          0.04380405184136061,
          0.04803214441617477,
          0.049743874736373324
         ],
         "xaxis": "x4",
         "y": [
          "verkehrsschild  ",
          "ragen  ",
          "radfahr  ",
          "sicht  ",
          "führen  ",
          "gefährden  ",
          "beschädigen  ",
          "straße  ",
          "auto  ",
          "gefährlich  "
         ],
         "yaxis": "y4"
        },
        {
         "marker": {
          "color": "#56B4E9"
         },
         "orientation": "h",
         "type": "bar",
         "x": [
          0.043122679196653003,
          0.047902557831779324,
          0.04802655395027013,
          0.04906224119439943,
          0.04972997090424176,
          0.06438175879124569,
          0.06438175879124569,
          0.07359336179159914,
          0.07669858409006168,
          0.08896131809887309
         ],
         "xaxis": "x5",
         "y": [
          "parken  ",
          "anhänger  ",
          "öffentlich  ",
          "kennzeich  ",
          "abgemeldet  ",
          "parkplatz  ",
          "auto  ",
          "kennzeichen  ",
          "fahrzeug  ",
          "stehen  "
         ],
         "yaxis": "y5"
        },
        {
         "marker": {
          "color": "#009E73"
         },
         "orientation": "h",
         "type": "bar",
         "x": [
          0.04216610360713883,
          0.04216610360713883,
          0.04216610360713883,
          0.051586457869798555,
          0.05426677595991896,
          0.06165105612809547,
          0.07453741572511631,
          0.07453741572511631,
          0.07453741572511631,
          0.08969356072194447
         ],
         "xaxis": "x6",
         "y": [
          "beeteinfassunge  ",
          "baumhaus  ",
          "beklebter  ",
          "schild  ",
          "vfb  ",
          "kaputt  ",
          "drückampel  ",
          "mast  ",
          "gebotszeich  ",
          "sperrmüll  "
         ],
         "yaxis": "y6"
        },
        {
         "marker": {
          "color": "#F0E442"
         },
         "orientation": "h",
         "type": "bar",
         "x": [
          0.03178185762392762,
          0.03178185762392762,
          0.03178185762392762,
          0.03470124012722986,
          0.035066333542078255,
          0.037544812166358084,
          0.03988601723290737,
          0.04802780524442777,
          0.05760361382644608,
          0.0670362750360864
         ],
         "xaxis": "x7",
         "y": [
          "scooter  ",
          "fahrräder  ",
          "bolen  ",
          "gefährlich  ",
          "ausweichen  ",
          "fußweg  ",
          "rollstuhlfahrer  ",
          "fahrradweg  ",
          "radfahrer  ",
          "fahrrad  "
         ],
         "yaxis": "y7"
        },
        {
         "marker": {
          "color": "#D55E00"
         },
         "orientation": "h",
         "type": "bar",
         "x": [
          0.034916198063924916,
          0.034916198063924916,
          0.034916198063924916,
          0.043319595917249806,
          0.04438310213004469,
          0.04835910562046129,
          0.051571493542151084,
          0.0606903518028956,
          0.06669593339813888,
          0.18221415356461046
         ],
         "xaxis": "x8",
         "y": [
          "wahrscheinlich  ",
          "lkw  ",
          "busverkehr  ",
          "glasscherben  ",
          "stadteinwärts  ",
          "bushaltestell  ",
          "liegen  ",
          "schwelle  ",
          "bus  ",
          "bushaltestellen  "
         ],
         "yaxis": "y8"
        },
        {
         "marker": {
          "color": "#0072B2"
         },
         "orientation": "h",
         "type": "bar",
         "x": [
          0.04076238772150213,
          0.04188908600133675,
          0.04718664455320354,
          0.04925919049664585,
          0.04925919049664585,
          0.05334911480833198,
          0.05334911480833198,
          0.05787108466063002,
          0.0721218085477468,
          0.10190596930375534
         ],
         "xaxis": "x9",
         "y": [
          "tüt  ",
          "müllkippe  ",
          "ablegen  ",
          "altglascontainer  ",
          "glascontain  ",
          "altglas  ",
          "papier  ",
          "ecke  ",
          "müll  ",
          "glascontainer  "
         ],
         "yaxis": "y9"
        },
        {
         "marker": {
          "color": "#CC79A7"
         },
         "orientation": "h",
         "type": "bar",
         "x": [
          0.04470881057306488,
          0.045962465387652106,
          0.05810352141450557,
          0.05810352141450557,
          0.059171100779507525,
          0.059171100779507525,
          0.07067316190293871,
          0.08509519419710393,
          0.08834145237867339,
          0.09792915098946245
         ],
         "xaxis": "x10",
         "y": [
          "fuß  ",
          "wasserzug  ",
          "verstopfen  ",
          "gully  ",
          "abfließen  ",
          "abfluss  ",
          "entwässerung  ",
          "wasser  ",
          "laufen  ",
          "regenwasser  "
         ],
         "yaxis": "y10"
        },
        {
         "marker": {
          "color": "#E69F00"
         },
         "orientation": "h",
         "type": "bar",
         "x": [
          0.055928392265794984,
          0.05644973477981968,
          0.05834093230913732,
          0.06512792300563244,
          0.06512792300563244,
          0.07024636836405222,
          0.07588433882793569,
          0.07820411681755592,
          0.08681778275272638,
          0.2249481962909863
         ],
         "xaxis": "x11",
         "y": [
          "containern  ",
          "sehen  ",
          "autobahnbrücken  ",
          "vollkommen  ",
          "kreyenbrücker  ",
          "wasser  ",
          "wasserzug  ",
          "autobahnbrücke  ",
          "liegen  ",
          "brücke  "
         ],
         "yaxis": "y11"
        },
        {
         "marker": {
          "color": "#56B4E9"
         },
         "orientation": "h",
         "type": "bar",
         "x": [
          0.027850567265639312,
          0.029877983091835467,
          0.029877983091835467,
          0.03027620154764716,
          0.03205127095232097,
          0.03550785244763038,
          0.03732330972245859,
          0.03732330972245859,
          0.03865561191576895,
          0.04684050228890148
         ],
         "xaxis": "x12",
         "y": [
          "rechts  ",
          "glas  ",
          "platz  ",
          "spielplatz  ",
          "container  ",
          "oldenburg  ",
          "heckklappe  ",
          "gemeinsam  ",
          "grundschule  ",
          "herr  "
         ],
         "yaxis": "y12"
        },
        {
         "marker": {
          "color": "#009E73"
         },
         "orientation": "h",
         "type": "bar",
         "x": [
          0.07622334113598173,
          0.07622334113598173,
          0.07622334113598173,
          0.08217692136614556,
          0.08747183466247171,
          0.1244110324081953,
          0.1244110324081953,
          0.14912277479940342,
          0.18800628035852923,
          0.5221981362307371
         ],
         "xaxis": "x13",
         "y": [
          "etage  ",
          "eingangsbereich  ",
          "abzweigung  ",
          "entsorgen  ",
          "erneut  ",
          "gang  ",
          "müllablage  ",
          "abfall  ",
          "müllentsorgung  ",
          "illegal  "
         ],
         "yaxis": "y13"
        },
        {
         "marker": {
          "color": "#F0E442"
         },
         "orientation": "h",
         "type": "bar",
         "x": [
          0.05218481930134161,
          0.053285660211693876,
          0.05389658635134126,
          0.0545141087825197,
          0.05473841467313229,
          0.05473841467313229,
          0.05473841467313229,
          0.06569247210892128,
          0.07581297287374401,
          0.2539187973284618
         ],
         "xaxis": "x14",
         "y": [
          "kurve  ",
          "fahren  ",
          "schlaglöch  ",
          "loch  ",
          "vorschlagen  ",
          "risse  ",
          "anstelle  ",
          "cm  ",
          "schließen  ",
          "asphalt  "
         ],
         "yaxis": "y14"
        },
        {
         "marker": {
          "color": "#D55E00"
         },
         "orientation": "h",
         "type": "bar",
         "x": [
          0.061301328498897904,
          0.06512792300563244,
          0.06512792300563244,
          0.07053540682712349,
          0.07053540682712349,
          0.07053540682712349,
          0.07053540682712349,
          0.07542875357379365,
          0.08681329345182484,
          0.16168168552622658
         ],
         "xaxis": "x15",
         "y": [
          "stuhl  ",
          "erstmals  ",
          "bürostuhl  ",
          "ausrangiert  ",
          "sitzgelegenheit  ",
          "naturschutzgebiet  ",
          "mittag  ",
          "woche  ",
          "ca  ",
          "sofa  "
         ],
         "yaxis": "y15"
        },
        {
         "marker": {
          "color": "#0072B2"
         },
         "orientation": "h",
         "type": "bar",
         "x": [
          0.04538489014203492,
          0.04814104826302628,
          0.053265694077576496,
          0.05339160108393216,
          0.05455521476323805,
          0.06420618688697048,
          0.06924884076354673,
          0.07407679792243689,
          0.08894972065508268,
          0.09013525651589613
         ],
         "xaxis": "x16",
         "y": [
          "fahrschul  ",
          "cm  ",
          "groß  ",
          "mal  ",
          "verstopfen  ",
          "gehweg  ",
          "befinden  ",
          "äste  ",
          "unrat  ",
          "einmündung  "
         ],
         "yaxis": "y16"
        },
        {
         "marker": {
          "color": "#CC79A7"
         },
         "orientation": "h",
         "type": "bar",
         "x": [
          0.04897775875175753,
          0.051549039529957014,
          0.05494335373356316,
          0.05935310491003894,
          0.06844723554379104,
          0.08275413871843622,
          0.08275413871843622,
          0.08275413871843622,
          0.1078806844055408,
          0.22757581122855655
         ],
         "xaxis": "x17",
         "y": [
          "straße  ",
          "stadt  ",
          "grünstreifen  ",
          "sicht  ",
          "unnötig  ",
          "efeu  ",
          "ofenerstraße  ",
          "pfeil  ",
          "verkehr  ",
          "grün  "
         ],
         "yaxis": "y17"
        },
        {
         "marker": {
          "color": "#E69F00"
         },
         "orientation": "h",
         "type": "bar",
         "x": [
          0.04538489014203492,
          0.04538489014203492,
          0.04538489014203492,
          0.04538489014203492,
          0.06361320952369048,
          0.06420618688697048,
          0.06972441180408998,
          0.0802272947881023,
          0.09541981428553573,
          0.13316423519394124
         ],
         "xaxis": "x18",
         "y": [
          "abgebrannt  ",
          "ausserstand  ",
          "buschreihe  ",
          "bepflanzung  ",
          "städtisch  ",
          "sehen  ",
          "pflanze  ",
          "ewe  ",
          "bäume  ",
          "baum  "
         ],
         "yaxis": "y18"
        },
        {
         "marker": {
          "color": "#56B4E9"
         },
         "orientation": "h",
         "type": "bar",
         "x": [
          0.10547891878086123,
          0.11423669149175435,
          0.11423669149175435,
          0.13472128952146517,
          0.15821837817129186,
          0.1593966289996226,
          0.1811593575565968,
          0.1854022582519781,
          0.2322391255999766,
          0.3187932579992452
         ],
         "xaxis": "x19",
         "y": [
          "schaumstoff  ",
          "spielsach  ",
          "ausmaß  ",
          "diverser  ",
          "kubikmeter  ",
          "teppich  ",
          "pp  ",
          "hausmüll  ",
          "entsorgen  ",
          "containerstellplatz  "
         ],
         "yaxis": "y19"
        },
        {
         "marker": {
          "color": "#009E73"
         },
         "orientation": "h",
         "type": "bar",
         "x": [
          0.06736064476073259,
          0.08443777830301327,
          0.08728467805582522,
          0.08728467805582522,
          0.09448694471805935,
          0.09842494283814524,
          0.10877904328758856,
          0.11652282283669865,
          0.12011591061273291,
          0.17452975861127223
         ],
         "xaxis": "x20",
         "y": [
          "diverser  ",
          "autobahnbrücke  ",
          "linker  ",
          "meter  ",
          "müllsack  ",
          "liegen  ",
          "seite  ",
          "autobahnbrück  ",
          "müll  ",
          "autobahn  "
         ],
         "yaxis": "y20"
        },
        {
         "marker": {
          "color": "#F0E442"
         },
         "orientation": "h",
         "type": "bar",
         "x": [
          0.09746591161650124,
          0.09746591161650124,
          0.09746591161650124,
          0.09746591161650124,
          0.09746591161650124,
          0.1366119745508763,
          0.14250490023051576,
          0.2412994810465243,
          0.27822860064202826,
          0.31565600872045557
         ],
         "xaxis": "x21",
         "y": [
          "staukreisel  ",
          "schöpfwerk  ",
          "begehbar  ",
          "doll  ",
          "angekettet  ",
          "umgefahren  ",
          "schauen  ",
          "sehen  ",
          "schild  ",
          "foto  "
         ],
         "yaxis": "y21"
        }
       ],
       "layout": {
        "annotations": [
         {
          "font": {
           "size": 16
          },
          "showarrow": false,
          "text": "Topic 0",
          "x": 0.0875,
          "xanchor": "center",
          "xref": "paper",
          "y": 1,
          "yanchor": "bottom",
          "yref": "paper"
         },
         {
          "font": {
           "size": 16
          },
          "showarrow": false,
          "text": "Topic 1",
          "x": 0.36250000000000004,
          "xanchor": "center",
          "xref": "paper",
          "y": 1,
          "yanchor": "bottom",
          "yref": "paper"
         },
         {
          "font": {
           "size": 16
          },
          "showarrow": false,
          "text": "Topic 2",
          "x": 0.6375000000000001,
          "xanchor": "center",
          "xref": "paper",
          "y": 1,
          "yanchor": "bottom",
          "yref": "paper"
         },
         {
          "font": {
           "size": 16
          },
          "showarrow": false,
          "text": "Topic 3",
          "x": 0.9125,
          "xanchor": "center",
          "xref": "paper",
          "y": 1,
          "yanchor": "bottom",
          "yref": "paper"
         },
         {
          "font": {
           "size": 16
          },
          "showarrow": false,
          "text": "Topic 4",
          "x": 0.0875,
          "xanchor": "center",
          "xref": "paper",
          "y": 0.8222222222222223,
          "yanchor": "bottom",
          "yref": "paper"
         },
         {
          "font": {
           "size": 16
          },
          "showarrow": false,
          "text": "Topic 5",
          "x": 0.36250000000000004,
          "xanchor": "center",
          "xref": "paper",
          "y": 0.8222222222222223,
          "yanchor": "bottom",
          "yref": "paper"
         },
         {
          "font": {
           "size": 16
          },
          "showarrow": false,
          "text": "Topic 6",
          "x": 0.6375000000000001,
          "xanchor": "center",
          "xref": "paper",
          "y": 0.8222222222222223,
          "yanchor": "bottom",
          "yref": "paper"
         },
         {
          "font": {
           "size": 16
          },
          "showarrow": false,
          "text": "Topic 7",
          "x": 0.9125,
          "xanchor": "center",
          "xref": "paper",
          "y": 0.8222222222222223,
          "yanchor": "bottom",
          "yref": "paper"
         },
         {
          "font": {
           "size": 16
          },
          "showarrow": false,
          "text": "Topic 8",
          "x": 0.0875,
          "xanchor": "center",
          "xref": "paper",
          "y": 0.6444444444444446,
          "yanchor": "bottom",
          "yref": "paper"
         },
         {
          "font": {
           "size": 16
          },
          "showarrow": false,
          "text": "Topic 9",
          "x": 0.36250000000000004,
          "xanchor": "center",
          "xref": "paper",
          "y": 0.6444444444444446,
          "yanchor": "bottom",
          "yref": "paper"
         },
         {
          "font": {
           "size": 16
          },
          "showarrow": false,
          "text": "Topic 10",
          "x": 0.6375000000000001,
          "xanchor": "center",
          "xref": "paper",
          "y": 0.6444444444444446,
          "yanchor": "bottom",
          "yref": "paper"
         },
         {
          "font": {
           "size": 16
          },
          "showarrow": false,
          "text": "Topic 11",
          "x": 0.9125,
          "xanchor": "center",
          "xref": "paper",
          "y": 0.6444444444444446,
          "yanchor": "bottom",
          "yref": "paper"
         },
         {
          "font": {
           "size": 16
          },
          "showarrow": false,
          "text": "Topic 12",
          "x": 0.0875,
          "xanchor": "center",
          "xref": "paper",
          "y": 0.4666666666666667,
          "yanchor": "bottom",
          "yref": "paper"
         },
         {
          "font": {
           "size": 16
          },
          "showarrow": false,
          "text": "Topic 13",
          "x": 0.36250000000000004,
          "xanchor": "center",
          "xref": "paper",
          "y": 0.4666666666666667,
          "yanchor": "bottom",
          "yref": "paper"
         },
         {
          "font": {
           "size": 16
          },
          "showarrow": false,
          "text": "Topic 14",
          "x": 0.6375000000000001,
          "xanchor": "center",
          "xref": "paper",
          "y": 0.4666666666666667,
          "yanchor": "bottom",
          "yref": "paper"
         },
         {
          "font": {
           "size": 16
          },
          "showarrow": false,
          "text": "Topic 15",
          "x": 0.9125,
          "xanchor": "center",
          "xref": "paper",
          "y": 0.4666666666666667,
          "yanchor": "bottom",
          "yref": "paper"
         },
         {
          "font": {
           "size": 16
          },
          "showarrow": false,
          "text": "Topic 16",
          "x": 0.0875,
          "xanchor": "center",
          "xref": "paper",
          "y": 0.2888888888888889,
          "yanchor": "bottom",
          "yref": "paper"
         },
         {
          "font": {
           "size": 16
          },
          "showarrow": false,
          "text": "Topic 17",
          "x": 0.36250000000000004,
          "xanchor": "center",
          "xref": "paper",
          "y": 0.2888888888888889,
          "yanchor": "bottom",
          "yref": "paper"
         },
         {
          "font": {
           "size": 16
          },
          "showarrow": false,
          "text": "Topic 18",
          "x": 0.6375000000000001,
          "xanchor": "center",
          "xref": "paper",
          "y": 0.2888888888888889,
          "yanchor": "bottom",
          "yref": "paper"
         },
         {
          "font": {
           "size": 16
          },
          "showarrow": false,
          "text": "Topic 19",
          "x": 0.9125,
          "xanchor": "center",
          "xref": "paper",
          "y": 0.2888888888888889,
          "yanchor": "bottom",
          "yref": "paper"
         },
         {
          "font": {
           "size": 16
          },
          "showarrow": false,
          "text": "Topic 20",
          "x": 0.0875,
          "xanchor": "center",
          "xref": "paper",
          "y": 0.11111111111111112,
          "yanchor": "bottom",
          "yref": "paper"
         }
        ],
        "height": 1500,
        "hoverlabel": {
         "bgcolor": "white",
         "font": {
          "family": "Rockwell",
          "size": 16
         }
        },
        "showlegend": false,
        "template": {
         "data": {
          "bar": [
           {
            "error_x": {
             "color": "#2a3f5f"
            },
            "error_y": {
             "color": "#2a3f5f"
            },
            "marker": {
             "line": {
              "color": "white",
              "width": 0.5
             },
             "pattern": {
              "fillmode": "overlay",
              "size": 10,
              "solidity": 0.2
             }
            },
            "type": "bar"
           }
          ],
          "barpolar": [
           {
            "marker": {
             "line": {
              "color": "white",
              "width": 0.5
             },
             "pattern": {
              "fillmode": "overlay",
              "size": 10,
              "solidity": 0.2
             }
            },
            "type": "barpolar"
           }
          ],
          "carpet": [
           {
            "aaxis": {
             "endlinecolor": "#2a3f5f",
             "gridcolor": "#C8D4E3",
             "linecolor": "#C8D4E3",
             "minorgridcolor": "#C8D4E3",
             "startlinecolor": "#2a3f5f"
            },
            "baxis": {
             "endlinecolor": "#2a3f5f",
             "gridcolor": "#C8D4E3",
             "linecolor": "#C8D4E3",
             "minorgridcolor": "#C8D4E3",
             "startlinecolor": "#2a3f5f"
            },
            "type": "carpet"
           }
          ],
          "choropleth": [
           {
            "colorbar": {
             "outlinewidth": 0,
             "ticks": ""
            },
            "type": "choropleth"
           }
          ],
          "contour": [
           {
            "colorbar": {
             "outlinewidth": 0,
             "ticks": ""
            },
            "colorscale": [
             [
              0,
              "#0d0887"
             ],
             [
              0.1111111111111111,
              "#46039f"
             ],
             [
              0.2222222222222222,
              "#7201a8"
             ],
             [
              0.3333333333333333,
              "#9c179e"
             ],
             [
              0.4444444444444444,
              "#bd3786"
             ],
             [
              0.5555555555555556,
              "#d8576b"
             ],
             [
              0.6666666666666666,
              "#ed7953"
             ],
             [
              0.7777777777777778,
              "#fb9f3a"
             ],
             [
              0.8888888888888888,
              "#fdca26"
             ],
             [
              1,
              "#f0f921"
             ]
            ],
            "type": "contour"
           }
          ],
          "contourcarpet": [
           {
            "colorbar": {
             "outlinewidth": 0,
             "ticks": ""
            },
            "type": "contourcarpet"
           }
          ],
          "heatmap": [
           {
            "colorbar": {
             "outlinewidth": 0,
             "ticks": ""
            },
            "colorscale": [
             [
              0,
              "#0d0887"
             ],
             [
              0.1111111111111111,
              "#46039f"
             ],
             [
              0.2222222222222222,
              "#7201a8"
             ],
             [
              0.3333333333333333,
              "#9c179e"
             ],
             [
              0.4444444444444444,
              "#bd3786"
             ],
             [
              0.5555555555555556,
              "#d8576b"
             ],
             [
              0.6666666666666666,
              "#ed7953"
             ],
             [
              0.7777777777777778,
              "#fb9f3a"
             ],
             [
              0.8888888888888888,
              "#fdca26"
             ],
             [
              1,
              "#f0f921"
             ]
            ],
            "type": "heatmap"
           }
          ],
          "histogram": [
           {
            "marker": {
             "pattern": {
              "fillmode": "overlay",
              "size": 10,
              "solidity": 0.2
             }
            },
            "type": "histogram"
           }
          ],
          "histogram2d": [
           {
            "colorbar": {
             "outlinewidth": 0,
             "ticks": ""
            },
            "colorscale": [
             [
              0,
              "#0d0887"
             ],
             [
              0.1111111111111111,
              "#46039f"
             ],
             [
              0.2222222222222222,
              "#7201a8"
             ],
             [
              0.3333333333333333,
              "#9c179e"
             ],
             [
              0.4444444444444444,
              "#bd3786"
             ],
             [
              0.5555555555555556,
              "#d8576b"
             ],
             [
              0.6666666666666666,
              "#ed7953"
             ],
             [
              0.7777777777777778,
              "#fb9f3a"
             ],
             [
              0.8888888888888888,
              "#fdca26"
             ],
             [
              1,
              "#f0f921"
             ]
            ],
            "type": "histogram2d"
           }
          ],
          "histogram2dcontour": [
           {
            "colorbar": {
             "outlinewidth": 0,
             "ticks": ""
            },
            "colorscale": [
             [
              0,
              "#0d0887"
             ],
             [
              0.1111111111111111,
              "#46039f"
             ],
             [
              0.2222222222222222,
              "#7201a8"
             ],
             [
              0.3333333333333333,
              "#9c179e"
             ],
             [
              0.4444444444444444,
              "#bd3786"
             ],
             [
              0.5555555555555556,
              "#d8576b"
             ],
             [
              0.6666666666666666,
              "#ed7953"
             ],
             [
              0.7777777777777778,
              "#fb9f3a"
             ],
             [
              0.8888888888888888,
              "#fdca26"
             ],
             [
              1,
              "#f0f921"
             ]
            ],
            "type": "histogram2dcontour"
           }
          ],
          "mesh3d": [
           {
            "colorbar": {
             "outlinewidth": 0,
             "ticks": ""
            },
            "type": "mesh3d"
           }
          ],
          "parcoords": [
           {
            "line": {
             "colorbar": {
              "outlinewidth": 0,
              "ticks": ""
             }
            },
            "type": "parcoords"
           }
          ],
          "pie": [
           {
            "automargin": true,
            "type": "pie"
           }
          ],
          "scatter": [
           {
            "fillpattern": {
             "fillmode": "overlay",
             "size": 10,
             "solidity": 0.2
            },
            "type": "scatter"
           }
          ],
          "scatter3d": [
           {
            "line": {
             "colorbar": {
              "outlinewidth": 0,
              "ticks": ""
             }
            },
            "marker": {
             "colorbar": {
              "outlinewidth": 0,
              "ticks": ""
             }
            },
            "type": "scatter3d"
           }
          ],
          "scattercarpet": [
           {
            "marker": {
             "colorbar": {
              "outlinewidth": 0,
              "ticks": ""
             }
            },
            "type": "scattercarpet"
           }
          ],
          "scattergeo": [
           {
            "marker": {
             "colorbar": {
              "outlinewidth": 0,
              "ticks": ""
             }
            },
            "type": "scattergeo"
           }
          ],
          "scattergl": [
           {
            "marker": {
             "colorbar": {
              "outlinewidth": 0,
              "ticks": ""
             }
            },
            "type": "scattergl"
           }
          ],
          "scattermap": [
           {
            "marker": {
             "colorbar": {
              "outlinewidth": 0,
              "ticks": ""
             }
            },
            "type": "scattermap"
           }
          ],
          "scattermapbox": [
           {
            "marker": {
             "colorbar": {
              "outlinewidth": 0,
              "ticks": ""
             }
            },
            "type": "scattermapbox"
           }
          ],
          "scatterpolar": [
           {
            "marker": {
             "colorbar": {
              "outlinewidth": 0,
              "ticks": ""
             }
            },
            "type": "scatterpolar"
           }
          ],
          "scatterpolargl": [
           {
            "marker": {
             "colorbar": {
              "outlinewidth": 0,
              "ticks": ""
             }
            },
            "type": "scatterpolargl"
           }
          ],
          "scatterternary": [
           {
            "marker": {
             "colorbar": {
              "outlinewidth": 0,
              "ticks": ""
             }
            },
            "type": "scatterternary"
           }
          ],
          "surface": [
           {
            "colorbar": {
             "outlinewidth": 0,
             "ticks": ""
            },
            "colorscale": [
             [
              0,
              "#0d0887"
             ],
             [
              0.1111111111111111,
              "#46039f"
             ],
             [
              0.2222222222222222,
              "#7201a8"
             ],
             [
              0.3333333333333333,
              "#9c179e"
             ],
             [
              0.4444444444444444,
              "#bd3786"
             ],
             [
              0.5555555555555556,
              "#d8576b"
             ],
             [
              0.6666666666666666,
              "#ed7953"
             ],
             [
              0.7777777777777778,
              "#fb9f3a"
             ],
             [
              0.8888888888888888,
              "#fdca26"
             ],
             [
              1,
              "#f0f921"
             ]
            ],
            "type": "surface"
           }
          ],
          "table": [
           {
            "cells": {
             "fill": {
              "color": "#EBF0F8"
             },
             "line": {
              "color": "white"
             }
            },
            "header": {
             "fill": {
              "color": "#C8D4E3"
             },
             "line": {
              "color": "white"
             }
            },
            "type": "table"
           }
          ]
         },
         "layout": {
          "annotationdefaults": {
           "arrowcolor": "#2a3f5f",
           "arrowhead": 0,
           "arrowwidth": 1
          },
          "autotypenumbers": "strict",
          "coloraxis": {
           "colorbar": {
            "outlinewidth": 0,
            "ticks": ""
           }
          },
          "colorscale": {
           "diverging": [
            [
             0,
             "#8e0152"
            ],
            [
             0.1,
             "#c51b7d"
            ],
            [
             0.2,
             "#de77ae"
            ],
            [
             0.3,
             "#f1b6da"
            ],
            [
             0.4,
             "#fde0ef"
            ],
            [
             0.5,
             "#f7f7f7"
            ],
            [
             0.6,
             "#e6f5d0"
            ],
            [
             0.7,
             "#b8e186"
            ],
            [
             0.8,
             "#7fbc41"
            ],
            [
             0.9,
             "#4d9221"
            ],
            [
             1,
             "#276419"
            ]
           ],
           "sequential": [
            [
             0,
             "#0d0887"
            ],
            [
             0.1111111111111111,
             "#46039f"
            ],
            [
             0.2222222222222222,
             "#7201a8"
            ],
            [
             0.3333333333333333,
             "#9c179e"
            ],
            [
             0.4444444444444444,
             "#bd3786"
            ],
            [
             0.5555555555555556,
             "#d8576b"
            ],
            [
             0.6666666666666666,
             "#ed7953"
            ],
            [
             0.7777777777777778,
             "#fb9f3a"
            ],
            [
             0.8888888888888888,
             "#fdca26"
            ],
            [
             1,
             "#f0f921"
            ]
           ],
           "sequentialminus": [
            [
             0,
             "#0d0887"
            ],
            [
             0.1111111111111111,
             "#46039f"
            ],
            [
             0.2222222222222222,
             "#7201a8"
            ],
            [
             0.3333333333333333,
             "#9c179e"
            ],
            [
             0.4444444444444444,
             "#bd3786"
            ],
            [
             0.5555555555555556,
             "#d8576b"
            ],
            [
             0.6666666666666666,
             "#ed7953"
            ],
            [
             0.7777777777777778,
             "#fb9f3a"
            ],
            [
             0.8888888888888888,
             "#fdca26"
            ],
            [
             1,
             "#f0f921"
            ]
           ]
          },
          "colorway": [
           "#636efa",
           "#EF553B",
           "#00cc96",
           "#ab63fa",
           "#FFA15A",
           "#19d3f3",
           "#FF6692",
           "#B6E880",
           "#FF97FF",
           "#FECB52"
          ],
          "font": {
           "color": "#2a3f5f"
          },
          "geo": {
           "bgcolor": "white",
           "lakecolor": "white",
           "landcolor": "white",
           "showlakes": true,
           "showland": true,
           "subunitcolor": "#C8D4E3"
          },
          "hoverlabel": {
           "align": "left"
          },
          "hovermode": "closest",
          "mapbox": {
           "style": "light"
          },
          "paper_bgcolor": "white",
          "plot_bgcolor": "white",
          "polar": {
           "angularaxis": {
            "gridcolor": "#EBF0F8",
            "linecolor": "#EBF0F8",
            "ticks": ""
           },
           "bgcolor": "white",
           "radialaxis": {
            "gridcolor": "#EBF0F8",
            "linecolor": "#EBF0F8",
            "ticks": ""
           }
          },
          "scene": {
           "xaxis": {
            "backgroundcolor": "white",
            "gridcolor": "#DFE8F3",
            "gridwidth": 2,
            "linecolor": "#EBF0F8",
            "showbackground": true,
            "ticks": "",
            "zerolinecolor": "#EBF0F8"
           },
           "yaxis": {
            "backgroundcolor": "white",
            "gridcolor": "#DFE8F3",
            "gridwidth": 2,
            "linecolor": "#EBF0F8",
            "showbackground": true,
            "ticks": "",
            "zerolinecolor": "#EBF0F8"
           },
           "zaxis": {
            "backgroundcolor": "white",
            "gridcolor": "#DFE8F3",
            "gridwidth": 2,
            "linecolor": "#EBF0F8",
            "showbackground": true,
            "ticks": "",
            "zerolinecolor": "#EBF0F8"
           }
          },
          "shapedefaults": {
           "line": {
            "color": "#2a3f5f"
           }
          },
          "ternary": {
           "aaxis": {
            "gridcolor": "#DFE8F3",
            "linecolor": "#A2B1C6",
            "ticks": ""
           },
           "baxis": {
            "gridcolor": "#DFE8F3",
            "linecolor": "#A2B1C6",
            "ticks": ""
           },
           "bgcolor": "white",
           "caxis": {
            "gridcolor": "#DFE8F3",
            "linecolor": "#A2B1C6",
            "ticks": ""
           }
          },
          "title": {
           "x": 0.05
          },
          "xaxis": {
           "automargin": true,
           "gridcolor": "#EBF0F8",
           "linecolor": "#EBF0F8",
           "ticks": "",
           "title": {
            "standoff": 15
           },
           "zerolinecolor": "#EBF0F8",
           "zerolinewidth": 2
          },
          "yaxis": {
           "automargin": true,
           "gridcolor": "#EBF0F8",
           "linecolor": "#EBF0F8",
           "ticks": "",
           "title": {
            "standoff": 15
           },
           "zerolinecolor": "#EBF0F8",
           "zerolinewidth": 2
          }
         }
        },
        "title": {
         "font": {
          "color": "Black",
          "size": 22
         },
         "text": "Topic Word Scores",
         "x": 0.5,
         "xanchor": "center",
         "yanchor": "top"
        },
        "width": 1000,
        "xaxis": {
         "anchor": "y",
         "domain": [
          0,
          0.175
         ],
         "showgrid": true
        },
        "xaxis10": {
         "anchor": "y10",
         "domain": [
          0.275,
          0.45
         ],
         "showgrid": true
        },
        "xaxis11": {
         "anchor": "y11",
         "domain": [
          0.55,
          0.7250000000000001
         ],
         "showgrid": true
        },
        "xaxis12": {
         "anchor": "y12",
         "domain": [
          0.825,
          1
         ],
         "showgrid": true
        },
        "xaxis13": {
         "anchor": "y13",
         "domain": [
          0,
          0.175
         ],
         "showgrid": true
        },
        "xaxis14": {
         "anchor": "y14",
         "domain": [
          0.275,
          0.45
         ],
         "showgrid": true
        },
        "xaxis15": {
         "anchor": "y15",
         "domain": [
          0.55,
          0.7250000000000001
         ],
         "showgrid": true
        },
        "xaxis16": {
         "anchor": "y16",
         "domain": [
          0.825,
          1
         ],
         "showgrid": true
        },
        "xaxis17": {
         "anchor": "y17",
         "domain": [
          0,
          0.175
         ],
         "showgrid": true
        },
        "xaxis18": {
         "anchor": "y18",
         "domain": [
          0.275,
          0.45
         ],
         "showgrid": true
        },
        "xaxis19": {
         "anchor": "y19",
         "domain": [
          0.55,
          0.7250000000000001
         ],
         "showgrid": true
        },
        "xaxis2": {
         "anchor": "y2",
         "domain": [
          0.275,
          0.45
         ],
         "showgrid": true
        },
        "xaxis20": {
         "anchor": "y20",
         "domain": [
          0.825,
          1
         ],
         "showgrid": true
        },
        "xaxis21": {
         "anchor": "y21",
         "domain": [
          0,
          0.175
         ],
         "showgrid": true
        },
        "xaxis22": {
         "anchor": "y22",
         "domain": [
          0.275,
          0.45
         ],
         "showgrid": true
        },
        "xaxis23": {
         "anchor": "y23",
         "domain": [
          0.55,
          0.7250000000000001
         ],
         "showgrid": true
        },
        "xaxis24": {
         "anchor": "y24",
         "domain": [
          0.825,
          1
         ],
         "showgrid": true
        },
        "xaxis3": {
         "anchor": "y3",
         "domain": [
          0.55,
          0.7250000000000001
         ],
         "showgrid": true
        },
        "xaxis4": {
         "anchor": "y4",
         "domain": [
          0.825,
          1
         ],
         "showgrid": true
        },
        "xaxis5": {
         "anchor": "y5",
         "domain": [
          0,
          0.175
         ],
         "showgrid": true
        },
        "xaxis6": {
         "anchor": "y6",
         "domain": [
          0.275,
          0.45
         ],
         "showgrid": true
        },
        "xaxis7": {
         "anchor": "y7",
         "domain": [
          0.55,
          0.7250000000000001
         ],
         "showgrid": true
        },
        "xaxis8": {
         "anchor": "y8",
         "domain": [
          0.825,
          1
         ],
         "showgrid": true
        },
        "xaxis9": {
         "anchor": "y9",
         "domain": [
          0,
          0.175
         ],
         "showgrid": true
        },
        "yaxis": {
         "anchor": "x",
         "domain": [
          0.8888888888888888,
          1
         ],
         "showgrid": true
        },
        "yaxis10": {
         "anchor": "x10",
         "domain": [
          0.5333333333333334,
          0.6444444444444446
         ],
         "showgrid": true
        },
        "yaxis11": {
         "anchor": "x11",
         "domain": [
          0.5333333333333334,
          0.6444444444444446
         ],
         "showgrid": true
        },
        "yaxis12": {
         "anchor": "x12",
         "domain": [
          0.5333333333333334,
          0.6444444444444446
         ],
         "showgrid": true
        },
        "yaxis13": {
         "anchor": "x13",
         "domain": [
          0.35555555555555557,
          0.4666666666666667
         ],
         "showgrid": true
        },
        "yaxis14": {
         "anchor": "x14",
         "domain": [
          0.35555555555555557,
          0.4666666666666667
         ],
         "showgrid": true
        },
        "yaxis15": {
         "anchor": "x15",
         "domain": [
          0.35555555555555557,
          0.4666666666666667
         ],
         "showgrid": true
        },
        "yaxis16": {
         "anchor": "x16",
         "domain": [
          0.35555555555555557,
          0.4666666666666667
         ],
         "showgrid": true
        },
        "yaxis17": {
         "anchor": "x17",
         "domain": [
          0.17777777777777778,
          0.2888888888888889
         ],
         "showgrid": true
        },
        "yaxis18": {
         "anchor": "x18",
         "domain": [
          0.17777777777777778,
          0.2888888888888889
         ],
         "showgrid": true
        },
        "yaxis19": {
         "anchor": "x19",
         "domain": [
          0.17777777777777778,
          0.2888888888888889
         ],
         "showgrid": true
        },
        "yaxis2": {
         "anchor": "x2",
         "domain": [
          0.8888888888888888,
          1
         ],
         "showgrid": true
        },
        "yaxis20": {
         "anchor": "x20",
         "domain": [
          0.17777777777777778,
          0.2888888888888889
         ],
         "showgrid": true
        },
        "yaxis21": {
         "anchor": "x21",
         "domain": [
          0,
          0.11111111111111112
         ],
         "showgrid": true
        },
        "yaxis22": {
         "anchor": "x22",
         "domain": [
          0,
          0.11111111111111112
         ],
         "showgrid": true
        },
        "yaxis23": {
         "anchor": "x23",
         "domain": [
          0,
          0.11111111111111112
         ],
         "showgrid": true
        },
        "yaxis24": {
         "anchor": "x24",
         "domain": [
          0,
          0.11111111111111112
         ],
         "showgrid": true
        },
        "yaxis3": {
         "anchor": "x3",
         "domain": [
          0.8888888888888888,
          1
         ],
         "showgrid": true
        },
        "yaxis4": {
         "anchor": "x4",
         "domain": [
          0.8888888888888888,
          1
         ],
         "showgrid": true
        },
        "yaxis5": {
         "anchor": "x5",
         "domain": [
          0.7111111111111111,
          0.8222222222222223
         ],
         "showgrid": true
        },
        "yaxis6": {
         "anchor": "x6",
         "domain": [
          0.7111111111111111,
          0.8222222222222223
         ],
         "showgrid": true
        },
        "yaxis7": {
         "anchor": "x7",
         "domain": [
          0.7111111111111111,
          0.8222222222222223
         ],
         "showgrid": true
        },
        "yaxis8": {
         "anchor": "x8",
         "domain": [
          0.7111111111111111,
          0.8222222222222223
         ],
         "showgrid": true
        },
        "yaxis9": {
         "anchor": "x9",
         "domain": [
          0.5333333333333334,
          0.6444444444444446
         ],
         "showgrid": true
        }
       }
      },
      "text/html": [
       "<div>                        <script type=\"text/javascript\">window.PlotlyConfig = {MathJaxConfig: 'local'};</script>\n",
       "        <script charset=\"utf-8\" src=\"https://cdn.plot.ly/plotly-3.0.1.min.js\"></script>                <div id=\"f679907d-2204-4eb2-87ff-dfa3a76f71a5\" class=\"plotly-graph-div\" style=\"height:1500px; width:1000px;\"></div>            <script type=\"text/javascript\">                window.PLOTLYENV=window.PLOTLYENV || {};                                if (document.getElementById(\"f679907d-2204-4eb2-87ff-dfa3a76f71a5\")) {                    Plotly.newPlot(                        \"f679907d-2204-4eb2-87ff-dfa3a76f71a5\",                        [{\"marker\":{\"color\":\"#D55E00\"},\"orientation\":\"h\",\"x\":[0.029917385608211687,0.03209704372720085,0.033931086447938935,0.03507404424454232,0.03680430491041335,0.03879842703861958,0.03924528475893372,0.03980631915795096,0.04043724712112707,0.06999920378431643],\"y\":[\"entsorgen  \",\"m\\u00fcllkippe  \",\"abfall  \",\"m\\u00fclls\\u00e4cke  \",\"mehrere  \",\"parkplatz  \",\"liegen  \",\"m\\u00fclleimer  \",\"wild  \",\"m\\u00fcll  \"],\"type\":\"bar\",\"xaxis\":\"x\",\"yaxis\":\"y\"},{\"marker\":{\"color\":\"#0072B2\"},\"orientation\":\"h\",\"x\":[0.02643675237723817,0.02690526476694963,0.028999957469920665,0.030294381725741774,0.03145006843003423,0.037469301266646736,0.041182919816943823,0.049088711224438863,0.06301190670088631,0.0771930498370068],\"y\":[\"sensor  \",\"fu\\u00dfg\\u00e4nger  \",\"stadteinw\\u00e4rts  \",\"funktionieren  \",\"leuchten  \",\"richtung  \",\"schlagl\\u00f6ch  \",\"signal  \",\"stra\\u00dfe  \",\"ampel  \"],\"type\":\"bar\",\"xaxis\":\"x2\",\"yaxis\":\"y2\"},{\"marker\":{\"color\":\"#CC79A7\"},\"orientation\":\"h\",\"x\":[0.06530375925620578,0.08802046055011944,0.09308569869822694,0.15876107103988582,0.17261410504114755,0.17704440649923772,0.17704440649923772,0.17780274170225968,0.18198144921681006,0.18393306274876378],\"y\":[\"verkehrszeich  \",\"entfernen  \",\"bitte  \",\"oldenburg  \",\"vfb  \",\"gmbh  \",\"unterhaltungsfu\\u00dfball  \",\"aufkleber  \",\"werbung  \",\"fu\\u00dfball  \"],\"type\":\"bar\",\"xaxis\":\"x3\",\"yaxis\":\"y3\"},{\"marker\":{\"color\":\"#E69F00\"},\"orientation\":\"h\",\"x\":[0.03135989141113486,0.03135989141113486,0.03355273771823561,0.035388940486267347,0.03647077748299165,0.03912361712489884,0.03919986426391858,0.04380405184136061,0.04803214441617477,0.049743874736373324],\"y\":[\"verkehrsschild  \",\"ragen  \",\"radfahr  \",\"sicht  \",\"f\\u00fchren  \",\"gef\\u00e4hrden  \",\"besch\\u00e4digen  \",\"stra\\u00dfe  \",\"auto  \",\"gef\\u00e4hrlich  \"],\"type\":\"bar\",\"xaxis\":\"x4\",\"yaxis\":\"y4\"},{\"marker\":{\"color\":\"#56B4E9\"},\"orientation\":\"h\",\"x\":[0.043122679196653003,0.047902557831779324,0.04802655395027013,0.04906224119439943,0.04972997090424176,0.06438175879124569,0.06438175879124569,0.07359336179159914,0.07669858409006168,0.08896131809887309],\"y\":[\"parken  \",\"anh\\u00e4nger  \",\"\\u00f6ffentlich  \",\"kennzeich  \",\"abgemeldet  \",\"parkplatz  \",\"auto  \",\"kennzeichen  \",\"fahrzeug  \",\"stehen  \"],\"type\":\"bar\",\"xaxis\":\"x5\",\"yaxis\":\"y5\"},{\"marker\":{\"color\":\"#009E73\"},\"orientation\":\"h\",\"x\":[0.04216610360713883,0.04216610360713883,0.04216610360713883,0.051586457869798555,0.05426677595991896,0.06165105612809547,0.07453741572511631,0.07453741572511631,0.07453741572511631,0.08969356072194447],\"y\":[\"beeteinfassunge  \",\"baumhaus  \",\"beklebter  \",\"schild  \",\"vfb  \",\"kaputt  \",\"dr\\u00fcckampel  \",\"mast  \",\"gebotszeich  \",\"sperrm\\u00fcll  \"],\"type\":\"bar\",\"xaxis\":\"x6\",\"yaxis\":\"y6\"},{\"marker\":{\"color\":\"#F0E442\"},\"orientation\":\"h\",\"x\":[0.03178185762392762,0.03178185762392762,0.03178185762392762,0.03470124012722986,0.035066333542078255,0.037544812166358084,0.03988601723290737,0.04802780524442777,0.05760361382644608,0.0670362750360864],\"y\":[\"scooter  \",\"fahrr\\u00e4der  \",\"bolen  \",\"gef\\u00e4hrlich  \",\"ausweichen  \",\"fu\\u00dfweg  \",\"rollstuhlfahrer  \",\"fahrradweg  \",\"radfahrer  \",\"fahrrad  \"],\"type\":\"bar\",\"xaxis\":\"x7\",\"yaxis\":\"y7\"},{\"marker\":{\"color\":\"#D55E00\"},\"orientation\":\"h\",\"x\":[0.034916198063924916,0.034916198063924916,0.034916198063924916,0.043319595917249806,0.04438310213004469,0.04835910562046129,0.051571493542151084,0.0606903518028956,0.06669593339813888,0.18221415356461046],\"y\":[\"wahrscheinlich  \",\"lkw  \",\"busverkehr  \",\"glasscherben  \",\"stadteinw\\u00e4rts  \",\"bushaltestell  \",\"liegen  \",\"schwelle  \",\"bus  \",\"bushaltestellen  \"],\"type\":\"bar\",\"xaxis\":\"x8\",\"yaxis\":\"y8\"},{\"marker\":{\"color\":\"#0072B2\"},\"orientation\":\"h\",\"x\":[0.04076238772150213,0.04188908600133675,0.04718664455320354,0.04925919049664585,0.04925919049664585,0.05334911480833198,0.05334911480833198,0.05787108466063002,0.0721218085477468,0.10190596930375534],\"y\":[\"t\\u00fct  \",\"m\\u00fcllkippe  \",\"ablegen  \",\"altglascontainer  \",\"glascontain  \",\"altglas  \",\"papier  \",\"ecke  \",\"m\\u00fcll  \",\"glascontainer  \"],\"type\":\"bar\",\"xaxis\":\"x9\",\"yaxis\":\"y9\"},{\"marker\":{\"color\":\"#CC79A7\"},\"orientation\":\"h\",\"x\":[0.04470881057306488,0.045962465387652106,0.05810352141450557,0.05810352141450557,0.059171100779507525,0.059171100779507525,0.07067316190293871,0.08509519419710393,0.08834145237867339,0.09792915098946245],\"y\":[\"fu\\u00df  \",\"wasserzug  \",\"verstopfen  \",\"gully  \",\"abflie\\u00dfen  \",\"abfluss  \",\"entw\\u00e4sserung  \",\"wasser  \",\"laufen  \",\"regenwasser  \"],\"type\":\"bar\",\"xaxis\":\"x10\",\"yaxis\":\"y10\"},{\"marker\":{\"color\":\"#E69F00\"},\"orientation\":\"h\",\"x\":[0.055928392265794984,0.05644973477981968,0.05834093230913732,0.06512792300563244,0.06512792300563244,0.07024636836405222,0.07588433882793569,0.07820411681755592,0.08681778275272638,0.2249481962909863],\"y\":[\"containern  \",\"sehen  \",\"autobahnbr\\u00fccken  \",\"vollkommen  \",\"kreyenbr\\u00fccker  \",\"wasser  \",\"wasserzug  \",\"autobahnbr\\u00fccke  \",\"liegen  \",\"br\\u00fccke  \"],\"type\":\"bar\",\"xaxis\":\"x11\",\"yaxis\":\"y11\"},{\"marker\":{\"color\":\"#56B4E9\"},\"orientation\":\"h\",\"x\":[0.027850567265639312,0.029877983091835467,0.029877983091835467,0.03027620154764716,0.03205127095232097,0.03550785244763038,0.03732330972245859,0.03732330972245859,0.03865561191576895,0.04684050228890148],\"y\":[\"rechts  \",\"glas  \",\"platz  \",\"spielplatz  \",\"container  \",\"oldenburg  \",\"heckklappe  \",\"gemeinsam  \",\"grundschule  \",\"herr  \"],\"type\":\"bar\",\"xaxis\":\"x12\",\"yaxis\":\"y12\"},{\"marker\":{\"color\":\"#009E73\"},\"orientation\":\"h\",\"x\":[0.07622334113598173,0.07622334113598173,0.07622334113598173,0.08217692136614556,0.08747183466247171,0.1244110324081953,0.1244110324081953,0.14912277479940342,0.18800628035852923,0.5221981362307371],\"y\":[\"etage  \",\"eingangsbereich  \",\"abzweigung  \",\"entsorgen  \",\"erneut  \",\"gang  \",\"m\\u00fcllablage  \",\"abfall  \",\"m\\u00fcllentsorgung  \",\"illegal  \"],\"type\":\"bar\",\"xaxis\":\"x13\",\"yaxis\":\"y13\"},{\"marker\":{\"color\":\"#F0E442\"},\"orientation\":\"h\",\"x\":[0.05218481930134161,0.053285660211693876,0.05389658635134126,0.0545141087825197,0.05473841467313229,0.05473841467313229,0.05473841467313229,0.06569247210892128,0.07581297287374401,0.2539187973284618],\"y\":[\"kurve  \",\"fahren  \",\"schlagl\\u00f6ch  \",\"loch  \",\"vorschlagen  \",\"risse  \",\"anstelle  \",\"cm  \",\"schlie\\u00dfen  \",\"asphalt  \"],\"type\":\"bar\",\"xaxis\":\"x14\",\"yaxis\":\"y14\"},{\"marker\":{\"color\":\"#D55E00\"},\"orientation\":\"h\",\"x\":[0.061301328498897904,0.06512792300563244,0.06512792300563244,0.07053540682712349,0.07053540682712349,0.07053540682712349,0.07053540682712349,0.07542875357379365,0.08681329345182484,0.16168168552622658],\"y\":[\"stuhl  \",\"erstmals  \",\"b\\u00fcrostuhl  \",\"ausrangiert  \",\"sitzgelegenheit  \",\"naturschutzgebiet  \",\"mittag  \",\"woche  \",\"ca  \",\"sofa  \"],\"type\":\"bar\",\"xaxis\":\"x15\",\"yaxis\":\"y15\"},{\"marker\":{\"color\":\"#0072B2\"},\"orientation\":\"h\",\"x\":[0.04538489014203492,0.04814104826302628,0.053265694077576496,0.05339160108393216,0.05455521476323805,0.06420618688697048,0.06924884076354673,0.07407679792243689,0.08894972065508268,0.09013525651589613],\"y\":[\"fahrschul  \",\"cm  \",\"gro\\u00df  \",\"mal  \",\"verstopfen  \",\"gehweg  \",\"befinden  \",\"\\u00e4ste  \",\"unrat  \",\"einm\\u00fcndung  \"],\"type\":\"bar\",\"xaxis\":\"x16\",\"yaxis\":\"y16\"},{\"marker\":{\"color\":\"#CC79A7\"},\"orientation\":\"h\",\"x\":[0.04897775875175753,0.051549039529957014,0.05494335373356316,0.05935310491003894,0.06844723554379104,0.08275413871843622,0.08275413871843622,0.08275413871843622,0.1078806844055408,0.22757581122855655],\"y\":[\"stra\\u00dfe  \",\"stadt  \",\"gr\\u00fcnstreifen  \",\"sicht  \",\"unn\\u00f6tig  \",\"efeu  \",\"ofenerstra\\u00dfe  \",\"pfeil  \",\"verkehr  \",\"gr\\u00fcn  \"],\"type\":\"bar\",\"xaxis\":\"x17\",\"yaxis\":\"y17\"},{\"marker\":{\"color\":\"#E69F00\"},\"orientation\":\"h\",\"x\":[0.04538489014203492,0.04538489014203492,0.04538489014203492,0.04538489014203492,0.06361320952369048,0.06420618688697048,0.06972441180408998,0.0802272947881023,0.09541981428553573,0.13316423519394124],\"y\":[\"abgebrannt  \",\"ausserstand  \",\"buschreihe  \",\"bepflanzung  \",\"st\\u00e4dtisch  \",\"sehen  \",\"pflanze  \",\"ewe  \",\"b\\u00e4ume  \",\"baum  \"],\"type\":\"bar\",\"xaxis\":\"x18\",\"yaxis\":\"y18\"},{\"marker\":{\"color\":\"#56B4E9\"},\"orientation\":\"h\",\"x\":[0.10547891878086123,0.11423669149175435,0.11423669149175435,0.13472128952146517,0.15821837817129186,0.1593966289996226,0.1811593575565968,0.1854022582519781,0.2322391255999766,0.3187932579992452],\"y\":[\"schaumstoff  \",\"spielsach  \",\"ausma\\u00df  \",\"diverser  \",\"kubikmeter  \",\"teppich  \",\"pp  \",\"hausm\\u00fcll  \",\"entsorgen  \",\"containerstellplatz  \"],\"type\":\"bar\",\"xaxis\":\"x19\",\"yaxis\":\"y19\"},{\"marker\":{\"color\":\"#009E73\"},\"orientation\":\"h\",\"x\":[0.06736064476073259,0.08443777830301327,0.08728467805582522,0.08728467805582522,0.09448694471805935,0.09842494283814524,0.10877904328758856,0.11652282283669865,0.12011591061273291,0.17452975861127223],\"y\":[\"diverser  \",\"autobahnbr\\u00fccke  \",\"linker  \",\"meter  \",\"m\\u00fcllsack  \",\"liegen  \",\"seite  \",\"autobahnbr\\u00fcck  \",\"m\\u00fcll  \",\"autobahn  \"],\"type\":\"bar\",\"xaxis\":\"x20\",\"yaxis\":\"y20\"},{\"marker\":{\"color\":\"#F0E442\"},\"orientation\":\"h\",\"x\":[0.09746591161650124,0.09746591161650124,0.09746591161650124,0.09746591161650124,0.09746591161650124,0.1366119745508763,0.14250490023051576,0.2412994810465243,0.27822860064202826,0.31565600872045557],\"y\":[\"staukreisel  \",\"sch\\u00f6pfwerk  \",\"begehbar  \",\"doll  \",\"angekettet  \",\"umgefahren  \",\"schauen  \",\"sehen  \",\"schild  \",\"foto  \"],\"type\":\"bar\",\"xaxis\":\"x21\",\"yaxis\":\"y21\"}],                        {\"template\":{\"data\":{\"barpolar\":[{\"marker\":{\"line\":{\"color\":\"white\",\"width\":0.5},\"pattern\":{\"fillmode\":\"overlay\",\"size\":10,\"solidity\":0.2}},\"type\":\"barpolar\"}],\"bar\":[{\"error_x\":{\"color\":\"#2a3f5f\"},\"error_y\":{\"color\":\"#2a3f5f\"},\"marker\":{\"line\":{\"color\":\"white\",\"width\":0.5},\"pattern\":{\"fillmode\":\"overlay\",\"size\":10,\"solidity\":0.2}},\"type\":\"bar\"}],\"carpet\":[{\"aaxis\":{\"endlinecolor\":\"#2a3f5f\",\"gridcolor\":\"#C8D4E3\",\"linecolor\":\"#C8D4E3\",\"minorgridcolor\":\"#C8D4E3\",\"startlinecolor\":\"#2a3f5f\"},\"baxis\":{\"endlinecolor\":\"#2a3f5f\",\"gridcolor\":\"#C8D4E3\",\"linecolor\":\"#C8D4E3\",\"minorgridcolor\":\"#C8D4E3\",\"startlinecolor\":\"#2a3f5f\"},\"type\":\"carpet\"}],\"choropleth\":[{\"colorbar\":{\"outlinewidth\":0,\"ticks\":\"\"},\"type\":\"choropleth\"}],\"contourcarpet\":[{\"colorbar\":{\"outlinewidth\":0,\"ticks\":\"\"},\"type\":\"contourcarpet\"}],\"contour\":[{\"colorbar\":{\"outlinewidth\":0,\"ticks\":\"\"},\"colorscale\":[[0.0,\"#0d0887\"],[0.1111111111111111,\"#46039f\"],[0.2222222222222222,\"#7201a8\"],[0.3333333333333333,\"#9c179e\"],[0.4444444444444444,\"#bd3786\"],[0.5555555555555556,\"#d8576b\"],[0.6666666666666666,\"#ed7953\"],[0.7777777777777778,\"#fb9f3a\"],[0.8888888888888888,\"#fdca26\"],[1.0,\"#f0f921\"]],\"type\":\"contour\"}],\"heatmap\":[{\"colorbar\":{\"outlinewidth\":0,\"ticks\":\"\"},\"colorscale\":[[0.0,\"#0d0887\"],[0.1111111111111111,\"#46039f\"],[0.2222222222222222,\"#7201a8\"],[0.3333333333333333,\"#9c179e\"],[0.4444444444444444,\"#bd3786\"],[0.5555555555555556,\"#d8576b\"],[0.6666666666666666,\"#ed7953\"],[0.7777777777777778,\"#fb9f3a\"],[0.8888888888888888,\"#fdca26\"],[1.0,\"#f0f921\"]],\"type\":\"heatmap\"}],\"histogram2dcontour\":[{\"colorbar\":{\"outlinewidth\":0,\"ticks\":\"\"},\"colorscale\":[[0.0,\"#0d0887\"],[0.1111111111111111,\"#46039f\"],[0.2222222222222222,\"#7201a8\"],[0.3333333333333333,\"#9c179e\"],[0.4444444444444444,\"#bd3786\"],[0.5555555555555556,\"#d8576b\"],[0.6666666666666666,\"#ed7953\"],[0.7777777777777778,\"#fb9f3a\"],[0.8888888888888888,\"#fdca26\"],[1.0,\"#f0f921\"]],\"type\":\"histogram2dcontour\"}],\"histogram2d\":[{\"colorbar\":{\"outlinewidth\":0,\"ticks\":\"\"},\"colorscale\":[[0.0,\"#0d0887\"],[0.1111111111111111,\"#46039f\"],[0.2222222222222222,\"#7201a8\"],[0.3333333333333333,\"#9c179e\"],[0.4444444444444444,\"#bd3786\"],[0.5555555555555556,\"#d8576b\"],[0.6666666666666666,\"#ed7953\"],[0.7777777777777778,\"#fb9f3a\"],[0.8888888888888888,\"#fdca26\"],[1.0,\"#f0f921\"]],\"type\":\"histogram2d\"}],\"histogram\":[{\"marker\":{\"pattern\":{\"fillmode\":\"overlay\",\"size\":10,\"solidity\":0.2}},\"type\":\"histogram\"}],\"mesh3d\":[{\"colorbar\":{\"outlinewidth\":0,\"ticks\":\"\"},\"type\":\"mesh3d\"}],\"parcoords\":[{\"line\":{\"colorbar\":{\"outlinewidth\":0,\"ticks\":\"\"}},\"type\":\"parcoords\"}],\"pie\":[{\"automargin\":true,\"type\":\"pie\"}],\"scatter3d\":[{\"line\":{\"colorbar\":{\"outlinewidth\":0,\"ticks\":\"\"}},\"marker\":{\"colorbar\":{\"outlinewidth\":0,\"ticks\":\"\"}},\"type\":\"scatter3d\"}],\"scattercarpet\":[{\"marker\":{\"colorbar\":{\"outlinewidth\":0,\"ticks\":\"\"}},\"type\":\"scattercarpet\"}],\"scattergeo\":[{\"marker\":{\"colorbar\":{\"outlinewidth\":0,\"ticks\":\"\"}},\"type\":\"scattergeo\"}],\"scattergl\":[{\"marker\":{\"colorbar\":{\"outlinewidth\":0,\"ticks\":\"\"}},\"type\":\"scattergl\"}],\"scattermapbox\":[{\"marker\":{\"colorbar\":{\"outlinewidth\":0,\"ticks\":\"\"}},\"type\":\"scattermapbox\"}],\"scattermap\":[{\"marker\":{\"colorbar\":{\"outlinewidth\":0,\"ticks\":\"\"}},\"type\":\"scattermap\"}],\"scatterpolargl\":[{\"marker\":{\"colorbar\":{\"outlinewidth\":0,\"ticks\":\"\"}},\"type\":\"scatterpolargl\"}],\"scatterpolar\":[{\"marker\":{\"colorbar\":{\"outlinewidth\":0,\"ticks\":\"\"}},\"type\":\"scatterpolar\"}],\"scatter\":[{\"fillpattern\":{\"fillmode\":\"overlay\",\"size\":10,\"solidity\":0.2},\"type\":\"scatter\"}],\"scatterternary\":[{\"marker\":{\"colorbar\":{\"outlinewidth\":0,\"ticks\":\"\"}},\"type\":\"scatterternary\"}],\"surface\":[{\"colorbar\":{\"outlinewidth\":0,\"ticks\":\"\"},\"colorscale\":[[0.0,\"#0d0887\"],[0.1111111111111111,\"#46039f\"],[0.2222222222222222,\"#7201a8\"],[0.3333333333333333,\"#9c179e\"],[0.4444444444444444,\"#bd3786\"],[0.5555555555555556,\"#d8576b\"],[0.6666666666666666,\"#ed7953\"],[0.7777777777777778,\"#fb9f3a\"],[0.8888888888888888,\"#fdca26\"],[1.0,\"#f0f921\"]],\"type\":\"surface\"}],\"table\":[{\"cells\":{\"fill\":{\"color\":\"#EBF0F8\"},\"line\":{\"color\":\"white\"}},\"header\":{\"fill\":{\"color\":\"#C8D4E3\"},\"line\":{\"color\":\"white\"}},\"type\":\"table\"}]},\"layout\":{\"annotationdefaults\":{\"arrowcolor\":\"#2a3f5f\",\"arrowhead\":0,\"arrowwidth\":1},\"autotypenumbers\":\"strict\",\"coloraxis\":{\"colorbar\":{\"outlinewidth\":0,\"ticks\":\"\"}},\"colorscale\":{\"diverging\":[[0,\"#8e0152\"],[0.1,\"#c51b7d\"],[0.2,\"#de77ae\"],[0.3,\"#f1b6da\"],[0.4,\"#fde0ef\"],[0.5,\"#f7f7f7\"],[0.6,\"#e6f5d0\"],[0.7,\"#b8e186\"],[0.8,\"#7fbc41\"],[0.9,\"#4d9221\"],[1,\"#276419\"]],\"sequential\":[[0.0,\"#0d0887\"],[0.1111111111111111,\"#46039f\"],[0.2222222222222222,\"#7201a8\"],[0.3333333333333333,\"#9c179e\"],[0.4444444444444444,\"#bd3786\"],[0.5555555555555556,\"#d8576b\"],[0.6666666666666666,\"#ed7953\"],[0.7777777777777778,\"#fb9f3a\"],[0.8888888888888888,\"#fdca26\"],[1.0,\"#f0f921\"]],\"sequentialminus\":[[0.0,\"#0d0887\"],[0.1111111111111111,\"#46039f\"],[0.2222222222222222,\"#7201a8\"],[0.3333333333333333,\"#9c179e\"],[0.4444444444444444,\"#bd3786\"],[0.5555555555555556,\"#d8576b\"],[0.6666666666666666,\"#ed7953\"],[0.7777777777777778,\"#fb9f3a\"],[0.8888888888888888,\"#fdca26\"],[1.0,\"#f0f921\"]]},\"colorway\":[\"#636efa\",\"#EF553B\",\"#00cc96\",\"#ab63fa\",\"#FFA15A\",\"#19d3f3\",\"#FF6692\",\"#B6E880\",\"#FF97FF\",\"#FECB52\"],\"font\":{\"color\":\"#2a3f5f\"},\"geo\":{\"bgcolor\":\"white\",\"lakecolor\":\"white\",\"landcolor\":\"white\",\"showlakes\":true,\"showland\":true,\"subunitcolor\":\"#C8D4E3\"},\"hoverlabel\":{\"align\":\"left\"},\"hovermode\":\"closest\",\"mapbox\":{\"style\":\"light\"},\"paper_bgcolor\":\"white\",\"plot_bgcolor\":\"white\",\"polar\":{\"angularaxis\":{\"gridcolor\":\"#EBF0F8\",\"linecolor\":\"#EBF0F8\",\"ticks\":\"\"},\"bgcolor\":\"white\",\"radialaxis\":{\"gridcolor\":\"#EBF0F8\",\"linecolor\":\"#EBF0F8\",\"ticks\":\"\"}},\"scene\":{\"xaxis\":{\"backgroundcolor\":\"white\",\"gridcolor\":\"#DFE8F3\",\"gridwidth\":2,\"linecolor\":\"#EBF0F8\",\"showbackground\":true,\"ticks\":\"\",\"zerolinecolor\":\"#EBF0F8\"},\"yaxis\":{\"backgroundcolor\":\"white\",\"gridcolor\":\"#DFE8F3\",\"gridwidth\":2,\"linecolor\":\"#EBF0F8\",\"showbackground\":true,\"ticks\":\"\",\"zerolinecolor\":\"#EBF0F8\"},\"zaxis\":{\"backgroundcolor\":\"white\",\"gridcolor\":\"#DFE8F3\",\"gridwidth\":2,\"linecolor\":\"#EBF0F8\",\"showbackground\":true,\"ticks\":\"\",\"zerolinecolor\":\"#EBF0F8\"}},\"shapedefaults\":{\"line\":{\"color\":\"#2a3f5f\"}},\"ternary\":{\"aaxis\":{\"gridcolor\":\"#DFE8F3\",\"linecolor\":\"#A2B1C6\",\"ticks\":\"\"},\"baxis\":{\"gridcolor\":\"#DFE8F3\",\"linecolor\":\"#A2B1C6\",\"ticks\":\"\"},\"bgcolor\":\"white\",\"caxis\":{\"gridcolor\":\"#DFE8F3\",\"linecolor\":\"#A2B1C6\",\"ticks\":\"\"}},\"title\":{\"x\":0.05},\"xaxis\":{\"automargin\":true,\"gridcolor\":\"#EBF0F8\",\"linecolor\":\"#EBF0F8\",\"ticks\":\"\",\"title\":{\"standoff\":15},\"zerolinecolor\":\"#EBF0F8\",\"zerolinewidth\":2},\"yaxis\":{\"automargin\":true,\"gridcolor\":\"#EBF0F8\",\"linecolor\":\"#EBF0F8\",\"ticks\":\"\",\"title\":{\"standoff\":15},\"zerolinecolor\":\"#EBF0F8\",\"zerolinewidth\":2}}},\"xaxis\":{\"anchor\":\"y\",\"domain\":[0.0,0.175],\"showgrid\":true},\"yaxis\":{\"anchor\":\"x\",\"domain\":[0.8888888888888888,1.0],\"showgrid\":true},\"xaxis2\":{\"anchor\":\"y2\",\"domain\":[0.275,0.45],\"showgrid\":true},\"yaxis2\":{\"anchor\":\"x2\",\"domain\":[0.8888888888888888,1.0],\"showgrid\":true},\"xaxis3\":{\"anchor\":\"y3\",\"domain\":[0.55,0.7250000000000001],\"showgrid\":true},\"yaxis3\":{\"anchor\":\"x3\",\"domain\":[0.8888888888888888,1.0],\"showgrid\":true},\"xaxis4\":{\"anchor\":\"y4\",\"domain\":[0.825,1.0],\"showgrid\":true},\"yaxis4\":{\"anchor\":\"x4\",\"domain\":[0.8888888888888888,1.0],\"showgrid\":true},\"xaxis5\":{\"anchor\":\"y5\",\"domain\":[0.0,0.175],\"showgrid\":true},\"yaxis5\":{\"anchor\":\"x5\",\"domain\":[0.7111111111111111,0.8222222222222223],\"showgrid\":true},\"xaxis6\":{\"anchor\":\"y6\",\"domain\":[0.275,0.45],\"showgrid\":true},\"yaxis6\":{\"anchor\":\"x6\",\"domain\":[0.7111111111111111,0.8222222222222223],\"showgrid\":true},\"xaxis7\":{\"anchor\":\"y7\",\"domain\":[0.55,0.7250000000000001],\"showgrid\":true},\"yaxis7\":{\"anchor\":\"x7\",\"domain\":[0.7111111111111111,0.8222222222222223],\"showgrid\":true},\"xaxis8\":{\"anchor\":\"y8\",\"domain\":[0.825,1.0],\"showgrid\":true},\"yaxis8\":{\"anchor\":\"x8\",\"domain\":[0.7111111111111111,0.8222222222222223],\"showgrid\":true},\"xaxis9\":{\"anchor\":\"y9\",\"domain\":[0.0,0.175],\"showgrid\":true},\"yaxis9\":{\"anchor\":\"x9\",\"domain\":[0.5333333333333334,0.6444444444444446],\"showgrid\":true},\"xaxis10\":{\"anchor\":\"y10\",\"domain\":[0.275,0.45],\"showgrid\":true},\"yaxis10\":{\"anchor\":\"x10\",\"domain\":[0.5333333333333334,0.6444444444444446],\"showgrid\":true},\"xaxis11\":{\"anchor\":\"y11\",\"domain\":[0.55,0.7250000000000001],\"showgrid\":true},\"yaxis11\":{\"anchor\":\"x11\",\"domain\":[0.5333333333333334,0.6444444444444446],\"showgrid\":true},\"xaxis12\":{\"anchor\":\"y12\",\"domain\":[0.825,1.0],\"showgrid\":true},\"yaxis12\":{\"anchor\":\"x12\",\"domain\":[0.5333333333333334,0.6444444444444446],\"showgrid\":true},\"xaxis13\":{\"anchor\":\"y13\",\"domain\":[0.0,0.175],\"showgrid\":true},\"yaxis13\":{\"anchor\":\"x13\",\"domain\":[0.35555555555555557,0.4666666666666667],\"showgrid\":true},\"xaxis14\":{\"anchor\":\"y14\",\"domain\":[0.275,0.45],\"showgrid\":true},\"yaxis14\":{\"anchor\":\"x14\",\"domain\":[0.35555555555555557,0.4666666666666667],\"showgrid\":true},\"xaxis15\":{\"anchor\":\"y15\",\"domain\":[0.55,0.7250000000000001],\"showgrid\":true},\"yaxis15\":{\"anchor\":\"x15\",\"domain\":[0.35555555555555557,0.4666666666666667],\"showgrid\":true},\"xaxis16\":{\"anchor\":\"y16\",\"domain\":[0.825,1.0],\"showgrid\":true},\"yaxis16\":{\"anchor\":\"x16\",\"domain\":[0.35555555555555557,0.4666666666666667],\"showgrid\":true},\"xaxis17\":{\"anchor\":\"y17\",\"domain\":[0.0,0.175],\"showgrid\":true},\"yaxis17\":{\"anchor\":\"x17\",\"domain\":[0.17777777777777778,0.2888888888888889],\"showgrid\":true},\"xaxis18\":{\"anchor\":\"y18\",\"domain\":[0.275,0.45],\"showgrid\":true},\"yaxis18\":{\"anchor\":\"x18\",\"domain\":[0.17777777777777778,0.2888888888888889],\"showgrid\":true},\"xaxis19\":{\"anchor\":\"y19\",\"domain\":[0.55,0.7250000000000001],\"showgrid\":true},\"yaxis19\":{\"anchor\":\"x19\",\"domain\":[0.17777777777777778,0.2888888888888889],\"showgrid\":true},\"xaxis20\":{\"anchor\":\"y20\",\"domain\":[0.825,1.0],\"showgrid\":true},\"yaxis20\":{\"anchor\":\"x20\",\"domain\":[0.17777777777777778,0.2888888888888889],\"showgrid\":true},\"xaxis21\":{\"anchor\":\"y21\",\"domain\":[0.0,0.175],\"showgrid\":true},\"yaxis21\":{\"anchor\":\"x21\",\"domain\":[0.0,0.11111111111111112],\"showgrid\":true},\"xaxis22\":{\"anchor\":\"y22\",\"domain\":[0.275,0.45],\"showgrid\":true},\"yaxis22\":{\"anchor\":\"x22\",\"domain\":[0.0,0.11111111111111112],\"showgrid\":true},\"xaxis23\":{\"anchor\":\"y23\",\"domain\":[0.55,0.7250000000000001],\"showgrid\":true},\"yaxis23\":{\"anchor\":\"x23\",\"domain\":[0.0,0.11111111111111112],\"showgrid\":true},\"xaxis24\":{\"anchor\":\"y24\",\"domain\":[0.825,1.0],\"showgrid\":true},\"yaxis24\":{\"anchor\":\"x24\",\"domain\":[0.0,0.11111111111111112],\"showgrid\":true},\"annotations\":[{\"font\":{\"size\":16},\"showarrow\":false,\"text\":\"Topic 0\",\"x\":0.0875,\"xanchor\":\"center\",\"xref\":\"paper\",\"y\":1.0,\"yanchor\":\"bottom\",\"yref\":\"paper\"},{\"font\":{\"size\":16},\"showarrow\":false,\"text\":\"Topic 1\",\"x\":0.36250000000000004,\"xanchor\":\"center\",\"xref\":\"paper\",\"y\":1.0,\"yanchor\":\"bottom\",\"yref\":\"paper\"},{\"font\":{\"size\":16},\"showarrow\":false,\"text\":\"Topic 2\",\"x\":0.6375000000000001,\"xanchor\":\"center\",\"xref\":\"paper\",\"y\":1.0,\"yanchor\":\"bottom\",\"yref\":\"paper\"},{\"font\":{\"size\":16},\"showarrow\":false,\"text\":\"Topic 3\",\"x\":0.9125,\"xanchor\":\"center\",\"xref\":\"paper\",\"y\":1.0,\"yanchor\":\"bottom\",\"yref\":\"paper\"},{\"font\":{\"size\":16},\"showarrow\":false,\"text\":\"Topic 4\",\"x\":0.0875,\"xanchor\":\"center\",\"xref\":\"paper\",\"y\":0.8222222222222223,\"yanchor\":\"bottom\",\"yref\":\"paper\"},{\"font\":{\"size\":16},\"showarrow\":false,\"text\":\"Topic 5\",\"x\":0.36250000000000004,\"xanchor\":\"center\",\"xref\":\"paper\",\"y\":0.8222222222222223,\"yanchor\":\"bottom\",\"yref\":\"paper\"},{\"font\":{\"size\":16},\"showarrow\":false,\"text\":\"Topic 6\",\"x\":0.6375000000000001,\"xanchor\":\"center\",\"xref\":\"paper\",\"y\":0.8222222222222223,\"yanchor\":\"bottom\",\"yref\":\"paper\"},{\"font\":{\"size\":16},\"showarrow\":false,\"text\":\"Topic 7\",\"x\":0.9125,\"xanchor\":\"center\",\"xref\":\"paper\",\"y\":0.8222222222222223,\"yanchor\":\"bottom\",\"yref\":\"paper\"},{\"font\":{\"size\":16},\"showarrow\":false,\"text\":\"Topic 8\",\"x\":0.0875,\"xanchor\":\"center\",\"xref\":\"paper\",\"y\":0.6444444444444446,\"yanchor\":\"bottom\",\"yref\":\"paper\"},{\"font\":{\"size\":16},\"showarrow\":false,\"text\":\"Topic 9\",\"x\":0.36250000000000004,\"xanchor\":\"center\",\"xref\":\"paper\",\"y\":0.6444444444444446,\"yanchor\":\"bottom\",\"yref\":\"paper\"},{\"font\":{\"size\":16},\"showarrow\":false,\"text\":\"Topic 10\",\"x\":0.6375000000000001,\"xanchor\":\"center\",\"xref\":\"paper\",\"y\":0.6444444444444446,\"yanchor\":\"bottom\",\"yref\":\"paper\"},{\"font\":{\"size\":16},\"showarrow\":false,\"text\":\"Topic 11\",\"x\":0.9125,\"xanchor\":\"center\",\"xref\":\"paper\",\"y\":0.6444444444444446,\"yanchor\":\"bottom\",\"yref\":\"paper\"},{\"font\":{\"size\":16},\"showarrow\":false,\"text\":\"Topic 12\",\"x\":0.0875,\"xanchor\":\"center\",\"xref\":\"paper\",\"y\":0.4666666666666667,\"yanchor\":\"bottom\",\"yref\":\"paper\"},{\"font\":{\"size\":16},\"showarrow\":false,\"text\":\"Topic 13\",\"x\":0.36250000000000004,\"xanchor\":\"center\",\"xref\":\"paper\",\"y\":0.4666666666666667,\"yanchor\":\"bottom\",\"yref\":\"paper\"},{\"font\":{\"size\":16},\"showarrow\":false,\"text\":\"Topic 14\",\"x\":0.6375000000000001,\"xanchor\":\"center\",\"xref\":\"paper\",\"y\":0.4666666666666667,\"yanchor\":\"bottom\",\"yref\":\"paper\"},{\"font\":{\"size\":16},\"showarrow\":false,\"text\":\"Topic 15\",\"x\":0.9125,\"xanchor\":\"center\",\"xref\":\"paper\",\"y\":0.4666666666666667,\"yanchor\":\"bottom\",\"yref\":\"paper\"},{\"font\":{\"size\":16},\"showarrow\":false,\"text\":\"Topic 16\",\"x\":0.0875,\"xanchor\":\"center\",\"xref\":\"paper\",\"y\":0.2888888888888889,\"yanchor\":\"bottom\",\"yref\":\"paper\"},{\"font\":{\"size\":16},\"showarrow\":false,\"text\":\"Topic 17\",\"x\":0.36250000000000004,\"xanchor\":\"center\",\"xref\":\"paper\",\"y\":0.2888888888888889,\"yanchor\":\"bottom\",\"yref\":\"paper\"},{\"font\":{\"size\":16},\"showarrow\":false,\"text\":\"Topic 18\",\"x\":0.6375000000000001,\"xanchor\":\"center\",\"xref\":\"paper\",\"y\":0.2888888888888889,\"yanchor\":\"bottom\",\"yref\":\"paper\"},{\"font\":{\"size\":16},\"showarrow\":false,\"text\":\"Topic 19\",\"x\":0.9125,\"xanchor\":\"center\",\"xref\":\"paper\",\"y\":0.2888888888888889,\"yanchor\":\"bottom\",\"yref\":\"paper\"},{\"font\":{\"size\":16},\"showarrow\":false,\"text\":\"Topic 20\",\"x\":0.0875,\"xanchor\":\"center\",\"xref\":\"paper\",\"y\":0.11111111111111112,\"yanchor\":\"bottom\",\"yref\":\"paper\"}],\"title\":{\"font\":{\"size\":22,\"color\":\"Black\"},\"text\":\"Topic Word Scores\",\"x\":0.5,\"xanchor\":\"center\",\"yanchor\":\"top\"},\"hoverlabel\":{\"font\":{\"size\":16,\"family\":\"Rockwell\"},\"bgcolor\":\"white\"},\"showlegend\":false,\"width\":1000,\"height\":1500},                        {\"responsive\": true}                    )                };            </script>        </div>"
      ],
      "text/plain": [
       "Figure({\n",
       "    'data': [{'marker': {'color': '#D55E00'},\n",
       "              'orientation': 'h',\n",
       "              'type': 'bar',\n",
       "              'x': [0.029917385608211687, 0.03209704372720085,\n",
       "                    0.033931086447938935, 0.03507404424454232, 0.03680430491041335,\n",
       "                    0.03879842703861958, 0.03924528475893372, 0.03980631915795096,\n",
       "                    0.04043724712112707, 0.06999920378431643],\n",
       "              'xaxis': 'x',\n",
       "              'y': [entsorgen  , müllkippe  , abfall  , müllsäcke  , mehrere  ,\n",
       "                    parkplatz  , liegen  , mülleimer  , wild  , müll  ],\n",
       "              'yaxis': 'y'},\n",
       "             {'marker': {'color': '#0072B2'},\n",
       "              'orientation': 'h',\n",
       "              'type': 'bar',\n",
       "              'x': [0.02643675237723817, 0.02690526476694963,\n",
       "                    0.028999957469920665, 0.030294381725741774,\n",
       "                    0.03145006843003423, 0.037469301266646736,\n",
       "                    0.041182919816943823, 0.049088711224438863,\n",
       "                    0.06301190670088631, 0.0771930498370068],\n",
       "              'xaxis': 'x2',\n",
       "              'y': [sensor  , fußgänger  , stadteinwärts  , funktionieren  ,\n",
       "                    leuchten  , richtung  , schlaglöch  , signal  , straße  , ampel\n",
       "                    ],\n",
       "              'yaxis': 'y2'},\n",
       "             {'marker': {'color': '#CC79A7'},\n",
       "              'orientation': 'h',\n",
       "              'type': 'bar',\n",
       "              'x': [0.06530375925620578, 0.08802046055011944, 0.09308569869822694,\n",
       "                    0.15876107103988582, 0.17261410504114755, 0.17704440649923772,\n",
       "                    0.17704440649923772, 0.17780274170225968, 0.18198144921681006,\n",
       "                    0.18393306274876378],\n",
       "              'xaxis': 'x3',\n",
       "              'y': [verkehrszeich  , entfernen  , bitte  , oldenburg  , vfb  ,\n",
       "                    gmbh  , unterhaltungsfußball  , aufkleber  , werbung  , fußball\n",
       "                    ],\n",
       "              'yaxis': 'y3'},\n",
       "             {'marker': {'color': '#E69F00'},\n",
       "              'orientation': 'h',\n",
       "              'type': 'bar',\n",
       "              'x': [0.03135989141113486, 0.03135989141113486, 0.03355273771823561,\n",
       "                    0.035388940486267347, 0.03647077748299165, 0.03912361712489884,\n",
       "                    0.03919986426391858, 0.04380405184136061, 0.04803214441617477,\n",
       "                    0.049743874736373324],\n",
       "              'xaxis': 'x4',\n",
       "              'y': [verkehrsschild  , ragen  , radfahr  , sicht  , führen  ,\n",
       "                    gefährden  , beschädigen  , straße  , auto  , gefährlich  ],\n",
       "              'yaxis': 'y4'},\n",
       "             {'marker': {'color': '#56B4E9'},\n",
       "              'orientation': 'h',\n",
       "              'type': 'bar',\n",
       "              'x': [0.043122679196653003, 0.047902557831779324,\n",
       "                    0.04802655395027013, 0.04906224119439943, 0.04972997090424176,\n",
       "                    0.06438175879124569, 0.06438175879124569, 0.07359336179159914,\n",
       "                    0.07669858409006168, 0.08896131809887309],\n",
       "              'xaxis': 'x5',\n",
       "              'y': [parken  , anhänger  , öffentlich  , kennzeich  , abgemeldet  ,\n",
       "                    parkplatz  , auto  , kennzeichen  , fahrzeug  , stehen  ],\n",
       "              'yaxis': 'y5'},\n",
       "             {'marker': {'color': '#009E73'},\n",
       "              'orientation': 'h',\n",
       "              'type': 'bar',\n",
       "              'x': [0.04216610360713883, 0.04216610360713883, 0.04216610360713883,\n",
       "                    0.051586457869798555, 0.05426677595991896, 0.06165105612809547,\n",
       "                    0.07453741572511631, 0.07453741572511631, 0.07453741572511631,\n",
       "                    0.08969356072194447],\n",
       "              'xaxis': 'x6',\n",
       "              'y': [beeteinfassunge  , baumhaus  , beklebter  , schild  , vfb  ,\n",
       "                    kaputt  , drückampel  , mast  , gebotszeich  , sperrmüll  ],\n",
       "              'yaxis': 'y6'},\n",
       "             {'marker': {'color': '#F0E442'},\n",
       "              'orientation': 'h',\n",
       "              'type': 'bar',\n",
       "              'x': [0.03178185762392762, 0.03178185762392762, 0.03178185762392762,\n",
       "                    0.03470124012722986, 0.035066333542078255,\n",
       "                    0.037544812166358084, 0.03988601723290737, 0.04802780524442777,\n",
       "                    0.05760361382644608, 0.0670362750360864],\n",
       "              'xaxis': 'x7',\n",
       "              'y': [scooter  , fahrräder  , bolen  , gefährlich  , ausweichen  ,\n",
       "                    fußweg  , rollstuhlfahrer  , fahrradweg  , radfahrer  , fahrrad\n",
       "                    ],\n",
       "              'yaxis': 'y7'},\n",
       "             {'marker': {'color': '#D55E00'},\n",
       "              'orientation': 'h',\n",
       "              'type': 'bar',\n",
       "              'x': [0.034916198063924916, 0.034916198063924916,\n",
       "                    0.034916198063924916, 0.043319595917249806,\n",
       "                    0.04438310213004469, 0.04835910562046129, 0.051571493542151084,\n",
       "                    0.0606903518028956, 0.06669593339813888, 0.18221415356461046],\n",
       "              'xaxis': 'x8',\n",
       "              'y': [wahrscheinlich  , lkw  , busverkehr  , glasscherben  ,\n",
       "                    stadteinwärts  , bushaltestell  , liegen  , schwelle  , bus  ,\n",
       "                    bushaltestellen  ],\n",
       "              'yaxis': 'y8'},\n",
       "             {'marker': {'color': '#0072B2'},\n",
       "              'orientation': 'h',\n",
       "              'type': 'bar',\n",
       "              'x': [0.04076238772150213, 0.04188908600133675, 0.04718664455320354,\n",
       "                    0.04925919049664585, 0.04925919049664585, 0.05334911480833198,\n",
       "                    0.05334911480833198, 0.05787108466063002, 0.0721218085477468,\n",
       "                    0.10190596930375534],\n",
       "              'xaxis': 'x9',\n",
       "              'y': [tüt  , müllkippe  , ablegen  , altglascontainer  , glascontain\n",
       "                    , altglas  , papier  , ecke  , müll  , glascontainer  ],\n",
       "              'yaxis': 'y9'},\n",
       "             {'marker': {'color': '#CC79A7'},\n",
       "              'orientation': 'h',\n",
       "              'type': 'bar',\n",
       "              'x': [0.04470881057306488, 0.045962465387652106,\n",
       "                    0.05810352141450557, 0.05810352141450557, 0.059171100779507525,\n",
       "                    0.059171100779507525, 0.07067316190293871, 0.08509519419710393,\n",
       "                    0.08834145237867339, 0.09792915098946245],\n",
       "              'xaxis': 'x10',\n",
       "              'y': [fuß  , wasserzug  , verstopfen  , gully  , abfließen  ,\n",
       "                    abfluss  , entwässerung  , wasser  , laufen  , regenwasser  ],\n",
       "              'yaxis': 'y10'},\n",
       "             {'marker': {'color': '#E69F00'},\n",
       "              'orientation': 'h',\n",
       "              'type': 'bar',\n",
       "              'x': [0.055928392265794984, 0.05644973477981968,\n",
       "                    0.05834093230913732, 0.06512792300563244, 0.06512792300563244,\n",
       "                    0.07024636836405222, 0.07588433882793569, 0.07820411681755592,\n",
       "                    0.08681778275272638, 0.2249481962909863],\n",
       "              'xaxis': 'x11',\n",
       "              'y': [containern  , sehen  , autobahnbrücken  , vollkommen  ,\n",
       "                    kreyenbrücker  , wasser  , wasserzug  , autobahnbrücke  ,\n",
       "                    liegen  , brücke  ],\n",
       "              'yaxis': 'y11'},\n",
       "             {'marker': {'color': '#56B4E9'},\n",
       "              'orientation': 'h',\n",
       "              'type': 'bar',\n",
       "              'x': [0.027850567265639312, 0.029877983091835467,\n",
       "                    0.029877983091835467, 0.03027620154764716, 0.03205127095232097,\n",
       "                    0.03550785244763038, 0.03732330972245859, 0.03732330972245859,\n",
       "                    0.03865561191576895, 0.04684050228890148],\n",
       "              'xaxis': 'x12',\n",
       "              'y': [rechts  , glas  , platz  , spielplatz  , container  ,\n",
       "                    oldenburg  , heckklappe  , gemeinsam  , grundschule  , herr  ],\n",
       "              'yaxis': 'y12'},\n",
       "             {'marker': {'color': '#009E73'},\n",
       "              'orientation': 'h',\n",
       "              'type': 'bar',\n",
       "              'x': [0.07622334113598173, 0.07622334113598173, 0.07622334113598173,\n",
       "                    0.08217692136614556, 0.08747183466247171, 0.1244110324081953,\n",
       "                    0.1244110324081953, 0.14912277479940342, 0.18800628035852923,\n",
       "                    0.5221981362307371],\n",
       "              'xaxis': 'x13',\n",
       "              'y': [etage  , eingangsbereich  , abzweigung  , entsorgen  , erneut\n",
       "                    , gang  , müllablage  , abfall  , müllentsorgung  , illegal  ],\n",
       "              'yaxis': 'y13'},\n",
       "             {'marker': {'color': '#F0E442'},\n",
       "              'orientation': 'h',\n",
       "              'type': 'bar',\n",
       "              'x': [0.05218481930134161, 0.053285660211693876,\n",
       "                    0.05389658635134126, 0.0545141087825197, 0.05473841467313229,\n",
       "                    0.05473841467313229, 0.05473841467313229, 0.06569247210892128,\n",
       "                    0.07581297287374401, 0.2539187973284618],\n",
       "              'xaxis': 'x14',\n",
       "              'y': [kurve  , fahren  , schlaglöch  , loch  , vorschlagen  , risse\n",
       "                    , anstelle  , cm  , schließen  , asphalt  ],\n",
       "              'yaxis': 'y14'},\n",
       "             {'marker': {'color': '#D55E00'},\n",
       "              'orientation': 'h',\n",
       "              'type': 'bar',\n",
       "              'x': [0.061301328498897904, 0.06512792300563244,\n",
       "                    0.06512792300563244, 0.07053540682712349, 0.07053540682712349,\n",
       "                    0.07053540682712349, 0.07053540682712349, 0.07542875357379365,\n",
       "                    0.08681329345182484, 0.16168168552622658],\n",
       "              'xaxis': 'x15',\n",
       "              'y': [stuhl  , erstmals  , bürostuhl  , ausrangiert  ,\n",
       "                    sitzgelegenheit  , naturschutzgebiet  , mittag  , woche  , ca\n",
       "                    , sofa  ],\n",
       "              'yaxis': 'y15'},\n",
       "             {'marker': {'color': '#0072B2'},\n",
       "              'orientation': 'h',\n",
       "              'type': 'bar',\n",
       "              'x': [0.04538489014203492, 0.04814104826302628,\n",
       "                    0.053265694077576496, 0.05339160108393216, 0.05455521476323805,\n",
       "                    0.06420618688697048, 0.06924884076354673, 0.07407679792243689,\n",
       "                    0.08894972065508268, 0.09013525651589613],\n",
       "              'xaxis': 'x16',\n",
       "              'y': [fahrschul  , cm  , groß  , mal  , verstopfen  , gehweg  ,\n",
       "                    befinden  , äste  , unrat  , einmündung  ],\n",
       "              'yaxis': 'y16'},\n",
       "             {'marker': {'color': '#CC79A7'},\n",
       "              'orientation': 'h',\n",
       "              'type': 'bar',\n",
       "              'x': [0.04897775875175753, 0.051549039529957014,\n",
       "                    0.05494335373356316, 0.05935310491003894, 0.06844723554379104,\n",
       "                    0.08275413871843622, 0.08275413871843622, 0.08275413871843622,\n",
       "                    0.1078806844055408, 0.22757581122855655],\n",
       "              'xaxis': 'x17',\n",
       "              'y': [straße  , stadt  , grünstreifen  , sicht  , unnötig  , efeu  ,\n",
       "                    ofenerstraße  , pfeil  , verkehr  , grün  ],\n",
       "              'yaxis': 'y17'},\n",
       "             {'marker': {'color': '#E69F00'},\n",
       "              'orientation': 'h',\n",
       "              'type': 'bar',\n",
       "              'x': [0.04538489014203492, 0.04538489014203492, 0.04538489014203492,\n",
       "                    0.04538489014203492, 0.06361320952369048, 0.06420618688697048,\n",
       "                    0.06972441180408998, 0.0802272947881023, 0.09541981428553573,\n",
       "                    0.13316423519394124],\n",
       "              'xaxis': 'x18',\n",
       "              'y': [abgebrannt  , ausserstand  , buschreihe  , bepflanzung  ,\n",
       "                    städtisch  , sehen  , pflanze  , ewe  , bäume  , baum  ],\n",
       "              'yaxis': 'y18'},\n",
       "             {'marker': {'color': '#56B4E9'},\n",
       "              'orientation': 'h',\n",
       "              'type': 'bar',\n",
       "              'x': [0.10547891878086123, 0.11423669149175435, 0.11423669149175435,\n",
       "                    0.13472128952146517, 0.15821837817129186, 0.1593966289996226,\n",
       "                    0.1811593575565968, 0.1854022582519781, 0.2322391255999766,\n",
       "                    0.3187932579992452],\n",
       "              'xaxis': 'x19',\n",
       "              'y': [schaumstoff  , spielsach  , ausmaß  , diverser  , kubikmeter\n",
       "                    , teppich  , pp  , hausmüll  , entsorgen  , containerstellplatz\n",
       "                    ],\n",
       "              'yaxis': 'y19'},\n",
       "             {'marker': {'color': '#009E73'},\n",
       "              'orientation': 'h',\n",
       "              'type': 'bar',\n",
       "              'x': [0.06736064476073259, 0.08443777830301327, 0.08728467805582522,\n",
       "                    0.08728467805582522, 0.09448694471805935, 0.09842494283814524,\n",
       "                    0.10877904328758856, 0.11652282283669865, 0.12011591061273291,\n",
       "                    0.17452975861127223],\n",
       "              'xaxis': 'x20',\n",
       "              'y': [diverser  , autobahnbrücke  , linker  , meter  , müllsack  ,\n",
       "                    liegen  , seite  , autobahnbrück  , müll  , autobahn  ],\n",
       "              'yaxis': 'y20'},\n",
       "             {'marker': {'color': '#F0E442'},\n",
       "              'orientation': 'h',\n",
       "              'type': 'bar',\n",
       "              'x': [0.09746591161650124, 0.09746591161650124, 0.09746591161650124,\n",
       "                    0.09746591161650124, 0.09746591161650124, 0.1366119745508763,\n",
       "                    0.14250490023051576, 0.2412994810465243, 0.27822860064202826,\n",
       "                    0.31565600872045557],\n",
       "              'xaxis': 'x21',\n",
       "              'y': [staukreisel  , schöpfwerk  , begehbar  , doll  , angekettet  ,\n",
       "                    umgefahren  , schauen  , sehen  , schild  , foto  ],\n",
       "              'yaxis': 'y21'}],\n",
       "    'layout': {'annotations': [{'font': {'size': 16},\n",
       "                                'showarrow': False,\n",
       "                                'text': 'Topic 0',\n",
       "                                'x': 0.0875,\n",
       "                                'xanchor': 'center',\n",
       "                                'xref': 'paper',\n",
       "                                'y': 1.0,\n",
       "                                'yanchor': 'bottom',\n",
       "                                'yref': 'paper'},\n",
       "                               {'font': {'size': 16},\n",
       "                                'showarrow': False,\n",
       "                                'text': 'Topic 1',\n",
       "                                'x': 0.36250000000000004,\n",
       "                                'xanchor': 'center',\n",
       "                                'xref': 'paper',\n",
       "                                'y': 1.0,\n",
       "                                'yanchor': 'bottom',\n",
       "                                'yref': 'paper'},\n",
       "                               {'font': {'size': 16},\n",
       "                                'showarrow': False,\n",
       "                                'text': 'Topic 2',\n",
       "                                'x': 0.6375000000000001,\n",
       "                                'xanchor': 'center',\n",
       "                                'xref': 'paper',\n",
       "                                'y': 1.0,\n",
       "                                'yanchor': 'bottom',\n",
       "                                'yref': 'paper'},\n",
       "                               {'font': {'size': 16},\n",
       "                                'showarrow': False,\n",
       "                                'text': 'Topic 3',\n",
       "                                'x': 0.9125,\n",
       "                                'xanchor': 'center',\n",
       "                                'xref': 'paper',\n",
       "                                'y': 1.0,\n",
       "                                'yanchor': 'bottom',\n",
       "                                'yref': 'paper'},\n",
       "                               {'font': {'size': 16},\n",
       "                                'showarrow': False,\n",
       "                                'text': 'Topic 4',\n",
       "                                'x': 0.0875,\n",
       "                                'xanchor': 'center',\n",
       "                                'xref': 'paper',\n",
       "                                'y': 0.8222222222222223,\n",
       "                                'yanchor': 'bottom',\n",
       "                                'yref': 'paper'},\n",
       "                               {'font': {'size': 16},\n",
       "                                'showarrow': False,\n",
       "                                'text': 'Topic 5',\n",
       "                                'x': 0.36250000000000004,\n",
       "                                'xanchor': 'center',\n",
       "                                'xref': 'paper',\n",
       "                                'y': 0.8222222222222223,\n",
       "                                'yanchor': 'bottom',\n",
       "                                'yref': 'paper'},\n",
       "                               {'font': {'size': 16},\n",
       "                                'showarrow': False,\n",
       "                                'text': 'Topic 6',\n",
       "                                'x': 0.6375000000000001,\n",
       "                                'xanchor': 'center',\n",
       "                                'xref': 'paper',\n",
       "                                'y': 0.8222222222222223,\n",
       "                                'yanchor': 'bottom',\n",
       "                                'yref': 'paper'},\n",
       "                               {'font': {'size': 16},\n",
       "                                'showarrow': False,\n",
       "                                'text': 'Topic 7',\n",
       "                                'x': 0.9125,\n",
       "                                'xanchor': 'center',\n",
       "                                'xref': 'paper',\n",
       "                                'y': 0.8222222222222223,\n",
       "                                'yanchor': 'bottom',\n",
       "                                'yref': 'paper'},\n",
       "                               {'font': {'size': 16},\n",
       "                                'showarrow': False,\n",
       "                                'text': 'Topic 8',\n",
       "                                'x': 0.0875,\n",
       "                                'xanchor': 'center',\n",
       "                                'xref': 'paper',\n",
       "                                'y': 0.6444444444444446,\n",
       "                                'yanchor': 'bottom',\n",
       "                                'yref': 'paper'},\n",
       "                               {'font': {'size': 16},\n",
       "                                'showarrow': False,\n",
       "                                'text': 'Topic 9',\n",
       "                                'x': 0.36250000000000004,\n",
       "                                'xanchor': 'center',\n",
       "                                'xref': 'paper',\n",
       "                                'y': 0.6444444444444446,\n",
       "                                'yanchor': 'bottom',\n",
       "                                'yref': 'paper'},\n",
       "                               {'font': {'size': 16},\n",
       "                                'showarrow': False,\n",
       "                                'text': 'Topic 10',\n",
       "                                'x': 0.6375000000000001,\n",
       "                                'xanchor': 'center',\n",
       "                                'xref': 'paper',\n",
       "                                'y': 0.6444444444444446,\n",
       "                                'yanchor': 'bottom',\n",
       "                                'yref': 'paper'},\n",
       "                               {'font': {'size': 16},\n",
       "                                'showarrow': False,\n",
       "                                'text': 'Topic 11',\n",
       "                                'x': 0.9125,\n",
       "                                'xanchor': 'center',\n",
       "                                'xref': 'paper',\n",
       "                                'y': 0.6444444444444446,\n",
       "                                'yanchor': 'bottom',\n",
       "                                'yref': 'paper'},\n",
       "                               {'font': {'size': 16},\n",
       "                                'showarrow': False,\n",
       "                                'text': 'Topic 12',\n",
       "                                'x': 0.0875,\n",
       "                                'xanchor': 'center',\n",
       "                                'xref': 'paper',\n",
       "                                'y': 0.4666666666666667,\n",
       "                                'yanchor': 'bottom',\n",
       "                                'yref': 'paper'},\n",
       "                               {'font': {'size': 16},\n",
       "                                'showarrow': False,\n",
       "                                'text': 'Topic 13',\n",
       "                                'x': 0.36250000000000004,\n",
       "                                'xanchor': 'center',\n",
       "                                'xref': 'paper',\n",
       "                                'y': 0.4666666666666667,\n",
       "                                'yanchor': 'bottom',\n",
       "                                'yref': 'paper'},\n",
       "                               {'font': {'size': 16},\n",
       "                                'showarrow': False,\n",
       "                                'text': 'Topic 14',\n",
       "                                'x': 0.6375000000000001,\n",
       "                                'xanchor': 'center',\n",
       "                                'xref': 'paper',\n",
       "                                'y': 0.4666666666666667,\n",
       "                                'yanchor': 'bottom',\n",
       "                                'yref': 'paper'},\n",
       "                               {'font': {'size': 16},\n",
       "                                'showarrow': False,\n",
       "                                'text': 'Topic 15',\n",
       "                                'x': 0.9125,\n",
       "                                'xanchor': 'center',\n",
       "                                'xref': 'paper',\n",
       "                                'y': 0.4666666666666667,\n",
       "                                'yanchor': 'bottom',\n",
       "                                'yref': 'paper'},\n",
       "                               {'font': {'size': 16},\n",
       "                                'showarrow': False,\n",
       "                                'text': 'Topic 16',\n",
       "                                'x': 0.0875,\n",
       "                                'xanchor': 'center',\n",
       "                                'xref': 'paper',\n",
       "                                'y': 0.2888888888888889,\n",
       "                                'yanchor': 'bottom',\n",
       "                                'yref': 'paper'},\n",
       "                               {'font': {'size': 16},\n",
       "                                'showarrow': False,\n",
       "                                'text': 'Topic 17',\n",
       "                                'x': 0.36250000000000004,\n",
       "                                'xanchor': 'center',\n",
       "                                'xref': 'paper',\n",
       "                                'y': 0.2888888888888889,\n",
       "                                'yanchor': 'bottom',\n",
       "                                'yref': 'paper'},\n",
       "                               {'font': {'size': 16},\n",
       "                                'showarrow': False,\n",
       "                                'text': 'Topic 18',\n",
       "                                'x': 0.6375000000000001,\n",
       "                                'xanchor': 'center',\n",
       "                                'xref': 'paper',\n",
       "                                'y': 0.2888888888888889,\n",
       "                                'yanchor': 'bottom',\n",
       "                                'yref': 'paper'},\n",
       "                               {'font': {'size': 16},\n",
       "                                'showarrow': False,\n",
       "                                'text': 'Topic 19',\n",
       "                                'x': 0.9125,\n",
       "                                'xanchor': 'center',\n",
       "                                'xref': 'paper',\n",
       "                                'y': 0.2888888888888889,\n",
       "                                'yanchor': 'bottom',\n",
       "                                'yref': 'paper'},\n",
       "                               {'font': {'size': 16},\n",
       "                                'showarrow': False,\n",
       "                                'text': 'Topic 20',\n",
       "                                'x': 0.0875,\n",
       "                                'xanchor': 'center',\n",
       "                                'xref': 'paper',\n",
       "                                'y': 0.11111111111111112,\n",
       "                                'yanchor': 'bottom',\n",
       "                                'yref': 'paper'}],\n",
       "               'height': 1500,\n",
       "               'hoverlabel': {'bgcolor': 'white', 'font': {'family': 'Rockwell', 'size': 16}},\n",
       "               'showlegend': False,\n",
       "               'template': '...',\n",
       "               'title': {'font': {'color': 'Black', 'size': 22},\n",
       "                         'text': 'Topic Word Scores',\n",
       "                         'x': 0.5,\n",
       "                         'xanchor': 'center',\n",
       "                         'yanchor': 'top'},\n",
       "               'width': 1000,\n",
       "               'xaxis': {'anchor': 'y', 'domain': [0.0, 0.175], 'showgrid': True},\n",
       "               'xaxis10': {'anchor': 'y10', 'domain': [0.275, 0.45], 'showgrid': True},\n",
       "               'xaxis11': {'anchor': 'y11', 'domain': [0.55, 0.7250000000000001], 'showgrid': True},\n",
       "               'xaxis12': {'anchor': 'y12', 'domain': [0.825, 1.0], 'showgrid': True},\n",
       "               'xaxis13': {'anchor': 'y13', 'domain': [0.0, 0.175], 'showgrid': True},\n",
       "               'xaxis14': {'anchor': 'y14', 'domain': [0.275, 0.45], 'showgrid': True},\n",
       "               'xaxis15': {'anchor': 'y15', 'domain': [0.55, 0.7250000000000001], 'showgrid': True},\n",
       "               'xaxis16': {'anchor': 'y16', 'domain': [0.825, 1.0], 'showgrid': True},\n",
       "               'xaxis17': {'anchor': 'y17', 'domain': [0.0, 0.175], 'showgrid': True},\n",
       "               'xaxis18': {'anchor': 'y18', 'domain': [0.275, 0.45], 'showgrid': True},\n",
       "               'xaxis19': {'anchor': 'y19', 'domain': [0.55, 0.7250000000000001], 'showgrid': True},\n",
       "               'xaxis2': {'anchor': 'y2', 'domain': [0.275, 0.45], 'showgrid': True},\n",
       "               'xaxis20': {'anchor': 'y20', 'domain': [0.825, 1.0], 'showgrid': True},\n",
       "               'xaxis21': {'anchor': 'y21', 'domain': [0.0, 0.175], 'showgrid': True},\n",
       "               'xaxis22': {'anchor': 'y22', 'domain': [0.275, 0.45], 'showgrid': True},\n",
       "               'xaxis23': {'anchor': 'y23', 'domain': [0.55, 0.7250000000000001], 'showgrid': True},\n",
       "               'xaxis24': {'anchor': 'y24', 'domain': [0.825, 1.0], 'showgrid': True},\n",
       "               'xaxis3': {'anchor': 'y3', 'domain': [0.55, 0.7250000000000001], 'showgrid': True},\n",
       "               'xaxis4': {'anchor': 'y4', 'domain': [0.825, 1.0], 'showgrid': True},\n",
       "               'xaxis5': {'anchor': 'y5', 'domain': [0.0, 0.175], 'showgrid': True},\n",
       "               'xaxis6': {'anchor': 'y6', 'domain': [0.275, 0.45], 'showgrid': True},\n",
       "               'xaxis7': {'anchor': 'y7', 'domain': [0.55, 0.7250000000000001], 'showgrid': True},\n",
       "               'xaxis8': {'anchor': 'y8', 'domain': [0.825, 1.0], 'showgrid': True},\n",
       "               'xaxis9': {'anchor': 'y9', 'domain': [0.0, 0.175], 'showgrid': True},\n",
       "               'yaxis': {'anchor': 'x', 'domain': [0.8888888888888888, 1.0], 'showgrid': True},\n",
       "               'yaxis10': {'anchor': 'x10', 'domain': [0.5333333333333334, 0.6444444444444446], 'showgrid': True},\n",
       "               'yaxis11': {'anchor': 'x11', 'domain': [0.5333333333333334, 0.6444444444444446], 'showgrid': True},\n",
       "               'yaxis12': {'anchor': 'x12', 'domain': [0.5333333333333334, 0.6444444444444446], 'showgrid': True},\n",
       "               'yaxis13': {'anchor': 'x13', 'domain': [0.35555555555555557, 0.4666666666666667], 'showgrid': True},\n",
       "               'yaxis14': {'anchor': 'x14', 'domain': [0.35555555555555557, 0.4666666666666667], 'showgrid': True},\n",
       "               'yaxis15': {'anchor': 'x15', 'domain': [0.35555555555555557, 0.4666666666666667], 'showgrid': True},\n",
       "               'yaxis16': {'anchor': 'x16', 'domain': [0.35555555555555557, 0.4666666666666667], 'showgrid': True},\n",
       "               'yaxis17': {'anchor': 'x17', 'domain': [0.17777777777777778, 0.2888888888888889], 'showgrid': True},\n",
       "               'yaxis18': {'anchor': 'x18', 'domain': [0.17777777777777778, 0.2888888888888889], 'showgrid': True},\n",
       "               'yaxis19': {'anchor': 'x19', 'domain': [0.17777777777777778, 0.2888888888888889], 'showgrid': True},\n",
       "               'yaxis2': {'anchor': 'x2', 'domain': [0.8888888888888888, 1.0], 'showgrid': True},\n",
       "               'yaxis20': {'anchor': 'x20', 'domain': [0.17777777777777778, 0.2888888888888889], 'showgrid': True},\n",
       "               'yaxis21': {'anchor': 'x21', 'domain': [0.0, 0.11111111111111112], 'showgrid': True},\n",
       "               'yaxis22': {'anchor': 'x22', 'domain': [0.0, 0.11111111111111112], 'showgrid': True},\n",
       "               'yaxis23': {'anchor': 'x23', 'domain': [0.0, 0.11111111111111112], 'showgrid': True},\n",
       "               'yaxis24': {'anchor': 'x24', 'domain': [0.0, 0.11111111111111112], 'showgrid': True},\n",
       "               'yaxis3': {'anchor': 'x3', 'domain': [0.8888888888888888, 1.0], 'showgrid': True},\n",
       "               'yaxis4': {'anchor': 'x4', 'domain': [0.8888888888888888, 1.0], 'showgrid': True},\n",
       "               'yaxis5': {'anchor': 'x5', 'domain': [0.7111111111111111, 0.8222222222222223], 'showgrid': True},\n",
       "               'yaxis6': {'anchor': 'x6', 'domain': [0.7111111111111111, 0.8222222222222223], 'showgrid': True},\n",
       "               'yaxis7': {'anchor': 'x7', 'domain': [0.7111111111111111, 0.8222222222222223], 'showgrid': True},\n",
       "               'yaxis8': {'anchor': 'x8', 'domain': [0.7111111111111111, 0.8222222222222223], 'showgrid': True},\n",
       "               'yaxis9': {'anchor': 'x9', 'domain': [0.5333333333333334, 0.6444444444444446], 'showgrid': True}}\n",
       "})"
      ]
     },
     "execution_count": 39,
     "metadata": {},
     "output_type": "execute_result"
    }
   ],
   "source": [
    "topic_model.visualize_barchart(top_n_topics=20, topics=topic_info[topic_info.Topic != -1].Topic.tolist(), n_words=10)\n",
    "#fig = topic_model.visualize_barchart(top_n_topics=20, topics=topic_info[topic_info.Topic != -1].Topic.tolist(), n_words=10)\n",
    "#fig.write_image(\"./topic_model results/top_words_per_topic.png\", width=1200, height=800)"
   ]
  },
  {
   "cell_type": "code",
   "execution_count": 49,
   "id": "71c624d3",
   "metadata": {},
   "outputs": [],
   "source": [
    "#topic_model.visualize_topics()\n",
    "# Generate the interactive Plotly figure\n",
    "fig = topic_model.visualize_topics()\n",
    "\n",
    "# Export to HTML file (specify your desired path)\n",
    "fig.write_html(\"./topic_model_results/topic_model_visualization.html\")"
   ]
  },
  {
   "cell_type": "code",
   "execution_count": 56,
   "id": "706f8f8b",
   "metadata": {},
   "outputs": [
    {
     "ename": "ValueError",
     "evalue": "Mime type rendering requires nbformat>=4.2.0 but it is not installed",
     "output_type": "error",
     "traceback": [
      "\u001b[31m---------------------------------------------------------------------------\u001b[39m",
      "\u001b[31mValueError\u001b[39m                                Traceback (most recent call last)",
      "\u001b[36mFile \u001b[39m\u001b[32m~/HCI-project/hci-venv/lib/python3.12/site-packages/IPython/core/formatters.py:984\u001b[39m, in \u001b[36mIPythonDisplayFormatter.__call__\u001b[39m\u001b[34m(self, obj)\u001b[39m\n\u001b[32m    982\u001b[39m method = get_real_method(obj, \u001b[38;5;28mself\u001b[39m.print_method)\n\u001b[32m    983\u001b[39m \u001b[38;5;28;01mif\u001b[39;00m method \u001b[38;5;129;01mis\u001b[39;00m \u001b[38;5;129;01mnot\u001b[39;00m \u001b[38;5;28;01mNone\u001b[39;00m:\n\u001b[32m--> \u001b[39m\u001b[32m984\u001b[39m     \u001b[43mmethod\u001b[49m\u001b[43m(\u001b[49m\u001b[43m)\u001b[49m\n\u001b[32m    985\u001b[39m     \u001b[38;5;28;01mreturn\u001b[39;00m \u001b[38;5;28;01mTrue\u001b[39;00m\n",
      "\u001b[36mFile \u001b[39m\u001b[32m~/HCI-project/hci-venv/lib/python3.12/site-packages/plotly/basedatatypes.py:846\u001b[39m, in \u001b[36mBaseFigure._ipython_display_\u001b[39m\u001b[34m(self)\u001b[39m\n\u001b[32m    843\u001b[39m \u001b[38;5;28;01mimport\u001b[39;00m\u001b[38;5;250m \u001b[39m\u001b[34;01mplotly\u001b[39;00m\u001b[34;01m.\u001b[39;00m\u001b[34;01mio\u001b[39;00m\u001b[38;5;250m \u001b[39m\u001b[38;5;28;01mas\u001b[39;00m\u001b[38;5;250m \u001b[39m\u001b[34;01mpio\u001b[39;00m\n\u001b[32m    845\u001b[39m \u001b[38;5;28;01mif\u001b[39;00m pio.renderers.render_on_display \u001b[38;5;129;01mand\u001b[39;00m pio.renderers.default:\n\u001b[32m--> \u001b[39m\u001b[32m846\u001b[39m     \u001b[43mpio\u001b[49m\u001b[43m.\u001b[49m\u001b[43mshow\u001b[49m\u001b[43m(\u001b[49m\u001b[38;5;28;43mself\u001b[39;49m\u001b[43m)\u001b[49m\n\u001b[32m    847\u001b[39m \u001b[38;5;28;01melse\u001b[39;00m:\n\u001b[32m    848\u001b[39m     \u001b[38;5;28mprint\u001b[39m(\u001b[38;5;28mrepr\u001b[39m(\u001b[38;5;28mself\u001b[39m))\n",
      "\u001b[36mFile \u001b[39m\u001b[32m~/HCI-project/hci-venv/lib/python3.12/site-packages/plotly/io/_renderers.py:425\u001b[39m, in \u001b[36mshow\u001b[39m\u001b[34m(fig, renderer, validate, **kwargs)\u001b[39m\n\u001b[32m    420\u001b[39m     \u001b[38;5;28;01mraise\u001b[39;00m \u001b[38;5;167;01mValueError\u001b[39;00m(\n\u001b[32m    421\u001b[39m         \u001b[33m\"\u001b[39m\u001b[33mMime type rendering requires ipython but it is not installed\u001b[39m\u001b[33m\"\u001b[39m\n\u001b[32m    422\u001b[39m     )\n\u001b[32m    424\u001b[39m \u001b[38;5;28;01mif\u001b[39;00m \u001b[38;5;129;01mnot\u001b[39;00m nbformat \u001b[38;5;129;01mor\u001b[39;00m Version(nbformat.__version__) < Version(\u001b[33m\"\u001b[39m\u001b[33m4.2.0\u001b[39m\u001b[33m\"\u001b[39m):\n\u001b[32m--> \u001b[39m\u001b[32m425\u001b[39m     \u001b[38;5;28;01mraise\u001b[39;00m \u001b[38;5;167;01mValueError\u001b[39;00m(\n\u001b[32m    426\u001b[39m         \u001b[33m\"\u001b[39m\u001b[33mMime type rendering requires nbformat>=4.2.0 but it is not installed\u001b[39m\u001b[33m\"\u001b[39m\n\u001b[32m    427\u001b[39m     )\n\u001b[32m    429\u001b[39m display_jupyter_version_warnings()\n\u001b[32m    431\u001b[39m ipython_display.display(bundle, raw=\u001b[38;5;28;01mTrue\u001b[39;00m)\n",
      "\u001b[31mValueError\u001b[39m: Mime type rendering requires nbformat>=4.2.0 but it is not installed"
     ]
    },
    {
     "data": {
      "application/vnd.plotly.v1+json": {
       "config": {
        "plotlyServerURL": "https://plot.ly"
       },
       "data": [
        {
         "coloraxis": "coloraxis",
         "hovertemplate": "x: %{x}<br>y: %{y}<br>Similarity Score: %{z}<extra></extra>",
         "name": "0",
         "type": "heatmap",
         "x": [
          "0_müll_wild_mülleimer",
          "1_ampel_straße_signal",
          "2_fußball_werbung_aufkleber",
          "3_gefährlich_auto_straße",
          "4_stehen_fahrzeug_kennzeichen",
          "5_sperrmüll_gebotszeich_mast",
          "6_fahrrad_radfahrer_fahrrad...",
          "7_bushaltestellen_bus_schwe...",
          "8_glascontainer_müll_ecke",
          "9_regenwasser_laufen_wasser",
          "10_brücke_liegen_autobahnbr...",
          "11_herr_grundschule_gemeinsam",
          "12_illegal_müllentsorgung_a...",
          "13_asphalt_schließen_cm",
          "14_sofa_ca_woche",
          "15_einmündung_unrat_äste",
          "16_grün_verkehr_pfeil",
          "17_baum_bäume_ewe",
          "18_containerstellplatz_ents...",
          "19_autobahn_müll_autobahnbr...",
          "20_foto_schild_sehen"
         ],
         "xaxis": "x",
         "y": [
          "0_müll_wild_mülleimer",
          "1_ampel_straße_signal",
          "2_fußball_werbung_aufkleber",
          "3_gefährlich_auto_straße",
          "4_stehen_fahrzeug_kennzeichen",
          "5_sperrmüll_gebotszeich_mast",
          "6_fahrrad_radfahrer_fahrrad...",
          "7_bushaltestellen_bus_schwe...",
          "8_glascontainer_müll_ecke",
          "9_regenwasser_laufen_wasser",
          "10_brücke_liegen_autobahnbr...",
          "11_herr_grundschule_gemeinsam",
          "12_illegal_müllentsorgung_a...",
          "13_asphalt_schließen_cm",
          "14_sofa_ca_woche",
          "15_einmündung_unrat_äste",
          "16_grün_verkehr_pfeil",
          "17_baum_bäume_ewe",
          "18_containerstellplatz_ents...",
          "19_autobahn_müll_autobahnbr...",
          "20_foto_schild_sehen"
         ],
         "yaxis": "y",
         "z": {
          "bdata": "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",
          "dtype": "f4",
          "shape": "21, 21"
         }
        }
       ],
       "layout": {
        "coloraxis": {
         "colorbar": {
          "title": {
           "text": "Similarity Score"
          }
         },
         "colorscale": [
          [
           0,
           "rgb(247,252,240)"
          ],
          [
           0.125,
           "rgb(224,243,219)"
          ],
          [
           0.25,
           "rgb(204,235,197)"
          ],
          [
           0.375,
           "rgb(168,221,181)"
          ],
          [
           0.5,
           "rgb(123,204,196)"
          ],
          [
           0.625,
           "rgb(78,179,211)"
          ],
          [
           0.75,
           "rgb(43,140,190)"
          ],
          [
           0.875,
           "rgb(8,104,172)"
          ],
          [
           1,
           "rgb(8,64,129)"
          ]
         ]
        },
        "height": 800,
        "hoverlabel": {
         "bgcolor": "white",
         "font": {
          "family": "Rockwell",
          "size": 16
         }
        },
        "legend": {
         "title": {
          "text": "Trend"
         }
        },
        "margin": {
         "t": 60
        },
        "showlegend": true,
        "template": {
         "data": {
          "bar": [
           {
            "error_x": {
             "color": "#2a3f5f"
            },
            "error_y": {
             "color": "#2a3f5f"
            },
            "marker": {
             "line": {
              "color": "#E5ECF6",
              "width": 0.5
             },
             "pattern": {
              "fillmode": "overlay",
              "size": 10,
              "solidity": 0.2
             }
            },
            "type": "bar"
           }
          ],
          "barpolar": [
           {
            "marker": {
             "line": {
              "color": "#E5ECF6",
              "width": 0.5
             },
             "pattern": {
              "fillmode": "overlay",
              "size": 10,
              "solidity": 0.2
             }
            },
            "type": "barpolar"
           }
          ],
          "carpet": [
           {
            "aaxis": {
             "endlinecolor": "#2a3f5f",
             "gridcolor": "white",
             "linecolor": "white",
             "minorgridcolor": "white",
             "startlinecolor": "#2a3f5f"
            },
            "baxis": {
             "endlinecolor": "#2a3f5f",
             "gridcolor": "white",
             "linecolor": "white",
             "minorgridcolor": "white",
             "startlinecolor": "#2a3f5f"
            },
            "type": "carpet"
           }
          ],
          "choropleth": [
           {
            "colorbar": {
             "outlinewidth": 0,
             "ticks": ""
            },
            "type": "choropleth"
           }
          ],
          "contour": [
           {
            "colorbar": {
             "outlinewidth": 0,
             "ticks": ""
            },
            "colorscale": [
             [
              0,
              "#0d0887"
             ],
             [
              0.1111111111111111,
              "#46039f"
             ],
             [
              0.2222222222222222,
              "#7201a8"
             ],
             [
              0.3333333333333333,
              "#9c179e"
             ],
             [
              0.4444444444444444,
              "#bd3786"
             ],
             [
              0.5555555555555556,
              "#d8576b"
             ],
             [
              0.6666666666666666,
              "#ed7953"
             ],
             [
              0.7777777777777778,
              "#fb9f3a"
             ],
             [
              0.8888888888888888,
              "#fdca26"
             ],
             [
              1,
              "#f0f921"
             ]
            ],
            "type": "contour"
           }
          ],
          "contourcarpet": [
           {
            "colorbar": {
             "outlinewidth": 0,
             "ticks": ""
            },
            "type": "contourcarpet"
           }
          ],
          "heatmap": [
           {
            "colorbar": {
             "outlinewidth": 0,
             "ticks": ""
            },
            "colorscale": [
             [
              0,
              "#0d0887"
             ],
             [
              0.1111111111111111,
              "#46039f"
             ],
             [
              0.2222222222222222,
              "#7201a8"
             ],
             [
              0.3333333333333333,
              "#9c179e"
             ],
             [
              0.4444444444444444,
              "#bd3786"
             ],
             [
              0.5555555555555556,
              "#d8576b"
             ],
             [
              0.6666666666666666,
              "#ed7953"
             ],
             [
              0.7777777777777778,
              "#fb9f3a"
             ],
             [
              0.8888888888888888,
              "#fdca26"
             ],
             [
              1,
              "#f0f921"
             ]
            ],
            "type": "heatmap"
           }
          ],
          "histogram": [
           {
            "marker": {
             "pattern": {
              "fillmode": "overlay",
              "size": 10,
              "solidity": 0.2
             }
            },
            "type": "histogram"
           }
          ],
          "histogram2d": [
           {
            "colorbar": {
             "outlinewidth": 0,
             "ticks": ""
            },
            "colorscale": [
             [
              0,
              "#0d0887"
             ],
             [
              0.1111111111111111,
              "#46039f"
             ],
             [
              0.2222222222222222,
              "#7201a8"
             ],
             [
              0.3333333333333333,
              "#9c179e"
             ],
             [
              0.4444444444444444,
              "#bd3786"
             ],
             [
              0.5555555555555556,
              "#d8576b"
             ],
             [
              0.6666666666666666,
              "#ed7953"
             ],
             [
              0.7777777777777778,
              "#fb9f3a"
             ],
             [
              0.8888888888888888,
              "#fdca26"
             ],
             [
              1,
              "#f0f921"
             ]
            ],
            "type": "histogram2d"
           }
          ],
          "histogram2dcontour": [
           {
            "colorbar": {
             "outlinewidth": 0,
             "ticks": ""
            },
            "colorscale": [
             [
              0,
              "#0d0887"
             ],
             [
              0.1111111111111111,
              "#46039f"
             ],
             [
              0.2222222222222222,
              "#7201a8"
             ],
             [
              0.3333333333333333,
              "#9c179e"
             ],
             [
              0.4444444444444444,
              "#bd3786"
             ],
             [
              0.5555555555555556,
              "#d8576b"
             ],
             [
              0.6666666666666666,
              "#ed7953"
             ],
             [
              0.7777777777777778,
              "#fb9f3a"
             ],
             [
              0.8888888888888888,
              "#fdca26"
             ],
             [
              1,
              "#f0f921"
             ]
            ],
            "type": "histogram2dcontour"
           }
          ],
          "mesh3d": [
           {
            "colorbar": {
             "outlinewidth": 0,
             "ticks": ""
            },
            "type": "mesh3d"
           }
          ],
          "parcoords": [
           {
            "line": {
             "colorbar": {
              "outlinewidth": 0,
              "ticks": ""
             }
            },
            "type": "parcoords"
           }
          ],
          "pie": [
           {
            "automargin": true,
            "type": "pie"
           }
          ],
          "scatter": [
           {
            "fillpattern": {
             "fillmode": "overlay",
             "size": 10,
             "solidity": 0.2
            },
            "type": "scatter"
           }
          ],
          "scatter3d": [
           {
            "line": {
             "colorbar": {
              "outlinewidth": 0,
              "ticks": ""
             }
            },
            "marker": {
             "colorbar": {
              "outlinewidth": 0,
              "ticks": ""
             }
            },
            "type": "scatter3d"
           }
          ],
          "scattercarpet": [
           {
            "marker": {
             "colorbar": {
              "outlinewidth": 0,
              "ticks": ""
             }
            },
            "type": "scattercarpet"
           }
          ],
          "scattergeo": [
           {
            "marker": {
             "colorbar": {
              "outlinewidth": 0,
              "ticks": ""
             }
            },
            "type": "scattergeo"
           }
          ],
          "scattergl": [
           {
            "marker": {
             "colorbar": {
              "outlinewidth": 0,
              "ticks": ""
             }
            },
            "type": "scattergl"
           }
          ],
          "scattermap": [
           {
            "marker": {
             "colorbar": {
              "outlinewidth": 0,
              "ticks": ""
             }
            },
            "type": "scattermap"
           }
          ],
          "scattermapbox": [
           {
            "marker": {
             "colorbar": {
              "outlinewidth": 0,
              "ticks": ""
             }
            },
            "type": "scattermapbox"
           }
          ],
          "scatterpolar": [
           {
            "marker": {
             "colorbar": {
              "outlinewidth": 0,
              "ticks": ""
             }
            },
            "type": "scatterpolar"
           }
          ],
          "scatterpolargl": [
           {
            "marker": {
             "colorbar": {
              "outlinewidth": 0,
              "ticks": ""
             }
            },
            "type": "scatterpolargl"
           }
          ],
          "scatterternary": [
           {
            "marker": {
             "colorbar": {
              "outlinewidth": 0,
              "ticks": ""
             }
            },
            "type": "scatterternary"
           }
          ],
          "surface": [
           {
            "colorbar": {
             "outlinewidth": 0,
             "ticks": ""
            },
            "colorscale": [
             [
              0,
              "#0d0887"
             ],
             [
              0.1111111111111111,
              "#46039f"
             ],
             [
              0.2222222222222222,
              "#7201a8"
             ],
             [
              0.3333333333333333,
              "#9c179e"
             ],
             [
              0.4444444444444444,
              "#bd3786"
             ],
             [
              0.5555555555555556,
              "#d8576b"
             ],
             [
              0.6666666666666666,
              "#ed7953"
             ],
             [
              0.7777777777777778,
              "#fb9f3a"
             ],
             [
              0.8888888888888888,
              "#fdca26"
             ],
             [
              1,
              "#f0f921"
             ]
            ],
            "type": "surface"
           }
          ],
          "table": [
           {
            "cells": {
             "fill": {
              "color": "#EBF0F8"
             },
             "line": {
              "color": "white"
             }
            },
            "header": {
             "fill": {
              "color": "#C8D4E3"
             },
             "line": {
              "color": "white"
             }
            },
            "type": "table"
           }
          ]
         },
         "layout": {
          "annotationdefaults": {
           "arrowcolor": "#2a3f5f",
           "arrowhead": 0,
           "arrowwidth": 1
          },
          "autotypenumbers": "strict",
          "coloraxis": {
           "colorbar": {
            "outlinewidth": 0,
            "ticks": ""
           }
          },
          "colorscale": {
           "diverging": [
            [
             0,
             "#8e0152"
            ],
            [
             0.1,
             "#c51b7d"
            ],
            [
             0.2,
             "#de77ae"
            ],
            [
             0.3,
             "#f1b6da"
            ],
            [
             0.4,
             "#fde0ef"
            ],
            [
             0.5,
             "#f7f7f7"
            ],
            [
             0.6,
             "#e6f5d0"
            ],
            [
             0.7,
             "#b8e186"
            ],
            [
             0.8,
             "#7fbc41"
            ],
            [
             0.9,
             "#4d9221"
            ],
            [
             1,
             "#276419"
            ]
           ],
           "sequential": [
            [
             0,
             "#0d0887"
            ],
            [
             0.1111111111111111,
             "#46039f"
            ],
            [
             0.2222222222222222,
             "#7201a8"
            ],
            [
             0.3333333333333333,
             "#9c179e"
            ],
            [
             0.4444444444444444,
             "#bd3786"
            ],
            [
             0.5555555555555556,
             "#d8576b"
            ],
            [
             0.6666666666666666,
             "#ed7953"
            ],
            [
             0.7777777777777778,
             "#fb9f3a"
            ],
            [
             0.8888888888888888,
             "#fdca26"
            ],
            [
             1,
             "#f0f921"
            ]
           ],
           "sequentialminus": [
            [
             0,
             "#0d0887"
            ],
            [
             0.1111111111111111,
             "#46039f"
            ],
            [
             0.2222222222222222,
             "#7201a8"
            ],
            [
             0.3333333333333333,
             "#9c179e"
            ],
            [
             0.4444444444444444,
             "#bd3786"
            ],
            [
             0.5555555555555556,
             "#d8576b"
            ],
            [
             0.6666666666666666,
             "#ed7953"
            ],
            [
             0.7777777777777778,
             "#fb9f3a"
            ],
            [
             0.8888888888888888,
             "#fdca26"
            ],
            [
             1,
             "#f0f921"
            ]
           ]
          },
          "colorway": [
           "#636efa",
           "#EF553B",
           "#00cc96",
           "#ab63fa",
           "#FFA15A",
           "#19d3f3",
           "#FF6692",
           "#B6E880",
           "#FF97FF",
           "#FECB52"
          ],
          "font": {
           "color": "#2a3f5f"
          },
          "geo": {
           "bgcolor": "white",
           "lakecolor": "white",
           "landcolor": "#E5ECF6",
           "showlakes": true,
           "showland": true,
           "subunitcolor": "white"
          },
          "hoverlabel": {
           "align": "left"
          },
          "hovermode": "closest",
          "mapbox": {
           "style": "light"
          },
          "paper_bgcolor": "white",
          "plot_bgcolor": "#E5ECF6",
          "polar": {
           "angularaxis": {
            "gridcolor": "white",
            "linecolor": "white",
            "ticks": ""
           },
           "bgcolor": "#E5ECF6",
           "radialaxis": {
            "gridcolor": "white",
            "linecolor": "white",
            "ticks": ""
           }
          },
          "scene": {
           "xaxis": {
            "backgroundcolor": "#E5ECF6",
            "gridcolor": "white",
            "gridwidth": 2,
            "linecolor": "white",
            "showbackground": true,
            "ticks": "",
            "zerolinecolor": "white"
           },
           "yaxis": {
            "backgroundcolor": "#E5ECF6",
            "gridcolor": "white",
            "gridwidth": 2,
            "linecolor": "white",
            "showbackground": true,
            "ticks": "",
            "zerolinecolor": "white"
           },
           "zaxis": {
            "backgroundcolor": "#E5ECF6",
            "gridcolor": "white",
            "gridwidth": 2,
            "linecolor": "white",
            "showbackground": true,
            "ticks": "",
            "zerolinecolor": "white"
           }
          },
          "shapedefaults": {
           "line": {
            "color": "#2a3f5f"
           }
          },
          "ternary": {
           "aaxis": {
            "gridcolor": "white",
            "linecolor": "white",
            "ticks": ""
           },
           "baxis": {
            "gridcolor": "white",
            "linecolor": "white",
            "ticks": ""
           },
           "bgcolor": "#E5ECF6",
           "caxis": {
            "gridcolor": "white",
            "linecolor": "white",
            "ticks": ""
           }
          },
          "title": {
           "x": 0.05
          },
          "xaxis": {
           "automargin": true,
           "gridcolor": "white",
           "linecolor": "white",
           "ticks": "",
           "title": {
            "standoff": 15
           },
           "zerolinecolor": "white",
           "zerolinewidth": 2
          },
          "yaxis": {
           "automargin": true,
           "gridcolor": "white",
           "linecolor": "white",
           "ticks": "",
           "title": {
            "standoff": 15
           },
           "zerolinecolor": "white",
           "zerolinewidth": 2
          }
         }
        },
        "title": {
         "font": {
          "color": "Black",
          "size": 22
         },
         "text": "<b>Similarity Matrix</b>",
         "x": 0.55,
         "xanchor": "center",
         "y": 0.95,
         "yanchor": "top"
        },
        "width": 800,
        "xaxis": {
         "anchor": "y",
         "constrain": "domain",
         "domain": [
          0,
          1
         ],
         "scaleanchor": "y"
        },
        "yaxis": {
         "anchor": "x",
         "autorange": "reversed",
         "constrain": "domain",
         "domain": [
          0,
          1
         ]
        }
       }
      },
      "text/html": [
       "<div>                        <script type=\"text/javascript\">window.PlotlyConfig = {MathJaxConfig: 'local'};</script>\n",
       "        <script charset=\"utf-8\" src=\"https://cdn.plot.ly/plotly-3.0.1.min.js\"></script>                <div id=\"c0b7f1fb-05bb-473c-8ca5-c3940da05bab\" class=\"plotly-graph-div\" style=\"height:800px; width:800px;\"></div>            <script type=\"text/javascript\">                window.PLOTLYENV=window.PLOTLYENV || {};                                if (document.getElementById(\"c0b7f1fb-05bb-473c-8ca5-c3940da05bab\")) {                    Plotly.newPlot(                        \"c0b7f1fb-05bb-473c-8ca5-c3940da05bab\",                        [{\"coloraxis\":\"coloraxis\",\"name\":\"0\",\"x\":[\"0_m\\u00fcll_wild_m\\u00fclleimer\",\"1_ampel_stra\\u00dfe_signal\",\"2_fu\\u00dfball_werbung_aufkleber\",\"3_gef\\u00e4hrlich_auto_stra\\u00dfe\",\"4_stehen_fahrzeug_kennzeichen\",\"5_sperrm\\u00fcll_gebotszeich_mast\",\"6_fahrrad_radfahrer_fahrrad...\",\"7_bushaltestellen_bus_schwe...\",\"8_glascontainer_m\\u00fcll_ecke\",\"9_regenwasser_laufen_wasser\",\"10_br\\u00fccke_liegen_autobahnbr...\",\"11_herr_grundschule_gemeinsam\",\"12_illegal_m\\u00fcllentsorgung_a...\",\"13_asphalt_schlie\\u00dfen_cm\",\"14_sofa_ca_woche\",\"15_einm\\u00fcndung_unrat_\\u00e4ste\",\"16_gr\\u00fcn_verkehr_pfeil\",\"17_baum_b\\u00e4ume_ewe\",\"18_containerstellplatz_ents...\",\"19_autobahn_m\\u00fcll_autobahnbr...\",\"20_foto_schild_sehen\"],\"y\":[\"0_m\\u00fcll_wild_m\\u00fclleimer\",\"1_ampel_stra\\u00dfe_signal\",\"2_fu\\u00dfball_werbung_aufkleber\",\"3_gef\\u00e4hrlich_auto_stra\\u00dfe\",\"4_stehen_fahrzeug_kennzeichen\",\"5_sperrm\\u00fcll_gebotszeich_mast\",\"6_fahrrad_radfahrer_fahrrad...\",\"7_bushaltestellen_bus_schwe...\",\"8_glascontainer_m\\u00fcll_ecke\",\"9_regenwasser_laufen_wasser\",\"10_br\\u00fccke_liegen_autobahnbr...\",\"11_herr_grundschule_gemeinsam\",\"12_illegal_m\\u00fcllentsorgung_a...\",\"13_asphalt_schlie\\u00dfen_cm\",\"14_sofa_ca_woche\",\"15_einm\\u00fcndung_unrat_\\u00e4ste\",\"16_gr\\u00fcn_verkehr_pfeil\",\"17_baum_b\\u00e4ume_ewe\",\"18_containerstellplatz_ents...\",\"19_autobahn_m\\u00fcll_autobahnbr...\",\"20_foto_schild_sehen\"],\"z\":{\"dtype\":\"f4\",\"bdata\":\"+v9\\u002fP8Y6+D7cDY4+pA0SPzCCDD8PSQ8\\u002fhkj\\u002fPnL2GT\\u002fmJjs\\u002fKV8gPxSe0j4h\\u002ftY+DAVUP7DxCD+s7gc\\u002fhkD\\u002fPkPK+j76bxA\\u002fAKw3PwF5Rz\\u002fayPk+xjr4PgAAgD\\u002fkqd4+RhBQP6KNRz+OQRY\\u002fMygrP6hRNT\\u002fM89o+dPcRP76kPj\\u002fxwQ4\\u002fFt\\u002fDPkQzMj93vwc\\u002f3Jg0P1rnTT+7\\u002fxY\\u002fPrDmPnhULz+BrS0\\u002f3A2OPuSp3j75\\u002f38\\u002fuC+zPkbUBT8MhOY++NSWPrIbzz5wZos+GWFQPiOmsD7U6AE\\u002fkXCHPnZpij422bw+6PsCP4QprT4TckY+xyGDPliXsT61YvU+pA0SP0YQUD+4L7M+\\u002fv9\\u002fP1f5Qj+A2O0+KIg8P8CNNT+UerM+QAILP5odIj\\u002f\\u002fxq8+6D0BP8tMUT\\u002fOK+0++J32Pk7BNz8Pl\\u002fE+eMTIPhrFPT\\u002fw\\u002fgc\\u002fMIIMP6KNRz9G1AU\\u002fV\\u002flCPwEAgD\\u002fRMuw+Z1YvP07FPD+VYr4+2oLWPmLkFT9EFuk+YLTrPpb\\u002fOD8j4gM\\u002fKl4NP8K5MT+S6vk+oajqPq6VLT9aDxw\\u002fD0kPP45BFj8MhOY+gNjtPtEy7D4BAIA\\u002fpH7ePo7hzj7xuB0\\u002f9Zz9PlBkAz9mKiI\\u002fQDLjPhAD2z4nFg4\\u002fMN5PP98f9j57OBU\\u002flIMLPwez5z7FgSw\\u002fhkj\\u002fPjMoKz\\u002f41JY+KIg8P2dWLz+kft4+AQCAPxxBHD+VmLI+jrr1Pm\\u002fVGz+QpbA+fOnCPs5yLT9DY\\u002fw+7GrsPmyrFj\\u002fgT98+PmTHPsxkHD8cJfk+cvYZP6hRNT+yG88+wI01P07FPD+O4c4+HEEcPwAAgD+K7do+0A3qPlYhHD8K2rs+7Fn7PhrOHj+IvQU\\u002fEs3hPnYkID\\u002fqsN8+frrwPsrvQz9CafM+5iY7P8zz2j5wZos+lHqzPpVivj7xuB0\\u002flZiyPort2j7+\\u002f38\\u002fEmARP4t25D610+Y+yN8VP64goD4kkwM\\u002fBPv2Pjb1vD4N0\\u002fk+zR88P3h2Gz8O\\u002fv8+KV8gP3T3ET8ZYVA+QAILP9qC1j71nP0+jrr1PtAN6j4SYBE\\u002fAACAP3RKHD\\u002fyfdQ+8AnqPi5SAD+QnK0+Ql39PnA8+j7eIxE\\u002f7jEKPxjMIT\\u002fDsdQ+FJ7SPr6kPj8jprA+mh0iP2LkFT9QZAM\\u002fb9UbP1YhHD+LduQ+dEocPwEAgD8M4fA+exajPgwmDz+0uek+9EwQPxjgEz\\u002fpbvU+0snRPrRqRT8yWA4\\u002fIf7WPvHBDj\\u002fU6AE\\u002f\\u002f8avPkQW6T5mKiI\\u002fkKWwPgrauz610+Y+8n3UPgzh8D78\\u002f38\\u002fbE2rPqJQmj6LsNo+yitdPy7jzz4ciOg+Nhz1PonZ3z4H+gU\\u002fDAVUPxbfwz6RcIc+6D0BP2C06z5AMuM+fOnCPuxZ+z7I3xU\\u002f8AnqPnsWoz5sTas+\\u002f\\u002f9\\u002fP6WDyz4m\\u002fsU+W6nOPs303D6b7N0+zt70PlbJJz9\\u002fQsg+sPEIP0QzMj92aYo+y0xRP5b\\u002fOD8QA9s+znItPxrOHj+uIKA+LlIAPwwmDz+iUJo+pYPLPgEAgD+KUd4+TnrHPpq+GT+OPNo+ogDuPj9KLT\\u002fgRv4+rO4HP3e\\u002fBz822bw+zivtPiPiAz8nFg4\\u002fQ2P8Poi9BT8kkwM\\u002fkJytPrS56T6LsNo+Jv7FPopR3j4BAIA\\u002f8\\u002f8FP5Rz\\u002fj6EkuU+ZxciP5Pv\\u002fT7AeBI\\u002fhkD\\u002fPtyYND\\u002fo+wI\\u002f+J32PipeDT8w3k8\\u002f7GrsPhLN4T4E+\\u002fY+Ql39PvRMED\\u002fKK10\\u002fW6nOPk56xz7z\\u002fwU\\u002fBQCAPyhxED\\u002fIaBw\\u002f0ZTtPguy8T5M3ys\\u002fQ8r6PlrnTT+EKa0+TsE3P8K5MT\\u002ffH\\u002fY+bKsWP3YkID829bw+cDz6PhjgEz8u488+zfTcPpq+GT+Uc\\u002f4+KHEQP\\u002f\\u002f\\u002ffz9tLh4\\u002f5uTJPs9rFD+CTBk\\u002f+m8QP7v\\u002fFj8TckY+D5fxPpLq+T57OBU\\u002f4E\\u002ffPuqw3z4N0\\u002fk+3iMRP+lu9T4ciOg+m+zdPo482j6EkuU+yGgcP20uHj\\u002f9\\u002f38\\u002fwPfyPthG9z4yWf8+AKw3Pz6w5j7HIYM+eMTIPqGo6j6Ugws\\u002fPmTHPn668D7NHzw\\u002f7jEKP9LJ0T42HPU+zt70PqIA7j5nFyI\\u002f0ZTtPubkyT7A9\\u002fI+\\u002f\\u002f9\\u002fPztNHT9a4uI+AXlHP3hULz9Yl7E+GsU9P66VLT8Hs+c+zGQcP8rvQz94dhs\\u002fGMwhP7RqRT+J2d8+VsknPz9KLT+T7\\u002f0+C7LxPs9rFD\\u002fYRvc+O00dP\\u002f7\\u002ffz8ebfw+2sj5PoGtLT+1YvU+8P4HP1oPHD\\u002fFgSw\\u002fHCX5PkJp8z4O\\u002fv8+w7HUPjJYDj8H+gU\\u002ff0LIPuBG\\u002fj7AeBI\\u002fTN8rP4JMGT8yWf8+WuLiPh5t\\u002fD4AAIA\\u002f\",\"shape\":\"21, 21\"},\"type\":\"heatmap\",\"xaxis\":\"x\",\"yaxis\":\"y\",\"hovertemplate\":\"x: %{x}\\u003cbr\\u003ey: %{y}\\u003cbr\\u003eSimilarity Score: %{z}\\u003cextra\\u003e\\u003c\\u002fextra\\u003e\"}],                        {\"template\":{\"data\":{\"histogram2dcontour\":[{\"type\":\"histogram2dcontour\",\"colorbar\":{\"outlinewidth\":0,\"ticks\":\"\"},\"colorscale\":[[0.0,\"#0d0887\"],[0.1111111111111111,\"#46039f\"],[0.2222222222222222,\"#7201a8\"],[0.3333333333333333,\"#9c179e\"],[0.4444444444444444,\"#bd3786\"],[0.5555555555555556,\"#d8576b\"],[0.6666666666666666,\"#ed7953\"],[0.7777777777777778,\"#fb9f3a\"],[0.8888888888888888,\"#fdca26\"],[1.0,\"#f0f921\"]]}],\"choropleth\":[{\"type\":\"choropleth\",\"colorbar\":{\"outlinewidth\":0,\"ticks\":\"\"}}],\"histogram2d\":[{\"type\":\"histogram2d\",\"colorbar\":{\"outlinewidth\":0,\"ticks\":\"\"},\"colorscale\":[[0.0,\"#0d0887\"],[0.1111111111111111,\"#46039f\"],[0.2222222222222222,\"#7201a8\"],[0.3333333333333333,\"#9c179e\"],[0.4444444444444444,\"#bd3786\"],[0.5555555555555556,\"#d8576b\"],[0.6666666666666666,\"#ed7953\"],[0.7777777777777778,\"#fb9f3a\"],[0.8888888888888888,\"#fdca26\"],[1.0,\"#f0f921\"]]}],\"heatmap\":[{\"type\":\"heatmap\",\"colorbar\":{\"outlinewidth\":0,\"ticks\":\"\"},\"colorscale\":[[0.0,\"#0d0887\"],[0.1111111111111111,\"#46039f\"],[0.2222222222222222,\"#7201a8\"],[0.3333333333333333,\"#9c179e\"],[0.4444444444444444,\"#bd3786\"],[0.5555555555555556,\"#d8576b\"],[0.6666666666666666,\"#ed7953\"],[0.7777777777777778,\"#fb9f3a\"],[0.8888888888888888,\"#fdca26\"],[1.0,\"#f0f921\"]]}],\"contourcarpet\":[{\"type\":\"contourcarpet\",\"colorbar\":{\"outlinewidth\":0,\"ticks\":\"\"}}],\"contour\":[{\"type\":\"contour\",\"colorbar\":{\"outlinewidth\":0,\"ticks\":\"\"},\"colorscale\":[[0.0,\"#0d0887\"],[0.1111111111111111,\"#46039f\"],[0.2222222222222222,\"#7201a8\"],[0.3333333333333333,\"#9c179e\"],[0.4444444444444444,\"#bd3786\"],[0.5555555555555556,\"#d8576b\"],[0.6666666666666666,\"#ed7953\"],[0.7777777777777778,\"#fb9f3a\"],[0.8888888888888888,\"#fdca26\"],[1.0,\"#f0f921\"]]}],\"surface\":[{\"type\":\"surface\",\"colorbar\":{\"outlinewidth\":0,\"ticks\":\"\"},\"colorscale\":[[0.0,\"#0d0887\"],[0.1111111111111111,\"#46039f\"],[0.2222222222222222,\"#7201a8\"],[0.3333333333333333,\"#9c179e\"],[0.4444444444444444,\"#bd3786\"],[0.5555555555555556,\"#d8576b\"],[0.6666666666666666,\"#ed7953\"],[0.7777777777777778,\"#fb9f3a\"],[0.8888888888888888,\"#fdca26\"],[1.0,\"#f0f921\"]]}],\"mesh3d\":[{\"type\":\"mesh3d\",\"colorbar\":{\"outlinewidth\":0,\"ticks\":\"\"}}],\"scatter\":[{\"fillpattern\":{\"fillmode\":\"overlay\",\"size\":10,\"solidity\":0.2},\"type\":\"scatter\"}],\"parcoords\":[{\"type\":\"parcoords\",\"line\":{\"colorbar\":{\"outlinewidth\":0,\"ticks\":\"\"}}}],\"scatterpolargl\":[{\"type\":\"scatterpolargl\",\"marker\":{\"colorbar\":{\"outlinewidth\":0,\"ticks\":\"\"}}}],\"bar\":[{\"error_x\":{\"color\":\"#2a3f5f\"},\"error_y\":{\"color\":\"#2a3f5f\"},\"marker\":{\"line\":{\"color\":\"#E5ECF6\",\"width\":0.5},\"pattern\":{\"fillmode\":\"overlay\",\"size\":10,\"solidity\":0.2}},\"type\":\"bar\"}],\"scattergeo\":[{\"type\":\"scattergeo\",\"marker\":{\"colorbar\":{\"outlinewidth\":0,\"ticks\":\"\"}}}],\"scatterpolar\":[{\"type\":\"scatterpolar\",\"marker\":{\"colorbar\":{\"outlinewidth\":0,\"ticks\":\"\"}}}],\"histogram\":[{\"marker\":{\"pattern\":{\"fillmode\":\"overlay\",\"size\":10,\"solidity\":0.2}},\"type\":\"histogram\"}],\"scattergl\":[{\"type\":\"scattergl\",\"marker\":{\"colorbar\":{\"outlinewidth\":0,\"ticks\":\"\"}}}],\"scatter3d\":[{\"type\":\"scatter3d\",\"line\":{\"colorbar\":{\"outlinewidth\":0,\"ticks\":\"\"}},\"marker\":{\"colorbar\":{\"outlinewidth\":0,\"ticks\":\"\"}}}],\"scattermap\":[{\"type\":\"scattermap\",\"marker\":{\"colorbar\":{\"outlinewidth\":0,\"ticks\":\"\"}}}],\"scattermapbox\":[{\"type\":\"scattermapbox\",\"marker\":{\"colorbar\":{\"outlinewidth\":0,\"ticks\":\"\"}}}],\"scatterternary\":[{\"type\":\"scatterternary\",\"marker\":{\"colorbar\":{\"outlinewidth\":0,\"ticks\":\"\"}}}],\"scattercarpet\":[{\"type\":\"scattercarpet\",\"marker\":{\"colorbar\":{\"outlinewidth\":0,\"ticks\":\"\"}}}],\"carpet\":[{\"aaxis\":{\"endlinecolor\":\"#2a3f5f\",\"gridcolor\":\"white\",\"linecolor\":\"white\",\"minorgridcolor\":\"white\",\"startlinecolor\":\"#2a3f5f\"},\"baxis\":{\"endlinecolor\":\"#2a3f5f\",\"gridcolor\":\"white\",\"linecolor\":\"white\",\"minorgridcolor\":\"white\",\"startlinecolor\":\"#2a3f5f\"},\"type\":\"carpet\"}],\"table\":[{\"cells\":{\"fill\":{\"color\":\"#EBF0F8\"},\"line\":{\"color\":\"white\"}},\"header\":{\"fill\":{\"color\":\"#C8D4E3\"},\"line\":{\"color\":\"white\"}},\"type\":\"table\"}],\"barpolar\":[{\"marker\":{\"line\":{\"color\":\"#E5ECF6\",\"width\":0.5},\"pattern\":{\"fillmode\":\"overlay\",\"size\":10,\"solidity\":0.2}},\"type\":\"barpolar\"}],\"pie\":[{\"automargin\":true,\"type\":\"pie\"}]},\"layout\":{\"autotypenumbers\":\"strict\",\"colorway\":[\"#636efa\",\"#EF553B\",\"#00cc96\",\"#ab63fa\",\"#FFA15A\",\"#19d3f3\",\"#FF6692\",\"#B6E880\",\"#FF97FF\",\"#FECB52\"],\"font\":{\"color\":\"#2a3f5f\"},\"hovermode\":\"closest\",\"hoverlabel\":{\"align\":\"left\"},\"paper_bgcolor\":\"white\",\"plot_bgcolor\":\"#E5ECF6\",\"polar\":{\"bgcolor\":\"#E5ECF6\",\"angularaxis\":{\"gridcolor\":\"white\",\"linecolor\":\"white\",\"ticks\":\"\"},\"radialaxis\":{\"gridcolor\":\"white\",\"linecolor\":\"white\",\"ticks\":\"\"}},\"ternary\":{\"bgcolor\":\"#E5ECF6\",\"aaxis\":{\"gridcolor\":\"white\",\"linecolor\":\"white\",\"ticks\":\"\"},\"baxis\":{\"gridcolor\":\"white\",\"linecolor\":\"white\",\"ticks\":\"\"},\"caxis\":{\"gridcolor\":\"white\",\"linecolor\":\"white\",\"ticks\":\"\"}},\"coloraxis\":{\"colorbar\":{\"outlinewidth\":0,\"ticks\":\"\"}},\"colorscale\":{\"sequential\":[[0.0,\"#0d0887\"],[0.1111111111111111,\"#46039f\"],[0.2222222222222222,\"#7201a8\"],[0.3333333333333333,\"#9c179e\"],[0.4444444444444444,\"#bd3786\"],[0.5555555555555556,\"#d8576b\"],[0.6666666666666666,\"#ed7953\"],[0.7777777777777778,\"#fb9f3a\"],[0.8888888888888888,\"#fdca26\"],[1.0,\"#f0f921\"]],\"sequentialminus\":[[0.0,\"#0d0887\"],[0.1111111111111111,\"#46039f\"],[0.2222222222222222,\"#7201a8\"],[0.3333333333333333,\"#9c179e\"],[0.4444444444444444,\"#bd3786\"],[0.5555555555555556,\"#d8576b\"],[0.6666666666666666,\"#ed7953\"],[0.7777777777777778,\"#fb9f3a\"],[0.8888888888888888,\"#fdca26\"],[1.0,\"#f0f921\"]],\"diverging\":[[0,\"#8e0152\"],[0.1,\"#c51b7d\"],[0.2,\"#de77ae\"],[0.3,\"#f1b6da\"],[0.4,\"#fde0ef\"],[0.5,\"#f7f7f7\"],[0.6,\"#e6f5d0\"],[0.7,\"#b8e186\"],[0.8,\"#7fbc41\"],[0.9,\"#4d9221\"],[1,\"#276419\"]]},\"xaxis\":{\"gridcolor\":\"white\",\"linecolor\":\"white\",\"ticks\":\"\",\"title\":{\"standoff\":15},\"zerolinecolor\":\"white\",\"automargin\":true,\"zerolinewidth\":2},\"yaxis\":{\"gridcolor\":\"white\",\"linecolor\":\"white\",\"ticks\":\"\",\"title\":{\"standoff\":15},\"zerolinecolor\":\"white\",\"automargin\":true,\"zerolinewidth\":2},\"scene\":{\"xaxis\":{\"backgroundcolor\":\"#E5ECF6\",\"gridcolor\":\"white\",\"linecolor\":\"white\",\"showbackground\":true,\"ticks\":\"\",\"zerolinecolor\":\"white\",\"gridwidth\":2},\"yaxis\":{\"backgroundcolor\":\"#E5ECF6\",\"gridcolor\":\"white\",\"linecolor\":\"white\",\"showbackground\":true,\"ticks\":\"\",\"zerolinecolor\":\"white\",\"gridwidth\":2},\"zaxis\":{\"backgroundcolor\":\"#E5ECF6\",\"gridcolor\":\"white\",\"linecolor\":\"white\",\"showbackground\":true,\"ticks\":\"\",\"zerolinecolor\":\"white\",\"gridwidth\":2}},\"shapedefaults\":{\"line\":{\"color\":\"#2a3f5f\"}},\"annotationdefaults\":{\"arrowcolor\":\"#2a3f5f\",\"arrowhead\":0,\"arrowwidth\":1},\"geo\":{\"bgcolor\":\"white\",\"landcolor\":\"#E5ECF6\",\"subunitcolor\":\"white\",\"showland\":true,\"showlakes\":true,\"lakecolor\":\"white\"},\"title\":{\"x\":0.05},\"mapbox\":{\"style\":\"light\"}}},\"xaxis\":{\"anchor\":\"y\",\"domain\":[0.0,1.0],\"scaleanchor\":\"y\",\"constrain\":\"domain\"},\"yaxis\":{\"anchor\":\"x\",\"domain\":[0.0,1.0],\"autorange\":\"reversed\",\"constrain\":\"domain\"},\"coloraxis\":{\"colorbar\":{\"title\":{\"text\":\"Similarity Score\"}},\"colorscale\":[[0.0,\"rgb(247,252,240)\"],[0.125,\"rgb(224,243,219)\"],[0.25,\"rgb(204,235,197)\"],[0.375,\"rgb(168,221,181)\"],[0.5,\"rgb(123,204,196)\"],[0.625,\"rgb(78,179,211)\"],[0.75,\"rgb(43,140,190)\"],[0.875,\"rgb(8,104,172)\"],[1.0,\"rgb(8,64,129)\"]]},\"margin\":{\"t\":60},\"title\":{\"font\":{\"size\":22,\"color\":\"Black\"},\"text\":\"\\u003cb\\u003eSimilarity Matrix\\u003c\\u002fb\\u003e\",\"y\":0.95,\"x\":0.55,\"xanchor\":\"center\",\"yanchor\":\"top\"},\"hoverlabel\":{\"font\":{\"size\":16,\"family\":\"Rockwell\"},\"bgcolor\":\"white\"},\"width\":800,\"height\":800,\"showlegend\":true,\"legend\":{\"title\":{\"text\":\"Trend\"}}},                        {\"responsive\": true}                    )                };            </script>        </div>"
      ],
      "text/plain": [
       "Figure({\n",
       "    'data': [{'coloraxis': 'coloraxis',\n",
       "              'hovertemplate': 'x: %{x}<br>y: %{y}<br>Similarity Score: %{z}<extra></extra>',\n",
       "              'name': '0',\n",
       "              'type': 'heatmap',\n",
       "              'x': [0_müll_wild_mülleimer, 1_ampel_straße_signal,\n",
       "                    2_fußball_werbung_aufkleber, 3_gefährlich_auto_straße,\n",
       "                    4_stehen_fahrzeug_kennzeichen, 5_sperrmüll_gebotszeich_mast,\n",
       "                    6_fahrrad_radfahrer_fahrrad..., 7_bushaltestellen_bus_schwe...,\n",
       "                    8_glascontainer_müll_ecke, 9_regenwasser_laufen_wasser,\n",
       "                    10_brücke_liegen_autobahnbr..., 11_herr_grundschule_gemeinsam,\n",
       "                    12_illegal_müllentsorgung_a..., 13_asphalt_schließen_cm,\n",
       "                    14_sofa_ca_woche, 15_einmündung_unrat_äste,\n",
       "                    16_grün_verkehr_pfeil, 17_baum_bäume_ewe,\n",
       "                    18_containerstellplatz_ents..., 19_autobahn_müll_autobahnbr...,\n",
       "                    20_foto_schild_sehen],\n",
       "              'xaxis': 'x',\n",
       "              'y': [0_müll_wild_mülleimer, 1_ampel_straße_signal,\n",
       "                    2_fußball_werbung_aufkleber, 3_gefährlich_auto_straße,\n",
       "                    4_stehen_fahrzeug_kennzeichen, 5_sperrmüll_gebotszeich_mast,\n",
       "                    6_fahrrad_radfahrer_fahrrad..., 7_bushaltestellen_bus_schwe...,\n",
       "                    8_glascontainer_müll_ecke, 9_regenwasser_laufen_wasser,\n",
       "                    10_brücke_liegen_autobahnbr..., 11_herr_grundschule_gemeinsam,\n",
       "                    12_illegal_müllentsorgung_a..., 13_asphalt_schließen_cm,\n",
       "                    14_sofa_ca_woche, 15_einmündung_unrat_äste,\n",
       "                    16_grün_verkehr_pfeil, 17_baum_bäume_ewe,\n",
       "                    18_containerstellplatz_ents..., 19_autobahn_müll_autobahnbr...,\n",
       "                    20_foto_schild_sehen],\n",
       "              'yaxis': 'y',\n",
       "              'z': {'bdata': ('+v9/P8Y6+D7cDY4+pA0SPzCCDD8PSQ' ... '8rP4JMGT8yWf8+WuLiPh5t/D4AAIA/'),\n",
       "                    'dtype': 'f4',\n",
       "                    'shape': '21, 21'}}],\n",
       "    'layout': {'coloraxis': {'colorbar': {'title': {'text': 'Similarity Score'}},\n",
       "                             'colorscale': [[0.0, 'rgb(247,252,240)'], [0.125,\n",
       "                                            'rgb(224,243,219)'], [0.25,\n",
       "                                            'rgb(204,235,197)'], [0.375,\n",
       "                                            'rgb(168,221,181)'], [0.5,\n",
       "                                            'rgb(123,204,196)'], [0.625,\n",
       "                                            'rgb(78,179,211)'], [0.75,\n",
       "                                            'rgb(43,140,190)'], [0.875,\n",
       "                                            'rgb(8,104,172)'], [1.0,\n",
       "                                            'rgb(8,64,129)']]},\n",
       "               'height': 800,\n",
       "               'hoverlabel': {'bgcolor': 'white', 'font': {'family': 'Rockwell', 'size': 16}},\n",
       "               'legend': {'title': {'text': 'Trend'}},\n",
       "               'margin': {'t': 60},\n",
       "               'showlegend': True,\n",
       "               'template': '...',\n",
       "               'title': {'font': {'color': 'Black', 'size': 22},\n",
       "                         'text': '<b>Similarity Matrix</b>',\n",
       "                         'x': 0.55,\n",
       "                         'xanchor': 'center',\n",
       "                         'y': 0.95,\n",
       "                         'yanchor': 'top'},\n",
       "               'width': 800,\n",
       "               'xaxis': {'anchor': 'y', 'constrain': 'domain', 'domain': [0.0, 1.0], 'scaleanchor': 'y'},\n",
       "               'yaxis': {'anchor': 'x', 'autorange': 'reversed', 'constrain': 'domain', 'domain': [0.0, 1.0]}}\n",
       "})"
      ]
     },
     "execution_count": 56,
     "metadata": {},
     "output_type": "execute_result"
    }
   ],
   "source": [
    "topic_model.visualize_heatmap()"
   ]
  },
  {
   "cell_type": "code",
   "execution_count": 55,
   "id": "bf8fe5a9",
   "metadata": {},
   "outputs": [
    {
     "ename": "ValueError",
     "evalue": "Mime type rendering requires nbformat>=4.2.0 but it is not installed",
     "output_type": "error",
     "traceback": [
      "\u001b[31m---------------------------------------------------------------------------\u001b[39m",
      "\u001b[31mValueError\u001b[39m                                Traceback (most recent call last)",
      "\u001b[36mFile \u001b[39m\u001b[32m~/HCI-project/hci-venv/lib/python3.12/site-packages/IPython/core/formatters.py:984\u001b[39m, in \u001b[36mIPythonDisplayFormatter.__call__\u001b[39m\u001b[34m(self, obj)\u001b[39m\n\u001b[32m    982\u001b[39m method = get_real_method(obj, \u001b[38;5;28mself\u001b[39m.print_method)\n\u001b[32m    983\u001b[39m \u001b[38;5;28;01mif\u001b[39;00m method \u001b[38;5;129;01mis\u001b[39;00m \u001b[38;5;129;01mnot\u001b[39;00m \u001b[38;5;28;01mNone\u001b[39;00m:\n\u001b[32m--> \u001b[39m\u001b[32m984\u001b[39m     \u001b[43mmethod\u001b[49m\u001b[43m(\u001b[49m\u001b[43m)\u001b[49m\n\u001b[32m    985\u001b[39m     \u001b[38;5;28;01mreturn\u001b[39;00m \u001b[38;5;28;01mTrue\u001b[39;00m\n",
      "\u001b[36mFile \u001b[39m\u001b[32m~/HCI-project/hci-venv/lib/python3.12/site-packages/plotly/basedatatypes.py:846\u001b[39m, in \u001b[36mBaseFigure._ipython_display_\u001b[39m\u001b[34m(self)\u001b[39m\n\u001b[32m    843\u001b[39m \u001b[38;5;28;01mimport\u001b[39;00m\u001b[38;5;250m \u001b[39m\u001b[34;01mplotly\u001b[39;00m\u001b[34;01m.\u001b[39;00m\u001b[34;01mio\u001b[39;00m\u001b[38;5;250m \u001b[39m\u001b[38;5;28;01mas\u001b[39;00m\u001b[38;5;250m \u001b[39m\u001b[34;01mpio\u001b[39;00m\n\u001b[32m    845\u001b[39m \u001b[38;5;28;01mif\u001b[39;00m pio.renderers.render_on_display \u001b[38;5;129;01mand\u001b[39;00m pio.renderers.default:\n\u001b[32m--> \u001b[39m\u001b[32m846\u001b[39m     \u001b[43mpio\u001b[49m\u001b[43m.\u001b[49m\u001b[43mshow\u001b[49m\u001b[43m(\u001b[49m\u001b[38;5;28;43mself\u001b[39;49m\u001b[43m)\u001b[49m\n\u001b[32m    847\u001b[39m \u001b[38;5;28;01melse\u001b[39;00m:\n\u001b[32m    848\u001b[39m     \u001b[38;5;28mprint\u001b[39m(\u001b[38;5;28mrepr\u001b[39m(\u001b[38;5;28mself\u001b[39m))\n",
      "\u001b[36mFile \u001b[39m\u001b[32m~/HCI-project/hci-venv/lib/python3.12/site-packages/plotly/io/_renderers.py:425\u001b[39m, in \u001b[36mshow\u001b[39m\u001b[34m(fig, renderer, validate, **kwargs)\u001b[39m\n\u001b[32m    420\u001b[39m     \u001b[38;5;28;01mraise\u001b[39;00m \u001b[38;5;167;01mValueError\u001b[39;00m(\n\u001b[32m    421\u001b[39m         \u001b[33m\"\u001b[39m\u001b[33mMime type rendering requires ipython but it is not installed\u001b[39m\u001b[33m\"\u001b[39m\n\u001b[32m    422\u001b[39m     )\n\u001b[32m    424\u001b[39m \u001b[38;5;28;01mif\u001b[39;00m \u001b[38;5;129;01mnot\u001b[39;00m nbformat \u001b[38;5;129;01mor\u001b[39;00m Version(nbformat.__version__) < Version(\u001b[33m\"\u001b[39m\u001b[33m4.2.0\u001b[39m\u001b[33m\"\u001b[39m):\n\u001b[32m--> \u001b[39m\u001b[32m425\u001b[39m     \u001b[38;5;28;01mraise\u001b[39;00m \u001b[38;5;167;01mValueError\u001b[39;00m(\n\u001b[32m    426\u001b[39m         \u001b[33m\"\u001b[39m\u001b[33mMime type rendering requires nbformat>=4.2.0 but it is not installed\u001b[39m\u001b[33m\"\u001b[39m\n\u001b[32m    427\u001b[39m     )\n\u001b[32m    429\u001b[39m display_jupyter_version_warnings()\n\u001b[32m    431\u001b[39m ipython_display.display(bundle, raw=\u001b[38;5;28;01mTrue\u001b[39;00m)\n",
      "\u001b[31mValueError\u001b[39m: Mime type rendering requires nbformat>=4.2.0 but it is not installed"
     ]
    },
    {
     "data": {
      "application/vnd.plotly.v1+json": {
       "config": {
        "plotlyServerURL": "https://plot.ly"
       },
       "data": [
        {
         "hoverinfo": "text",
         "marker": {
          "color": "rgb(61,153,112)"
         },
         "mode": "lines",
         "type": "scatter",
         "x": {
          "bdata": "AAAAAAAAAACQpqx7bEXnP5CmrHtsRec/AAAAAAAAAAA=",
          "dtype": "f8"
         },
         "xaxis": "x",
         "y": {
          "bdata": "AAAAAAAALsAAAAAAAAAuwAAAAAAAADnAAAAAAAAAOcA=",
          "dtype": "f8"
         },
         "yaxis": "y"
        },
        {
         "hoverinfo": "text",
         "marker": {
          "color": "rgb(61,153,112)"
         },
         "mode": "lines",
         "type": "scatter",
         "x": {
          "bdata": "kKase2xF5z8dxnnjYz/rPx3GeeNjP+s/AAAAAAAAAAA=",
          "dtype": "f8"
         },
         "xaxis": "x",
         "y": {
          "bdata": "AAAAAAAANMAAAAAAAAA0wAAAAAAAgEHAAAAAAACAQcA=",
          "dtype": "f8"
         },
         "yaxis": "y"
        },
        {
         "hoverinfo": "text",
         "marker": {
          "color": "rgb(61,153,112)"
         },
         "mode": "lines",
         "type": "scatter",
         "x": {
          "bdata": "AAAAAAAAAAAyZvC4PkXtPzJm8Lg+Re0/HcZ542M/6z8=",
          "dtype": "f8"
         },
         "xaxis": "x",
         "y": {
          "bdata": "AAAAAAAAFMAAAAAAAAAUwAAAAAAAgDvAAAAAAACAO8A=",
          "dtype": "f8"
         },
         "yaxis": "y"
        },
        {
         "hoverinfo": "text",
         "marker": {
          "color": "rgb(61,153,112)"
         },
         "mode": "lines",
         "type": "scatter",
         "x": {
          "bdata": "AAAAAAAAAADZkUOUR9nrP9mRQ5RH2es/AAAAAAAAAAA=",
          "dtype": "f8"
         },
         "xaxis": "x",
         "y": {
          "bdata": "AAAAAACARsAAAAAAAIBGwAAAAAAAgEvAAAAAAACAS8A=",
          "dtype": "f8"
         },
         "yaxis": "y"
        },
        {
         "hoverinfo": "text",
         "marker": {
          "color": "rgb(61,153,112)"
         },
         "mode": "lines",
         "type": "scatter",
         "x": {
          "bdata": "AAAAAAAAAACN5OFY7FrsP43k4VjsWuw/AAAAAAAAAAA=",
          "dtype": "f8"
         },
         "xaxis": "x",
         "y": {
          "bdata": "AAAAAABAUMAAAAAAAEBQwAAAAAAAwFLAAAAAAADAUsA=",
          "dtype": "f8"
         },
         "yaxis": "y"
        },
        {
         "hoverinfo": "text",
         "marker": {
          "color": "rgb(61,153,112)"
         },
         "mode": "lines",
         "type": "scatter",
         "x": {
          "bdata": "2ZFDlEfZ6z/yg0dxGr3tP/KDR3Eave0/jeThWOxa7D8=",
          "dtype": "f8"
         },
         "xaxis": "x",
         "y": {
          "bdata": "AAAAAAAAScAAAAAAAABJwAAAAAAAgFHAAAAAAACAUcA=",
          "dtype": "f8"
         },
         "yaxis": "y"
        },
        {
         "hoverinfo": "text",
         "marker": {
          "color": "rgb(61,153,112)"
         },
         "mode": "lines",
         "type": "scatter",
         "x": {
          "bdata": "MmbwuD5F7T+RfnlQsa/vP5F+eVCxr+8/8oNHcRq97T8=",
          "dtype": "f8"
         },
         "xaxis": "x",
         "y": {
          "bdata": "AAAAAABAMMAAAAAAAEAwwAAAAAAAAE7AAAAAAAAATsA=",
          "dtype": "f8"
         },
         "yaxis": "y"
        },
        {
         "hoverinfo": "text",
         "marker": {
          "color": "rgb(255,65,54)"
         },
         "mode": "lines",
         "type": "scatter",
         "x": {
          "bdata": "AAAAAAAAAAC7l6DgUGXtP7uXoOBQZe0/AAAAAAAAAAA=",
          "dtype": "f8"
         },
         "xaxis": "x",
         "y": {
          "bdata": "AAAAAABAVcAAAAAAAEBVwAAAAAAAwFfAAAAAAADAV8A=",
          "dtype": "f8"
         },
         "yaxis": "y"
        },
        {
         "hoverinfo": "text",
         "marker": {
          "color": "rgb(35,205,205)"
         },
         "mode": "lines",
         "type": "scatter",
         "x": {
          "bdata": "AAAAAAAAAABtmFVeP83oP22YVV4/zeg/AAAAAAAAAAA=",
          "dtype": "f8"
         },
         "xaxis": "x",
         "y": {
          "bdata": "AAAAAABAWsAAAAAAAEBawAAAAAAAwFzAAAAAAADAXMA=",
          "dtype": "f8"
         },
         "yaxis": "y"
        },
        {
         "hoverinfo": "text",
         "marker": {
          "color": "rgb(0,116,217)"
         },
         "mode": "lines",
         "type": "scatter",
         "x": {
          "bdata": "u5eg4FBl7T978dm2whPwP3vx2bbCE/A/bZhVXj/N6D8=",
          "dtype": "f8"
         },
         "xaxis": "x",
         "y": {
          "bdata": "AAAAAACAVsAAAAAAAIBWwAAAAAAAgFvAAAAAAACAW8A=",
          "dtype": "f8"
         },
         "yaxis": "y"
        },
        {
         "hoverinfo": "text",
         "marker": {
          "color": "rgb(133,20,75)"
         },
         "mode": "lines",
         "type": "scatter",
         "x": {
          "bdata": "AAAAAAAAAADtt1imBSrsP+23WKYFKuw/AAAAAAAAAAA=",
          "dtype": "f8"
         },
         "xaxis": "x",
         "y": {
          "bdata": "AAAAAABAX8AAAAAAAEBfwAAAAAAA4GDAAAAAAADgYMA=",
          "dtype": "f8"
         },
         "yaxis": "y"
        },
        {
         "hoverinfo": "text",
         "marker": {
          "color": "rgb(133,20,75)"
         },
         "mode": "lines",
         "type": "scatter",
         "x": {
          "bdata": "AAAAAAAAAAAI8X8CHHPnPwjxfwIcc+c/AAAAAAAAAAA=",
          "dtype": "f8"
         },
         "xaxis": "x",
         "y": {
          "bdata": "AAAAAABgY8AAAAAAAGBjwAAAAAAAoGTAAAAAAACgZMA=",
          "dtype": "f8"
         },
         "yaxis": "y"
        },
        {
         "hoverinfo": "text",
         "marker": {
          "color": "rgb(133,20,75)"
         },
         "mode": "lines",
         "type": "scatter",
         "x": {
          "bdata": "AAAAAAAAAAD6kbi8QPPsP/qRuLxA8+w/CPF/Ahxz5z8=",
          "dtype": "f8"
         },
         "xaxis": "x",
         "y": {
          "bdata": "AAAAAAAgYsAAAAAAACBiwAAAAAAAAGTAAAAAAAAAZMA=",
          "dtype": "f8"
         },
         "yaxis": "y"
        },
        {
         "hoverinfo": "text",
         "marker": {
          "color": "rgb(133,20,75)"
         },
         "mode": "lines",
         "type": "scatter",
         "x": {
          "bdata": "7bdYpgUq7D/AQyv53cjuP8BDK/ndyO4/+pG4vEDz7D8=",
          "dtype": "f8"
         },
         "xaxis": "x",
         "y": {
          "bdata": "AAAAAABAYMAAAAAAAEBgwAAAAAAAEGPAAAAAAAAQY8A=",
          "dtype": "f8"
         },
         "yaxis": "y"
        },
        {
         "hoverinfo": "text",
         "marker": {
          "color": "rgb(133,20,75)"
         },
         "mode": "lines",
         "type": "scatter",
         "x": {
          "bdata": "AAAAAAAAAACTgMI8Yh/uP5OAwjxiH+4/AAAAAAAAAAA=",
          "dtype": "f8"
         },
         "xaxis": "x",
         "y": {
          "bdata": "AAAAAADgZcAAAAAAAOBlwAAAAAAAIGfAAAAAAAAgZ8A=",
          "dtype": "f8"
         },
         "yaxis": "y"
        },
        {
         "hoverinfo": "text",
         "marker": {
          "color": "rgb(133,20,75)"
         },
         "mode": "lines",
         "type": "scatter",
         "x": {
          "bdata": "wEMr+d3I7j9wP4iEEorvP3A/iIQSiu8/k4DCPGIf7j8=",
          "dtype": "f8"
         },
         "xaxis": "x",
         "y": {
          "bdata": "AAAAAACoYcAAAAAAAKhhwAAAAAAAgGbAAAAAAACAZsA=",
          "dtype": "f8"
         },
         "yaxis": "y"
        },
        {
         "hoverinfo": "text",
         "marker": {
          "color": "rgb(0,116,217)"
         },
         "mode": "lines",
         "type": "scatter",
         "x": {
          "bdata": "e/HZtsIT8D+/0NVt8K3wP7/Q1W3wrfA/cD+IhBKK7z8=",
          "dtype": "f8"
         },
         "xaxis": "x",
         "y": {
          "bdata": "AAAAAAAAWcAAAAAAAABZwAAAAAAAFGTAAAAAAAAUZMA=",
          "dtype": "f8"
         },
         "yaxis": "y"
        },
        {
         "hoverinfo": "text",
         "marker": {
          "color": "rgb(255,220,0)"
         },
         "mode": "lines",
         "type": "scatter",
         "x": {
          "bdata": "AAAAAAAAAABqdhmqxjLsP2p2GarGMuw/AAAAAAAAAAA=",
          "dtype": "f8"
         },
         "xaxis": "x",
         "y": {
          "bdata": "AAAAAABgaMAAAAAAAGBowAAAAAAAoGnAAAAAAACgacA=",
          "dtype": "f8"
         },
         "yaxis": "y"
        },
        {
         "hoverinfo": "text",
         "marker": {
          "color": "rgb(0,116,217)"
         },
         "mode": "lines",
         "type": "scatter",
         "x": {
          "bdata": "v9DVbfCt8D8DhcN2VGnxPwOFw3ZUafE/anYZqsYy7D8=",
          "dtype": "f8"
         },
         "xaxis": "x",
         "y": {
          "bdata": "AAAAAABKYMAAAAAAAEpgwAAAAAAAAGnAAAAAAAAAacA=",
          "dtype": "f8"
         },
         "yaxis": "y"
        },
        {
         "hoverinfo": "text",
         "marker": {
          "color": "rgb(0,116,217)"
         },
         "mode": "lines",
         "type": "scatter",
         "x": {
          "bdata": "kX55ULGv7z+PIyLiDATzP48jIuIMBPM/A4XDdlRp8T8=",
          "dtype": "f8"
         },
         "xaxis": "x",
         "y": {
          "bdata": "AAAAAAAQQ8AAAAAAABBDwAAAAAAApWTAAAAAAAClZMA=",
          "dtype": "f8"
         },
         "yaxis": "y"
        }
       ],
       "layout": {
        "autosize": false,
        "height": 515,
        "hoverlabel": {
         "bgcolor": "white",
         "font": {
          "family": "Rockwell",
          "size": 16
         }
        },
        "hovermode": "closest",
        "plot_bgcolor": "#ECEFF1",
        "showlegend": false,
        "template": {
         "data": {
          "bar": [
           {
            "error_x": {
             "color": "#2a3f5f"
            },
            "error_y": {
             "color": "#2a3f5f"
            },
            "marker": {
             "line": {
              "color": "white",
              "width": 0.5
             },
             "pattern": {
              "fillmode": "overlay",
              "size": 10,
              "solidity": 0.2
             }
            },
            "type": "bar"
           }
          ],
          "barpolar": [
           {
            "marker": {
             "line": {
              "color": "white",
              "width": 0.5
             },
             "pattern": {
              "fillmode": "overlay",
              "size": 10,
              "solidity": 0.2
             }
            },
            "type": "barpolar"
           }
          ],
          "carpet": [
           {
            "aaxis": {
             "endlinecolor": "#2a3f5f",
             "gridcolor": "#C8D4E3",
             "linecolor": "#C8D4E3",
             "minorgridcolor": "#C8D4E3",
             "startlinecolor": "#2a3f5f"
            },
            "baxis": {
             "endlinecolor": "#2a3f5f",
             "gridcolor": "#C8D4E3",
             "linecolor": "#C8D4E3",
             "minorgridcolor": "#C8D4E3",
             "startlinecolor": "#2a3f5f"
            },
            "type": "carpet"
           }
          ],
          "choropleth": [
           {
            "colorbar": {
             "outlinewidth": 0,
             "ticks": ""
            },
            "type": "choropleth"
           }
          ],
          "contour": [
           {
            "colorbar": {
             "outlinewidth": 0,
             "ticks": ""
            },
            "colorscale": [
             [
              0,
              "#0d0887"
             ],
             [
              0.1111111111111111,
              "#46039f"
             ],
             [
              0.2222222222222222,
              "#7201a8"
             ],
             [
              0.3333333333333333,
              "#9c179e"
             ],
             [
              0.4444444444444444,
              "#bd3786"
             ],
             [
              0.5555555555555556,
              "#d8576b"
             ],
             [
              0.6666666666666666,
              "#ed7953"
             ],
             [
              0.7777777777777778,
              "#fb9f3a"
             ],
             [
              0.8888888888888888,
              "#fdca26"
             ],
             [
              1,
              "#f0f921"
             ]
            ],
            "type": "contour"
           }
          ],
          "contourcarpet": [
           {
            "colorbar": {
             "outlinewidth": 0,
             "ticks": ""
            },
            "type": "contourcarpet"
           }
          ],
          "heatmap": [
           {
            "colorbar": {
             "outlinewidth": 0,
             "ticks": ""
            },
            "colorscale": [
             [
              0,
              "#0d0887"
             ],
             [
              0.1111111111111111,
              "#46039f"
             ],
             [
              0.2222222222222222,
              "#7201a8"
             ],
             [
              0.3333333333333333,
              "#9c179e"
             ],
             [
              0.4444444444444444,
              "#bd3786"
             ],
             [
              0.5555555555555556,
              "#d8576b"
             ],
             [
              0.6666666666666666,
              "#ed7953"
             ],
             [
              0.7777777777777778,
              "#fb9f3a"
             ],
             [
              0.8888888888888888,
              "#fdca26"
             ],
             [
              1,
              "#f0f921"
             ]
            ],
            "type": "heatmap"
           }
          ],
          "histogram": [
           {
            "marker": {
             "pattern": {
              "fillmode": "overlay",
              "size": 10,
              "solidity": 0.2
             }
            },
            "type": "histogram"
           }
          ],
          "histogram2d": [
           {
            "colorbar": {
             "outlinewidth": 0,
             "ticks": ""
            },
            "colorscale": [
             [
              0,
              "#0d0887"
             ],
             [
              0.1111111111111111,
              "#46039f"
             ],
             [
              0.2222222222222222,
              "#7201a8"
             ],
             [
              0.3333333333333333,
              "#9c179e"
             ],
             [
              0.4444444444444444,
              "#bd3786"
             ],
             [
              0.5555555555555556,
              "#d8576b"
             ],
             [
              0.6666666666666666,
              "#ed7953"
             ],
             [
              0.7777777777777778,
              "#fb9f3a"
             ],
             [
              0.8888888888888888,
              "#fdca26"
             ],
             [
              1,
              "#f0f921"
             ]
            ],
            "type": "histogram2d"
           }
          ],
          "histogram2dcontour": [
           {
            "colorbar": {
             "outlinewidth": 0,
             "ticks": ""
            },
            "colorscale": [
             [
              0,
              "#0d0887"
             ],
             [
              0.1111111111111111,
              "#46039f"
             ],
             [
              0.2222222222222222,
              "#7201a8"
             ],
             [
              0.3333333333333333,
              "#9c179e"
             ],
             [
              0.4444444444444444,
              "#bd3786"
             ],
             [
              0.5555555555555556,
              "#d8576b"
             ],
             [
              0.6666666666666666,
              "#ed7953"
             ],
             [
              0.7777777777777778,
              "#fb9f3a"
             ],
             [
              0.8888888888888888,
              "#fdca26"
             ],
             [
              1,
              "#f0f921"
             ]
            ],
            "type": "histogram2dcontour"
           }
          ],
          "mesh3d": [
           {
            "colorbar": {
             "outlinewidth": 0,
             "ticks": ""
            },
            "type": "mesh3d"
           }
          ],
          "parcoords": [
           {
            "line": {
             "colorbar": {
              "outlinewidth": 0,
              "ticks": ""
             }
            },
            "type": "parcoords"
           }
          ],
          "pie": [
           {
            "automargin": true,
            "type": "pie"
           }
          ],
          "scatter": [
           {
            "fillpattern": {
             "fillmode": "overlay",
             "size": 10,
             "solidity": 0.2
            },
            "type": "scatter"
           }
          ],
          "scatter3d": [
           {
            "line": {
             "colorbar": {
              "outlinewidth": 0,
              "ticks": ""
             }
            },
            "marker": {
             "colorbar": {
              "outlinewidth": 0,
              "ticks": ""
             }
            },
            "type": "scatter3d"
           }
          ],
          "scattercarpet": [
           {
            "marker": {
             "colorbar": {
              "outlinewidth": 0,
              "ticks": ""
             }
            },
            "type": "scattercarpet"
           }
          ],
          "scattergeo": [
           {
            "marker": {
             "colorbar": {
              "outlinewidth": 0,
              "ticks": ""
             }
            },
            "type": "scattergeo"
           }
          ],
          "scattergl": [
           {
            "marker": {
             "colorbar": {
              "outlinewidth": 0,
              "ticks": ""
             }
            },
            "type": "scattergl"
           }
          ],
          "scattermap": [
           {
            "marker": {
             "colorbar": {
              "outlinewidth": 0,
              "ticks": ""
             }
            },
            "type": "scattermap"
           }
          ],
          "scattermapbox": [
           {
            "marker": {
             "colorbar": {
              "outlinewidth": 0,
              "ticks": ""
             }
            },
            "type": "scattermapbox"
           }
          ],
          "scatterpolar": [
           {
            "marker": {
             "colorbar": {
              "outlinewidth": 0,
              "ticks": ""
             }
            },
            "type": "scatterpolar"
           }
          ],
          "scatterpolargl": [
           {
            "marker": {
             "colorbar": {
              "outlinewidth": 0,
              "ticks": ""
             }
            },
            "type": "scatterpolargl"
           }
          ],
          "scatterternary": [
           {
            "marker": {
             "colorbar": {
              "outlinewidth": 0,
              "ticks": ""
             }
            },
            "type": "scatterternary"
           }
          ],
          "surface": [
           {
            "colorbar": {
             "outlinewidth": 0,
             "ticks": ""
            },
            "colorscale": [
             [
              0,
              "#0d0887"
             ],
             [
              0.1111111111111111,
              "#46039f"
             ],
             [
              0.2222222222222222,
              "#7201a8"
             ],
             [
              0.3333333333333333,
              "#9c179e"
             ],
             [
              0.4444444444444444,
              "#bd3786"
             ],
             [
              0.5555555555555556,
              "#d8576b"
             ],
             [
              0.6666666666666666,
              "#ed7953"
             ],
             [
              0.7777777777777778,
              "#fb9f3a"
             ],
             [
              0.8888888888888888,
              "#fdca26"
             ],
             [
              1,
              "#f0f921"
             ]
            ],
            "type": "surface"
           }
          ],
          "table": [
           {
            "cells": {
             "fill": {
              "color": "#EBF0F8"
             },
             "line": {
              "color": "white"
             }
            },
            "header": {
             "fill": {
              "color": "#C8D4E3"
             },
             "line": {
              "color": "white"
             }
            },
            "type": "table"
           }
          ]
         },
         "layout": {
          "annotationdefaults": {
           "arrowcolor": "#2a3f5f",
           "arrowhead": 0,
           "arrowwidth": 1
          },
          "autotypenumbers": "strict",
          "coloraxis": {
           "colorbar": {
            "outlinewidth": 0,
            "ticks": ""
           }
          },
          "colorscale": {
           "diverging": [
            [
             0,
             "#8e0152"
            ],
            [
             0.1,
             "#c51b7d"
            ],
            [
             0.2,
             "#de77ae"
            ],
            [
             0.3,
             "#f1b6da"
            ],
            [
             0.4,
             "#fde0ef"
            ],
            [
             0.5,
             "#f7f7f7"
            ],
            [
             0.6,
             "#e6f5d0"
            ],
            [
             0.7,
             "#b8e186"
            ],
            [
             0.8,
             "#7fbc41"
            ],
            [
             0.9,
             "#4d9221"
            ],
            [
             1,
             "#276419"
            ]
           ],
           "sequential": [
            [
             0,
             "#0d0887"
            ],
            [
             0.1111111111111111,
             "#46039f"
            ],
            [
             0.2222222222222222,
             "#7201a8"
            ],
            [
             0.3333333333333333,
             "#9c179e"
            ],
            [
             0.4444444444444444,
             "#bd3786"
            ],
            [
             0.5555555555555556,
             "#d8576b"
            ],
            [
             0.6666666666666666,
             "#ed7953"
            ],
            [
             0.7777777777777778,
             "#fb9f3a"
            ],
            [
             0.8888888888888888,
             "#fdca26"
            ],
            [
             1,
             "#f0f921"
            ]
           ],
           "sequentialminus": [
            [
             0,
             "#0d0887"
            ],
            [
             0.1111111111111111,
             "#46039f"
            ],
            [
             0.2222222222222222,
             "#7201a8"
            ],
            [
             0.3333333333333333,
             "#9c179e"
            ],
            [
             0.4444444444444444,
             "#bd3786"
            ],
            [
             0.5555555555555556,
             "#d8576b"
            ],
            [
             0.6666666666666666,
             "#ed7953"
            ],
            [
             0.7777777777777778,
             "#fb9f3a"
            ],
            [
             0.8888888888888888,
             "#fdca26"
            ],
            [
             1,
             "#f0f921"
            ]
           ]
          },
          "colorway": [
           "#636efa",
           "#EF553B",
           "#00cc96",
           "#ab63fa",
           "#FFA15A",
           "#19d3f3",
           "#FF6692",
           "#B6E880",
           "#FF97FF",
           "#FECB52"
          ],
          "font": {
           "color": "#2a3f5f"
          },
          "geo": {
           "bgcolor": "white",
           "lakecolor": "white",
           "landcolor": "white",
           "showlakes": true,
           "showland": true,
           "subunitcolor": "#C8D4E3"
          },
          "hoverlabel": {
           "align": "left"
          },
          "hovermode": "closest",
          "mapbox": {
           "style": "light"
          },
          "paper_bgcolor": "white",
          "plot_bgcolor": "white",
          "polar": {
           "angularaxis": {
            "gridcolor": "#EBF0F8",
            "linecolor": "#EBF0F8",
            "ticks": ""
           },
           "bgcolor": "white",
           "radialaxis": {
            "gridcolor": "#EBF0F8",
            "linecolor": "#EBF0F8",
            "ticks": ""
           }
          },
          "scene": {
           "xaxis": {
            "backgroundcolor": "white",
            "gridcolor": "#DFE8F3",
            "gridwidth": 2,
            "linecolor": "#EBF0F8",
            "showbackground": true,
            "ticks": "",
            "zerolinecolor": "#EBF0F8"
           },
           "yaxis": {
            "backgroundcolor": "white",
            "gridcolor": "#DFE8F3",
            "gridwidth": 2,
            "linecolor": "#EBF0F8",
            "showbackground": true,
            "ticks": "",
            "zerolinecolor": "#EBF0F8"
           },
           "zaxis": {
            "backgroundcolor": "white",
            "gridcolor": "#DFE8F3",
            "gridwidth": 2,
            "linecolor": "#EBF0F8",
            "showbackground": true,
            "ticks": "",
            "zerolinecolor": "#EBF0F8"
           }
          },
          "shapedefaults": {
           "line": {
            "color": "#2a3f5f"
           }
          },
          "ternary": {
           "aaxis": {
            "gridcolor": "#DFE8F3",
            "linecolor": "#A2B1C6",
            "ticks": ""
           },
           "baxis": {
            "gridcolor": "#DFE8F3",
            "linecolor": "#A2B1C6",
            "ticks": ""
           },
           "bgcolor": "white",
           "caxis": {
            "gridcolor": "#DFE8F3",
            "linecolor": "#A2B1C6",
            "ticks": ""
           }
          },
          "title": {
           "x": 0.05
          },
          "xaxis": {
           "automargin": true,
           "gridcolor": "#EBF0F8",
           "linecolor": "#EBF0F8",
           "ticks": "",
           "title": {
            "standoff": 15
           },
           "zerolinecolor": "#EBF0F8",
           "zerolinewidth": 2
          },
          "yaxis": {
           "automargin": true,
           "gridcolor": "#EBF0F8",
           "linecolor": "#EBF0F8",
           "ticks": "",
           "title": {
            "standoff": 15
           },
           "zerolinecolor": "#EBF0F8",
           "zerolinewidth": 2
          }
         }
        },
        "title": {
         "font": {
          "color": "Black",
          "size": 22
         },
         "text": "<b>Hierarchical Clustering</b>",
         "x": 0.5,
         "xanchor": "center",
         "yanchor": "top"
        },
        "width": 1000,
        "xaxis": {
         "mirror": "allticks",
         "rangemode": "tozero",
         "showgrid": false,
         "showline": true,
         "showticklabels": true,
         "ticks": "outside",
         "type": "linear",
         "zeroline": false
        },
        "yaxis": {
         "mirror": "allticks",
         "range": [
          -210,
          0
         ],
         "rangemode": "tozero",
         "showgrid": false,
         "showline": true,
         "showticklabels": true,
         "tickmode": "array",
         "ticks": "outside",
         "ticktext": [
          "16_grün_verkehr_pfeil",
          "1_ampel_straße_signal",
          "3_gefährlich_auto_straße",
          "13_asphalt_schließen_cm",
          "6_fahrrad_radfahrer_fahrrad...",
          "9_regenwasser_laufen_wasser",
          "15_einmündung_unrat_äste",
          "7_bushaltestellen_bus_schwe...",
          "17_baum_bäume_ewe",
          "20_foto_schild_sehen",
          "10_brücke_liegen_autobahnbr...",
          "19_autobahn_müll_autobahnbr...",
          "14_sofa_ca_woche",
          "4_stehen_fahrzeug_kennzeichen",
          "11_herr_grundschule_gemeinsam",
          "0_müll_wild_mülleimer",
          "8_glascontainer_müll_ecke",
          "12_illegal_müllentsorgung_a...",
          "18_containerstellplatz_ents...",
          "5_sperrmüll_gebotszeich_mast",
          "2_fußball_werbung_aufkleber"
         ],
         "tickvals": [
          -5,
          -15,
          -25,
          -35,
          -45,
          -55,
          -65,
          -75,
          -85,
          -95,
          -105,
          -115,
          -125,
          -135,
          -145,
          -155,
          -165,
          -175,
          -185,
          -195,
          -205
         ],
         "type": "linear",
         "zeroline": false
        }
       }
      },
      "text/html": [
       "<div>                        <script type=\"text/javascript\">window.PlotlyConfig = {MathJaxConfig: 'local'};</script>\n",
       "        <script charset=\"utf-8\" src=\"https://cdn.plot.ly/plotly-3.0.1.min.js\"></script>                <div id=\"ef39d7d4-34b6-4060-93a5-6cfa0ed050a9\" class=\"plotly-graph-div\" style=\"height:515px; width:1000px;\"></div>            <script type=\"text/javascript\">                window.PLOTLYENV=window.PLOTLYENV || {};                                if (document.getElementById(\"ef39d7d4-34b6-4060-93a5-6cfa0ed050a9\")) {                    Plotly.newPlot(                        \"ef39d7d4-34b6-4060-93a5-6cfa0ed050a9\",                        [{\"hoverinfo\":\"text\",\"marker\":{\"color\":\"rgb(61,153,112)\"},\"mode\":\"lines\",\"x\":{\"dtype\":\"f8\",\"bdata\":\"AAAAAAAAAACQpqx7bEXnP5CmrHtsRec\\u002fAAAAAAAAAAA=\"},\"xaxis\":\"x\",\"y\":{\"dtype\":\"f8\",\"bdata\":\"AAAAAAAALsAAAAAAAAAuwAAAAAAAADnAAAAAAAAAOcA=\"},\"yaxis\":\"y\",\"type\":\"scatter\"},{\"hoverinfo\":\"text\",\"marker\":{\"color\":\"rgb(61,153,112)\"},\"mode\":\"lines\",\"x\":{\"dtype\":\"f8\",\"bdata\":\"kKase2xF5z8dxnnjYz\\u002frPx3GeeNjP+s\\u002fAAAAAAAAAAA=\"},\"xaxis\":\"x\",\"y\":{\"dtype\":\"f8\",\"bdata\":\"AAAAAAAANMAAAAAAAAA0wAAAAAAAgEHAAAAAAACAQcA=\"},\"yaxis\":\"y\",\"type\":\"scatter\"},{\"hoverinfo\":\"text\",\"marker\":{\"color\":\"rgb(61,153,112)\"},\"mode\":\"lines\",\"x\":{\"dtype\":\"f8\",\"bdata\":\"AAAAAAAAAAAyZvC4PkXtPzJm8Lg+Re0\\u002fHcZ542M\\u002f6z8=\"},\"xaxis\":\"x\",\"y\":{\"dtype\":\"f8\",\"bdata\":\"AAAAAAAAFMAAAAAAAAAUwAAAAAAAgDvAAAAAAACAO8A=\"},\"yaxis\":\"y\",\"type\":\"scatter\"},{\"hoverinfo\":\"text\",\"marker\":{\"color\":\"rgb(61,153,112)\"},\"mode\":\"lines\",\"x\":{\"dtype\":\"f8\",\"bdata\":\"AAAAAAAAAADZkUOUR9nrP9mRQ5RH2es\\u002fAAAAAAAAAAA=\"},\"xaxis\":\"x\",\"y\":{\"dtype\":\"f8\",\"bdata\":\"AAAAAACARsAAAAAAAIBGwAAAAAAAgEvAAAAAAACAS8A=\"},\"yaxis\":\"y\",\"type\":\"scatter\"},{\"hoverinfo\":\"text\",\"marker\":{\"color\":\"rgb(61,153,112)\"},\"mode\":\"lines\",\"x\":{\"dtype\":\"f8\",\"bdata\":\"AAAAAAAAAACN5OFY7FrsP43k4VjsWuw\\u002fAAAAAAAAAAA=\"},\"xaxis\":\"x\",\"y\":{\"dtype\":\"f8\",\"bdata\":\"AAAAAABAUMAAAAAAAEBQwAAAAAAAwFLAAAAAAADAUsA=\"},\"yaxis\":\"y\",\"type\":\"scatter\"},{\"hoverinfo\":\"text\",\"marker\":{\"color\":\"rgb(61,153,112)\"},\"mode\":\"lines\",\"x\":{\"dtype\":\"f8\",\"bdata\":\"2ZFDlEfZ6z\\u002fyg0dxGr3tP\\u002fKDR3Eave0\\u002fjeThWOxa7D8=\"},\"xaxis\":\"x\",\"y\":{\"dtype\":\"f8\",\"bdata\":\"AAAAAAAAScAAAAAAAABJwAAAAAAAgFHAAAAAAACAUcA=\"},\"yaxis\":\"y\",\"type\":\"scatter\"},{\"hoverinfo\":\"text\",\"marker\":{\"color\":\"rgb(61,153,112)\"},\"mode\":\"lines\",\"x\":{\"dtype\":\"f8\",\"bdata\":\"MmbwuD5F7T+RfnlQsa\\u002fvP5F+eVCxr+8\\u002f8oNHcRq97T8=\"},\"xaxis\":\"x\",\"y\":{\"dtype\":\"f8\",\"bdata\":\"AAAAAABAMMAAAAAAAEAwwAAAAAAAAE7AAAAAAAAATsA=\"},\"yaxis\":\"y\",\"type\":\"scatter\"},{\"hoverinfo\":\"text\",\"marker\":{\"color\":\"rgb(255,65,54)\"},\"mode\":\"lines\",\"x\":{\"dtype\":\"f8\",\"bdata\":\"AAAAAAAAAAC7l6DgUGXtP7uXoOBQZe0\\u002fAAAAAAAAAAA=\"},\"xaxis\":\"x\",\"y\":{\"dtype\":\"f8\",\"bdata\":\"AAAAAABAVcAAAAAAAEBVwAAAAAAAwFfAAAAAAADAV8A=\"},\"yaxis\":\"y\",\"type\":\"scatter\"},{\"hoverinfo\":\"text\",\"marker\":{\"color\":\"rgb(35,205,205)\"},\"mode\":\"lines\",\"x\":{\"dtype\":\"f8\",\"bdata\":\"AAAAAAAAAABtmFVeP83oP22YVV4\\u002fzeg\\u002fAAAAAAAAAAA=\"},\"xaxis\":\"x\",\"y\":{\"dtype\":\"f8\",\"bdata\":\"AAAAAABAWsAAAAAAAEBawAAAAAAAwFzAAAAAAADAXMA=\"},\"yaxis\":\"y\",\"type\":\"scatter\"},{\"hoverinfo\":\"text\",\"marker\":{\"color\":\"rgb(0,116,217)\"},\"mode\":\"lines\",\"x\":{\"dtype\":\"f8\",\"bdata\":\"u5eg4FBl7T978dm2whPwP3vx2bbCE\\u002fA\\u002fbZhVXj\\u002fN6D8=\"},\"xaxis\":\"x\",\"y\":{\"dtype\":\"f8\",\"bdata\":\"AAAAAACAVsAAAAAAAIBWwAAAAAAAgFvAAAAAAACAW8A=\"},\"yaxis\":\"y\",\"type\":\"scatter\"},{\"hoverinfo\":\"text\",\"marker\":{\"color\":\"rgb(133,20,75)\"},\"mode\":\"lines\",\"x\":{\"dtype\":\"f8\",\"bdata\":\"AAAAAAAAAADtt1imBSrsP+23WKYFKuw\\u002fAAAAAAAAAAA=\"},\"xaxis\":\"x\",\"y\":{\"dtype\":\"f8\",\"bdata\":\"AAAAAABAX8AAAAAAAEBfwAAAAAAA4GDAAAAAAADgYMA=\"},\"yaxis\":\"y\",\"type\":\"scatter\"},{\"hoverinfo\":\"text\",\"marker\":{\"color\":\"rgb(133,20,75)\"},\"mode\":\"lines\",\"x\":{\"dtype\":\"f8\",\"bdata\":\"AAAAAAAAAAAI8X8CHHPnPwjxfwIcc+c\\u002fAAAAAAAAAAA=\"},\"xaxis\":\"x\",\"y\":{\"dtype\":\"f8\",\"bdata\":\"AAAAAABgY8AAAAAAAGBjwAAAAAAAoGTAAAAAAACgZMA=\"},\"yaxis\":\"y\",\"type\":\"scatter\"},{\"hoverinfo\":\"text\",\"marker\":{\"color\":\"rgb(133,20,75)\"},\"mode\":\"lines\",\"x\":{\"dtype\":\"f8\",\"bdata\":\"AAAAAAAAAAD6kbi8QPPsP\\u002fqRuLxA8+w\\u002fCPF\\u002fAhxz5z8=\"},\"xaxis\":\"x\",\"y\":{\"dtype\":\"f8\",\"bdata\":\"AAAAAAAgYsAAAAAAACBiwAAAAAAAAGTAAAAAAAAAZMA=\"},\"yaxis\":\"y\",\"type\":\"scatter\"},{\"hoverinfo\":\"text\",\"marker\":{\"color\":\"rgb(133,20,75)\"},\"mode\":\"lines\",\"x\":{\"dtype\":\"f8\",\"bdata\":\"7bdYpgUq7D\\u002fAQyv53cjuP8BDK\\u002fndyO4\\u002f+pG4vEDz7D8=\"},\"xaxis\":\"x\",\"y\":{\"dtype\":\"f8\",\"bdata\":\"AAAAAABAYMAAAAAAAEBgwAAAAAAAEGPAAAAAAAAQY8A=\"},\"yaxis\":\"y\",\"type\":\"scatter\"},{\"hoverinfo\":\"text\",\"marker\":{\"color\":\"rgb(133,20,75)\"},\"mode\":\"lines\",\"x\":{\"dtype\":\"f8\",\"bdata\":\"AAAAAAAAAACTgMI8Yh\\u002fuP5OAwjxiH+4\\u002fAAAAAAAAAAA=\"},\"xaxis\":\"x\",\"y\":{\"dtype\":\"f8\",\"bdata\":\"AAAAAADgZcAAAAAAAOBlwAAAAAAAIGfAAAAAAAAgZ8A=\"},\"yaxis\":\"y\",\"type\":\"scatter\"},{\"hoverinfo\":\"text\",\"marker\":{\"color\":\"rgb(133,20,75)\"},\"mode\":\"lines\",\"x\":{\"dtype\":\"f8\",\"bdata\":\"wEMr+d3I7j9wP4iEEorvP3A\\u002fiIQSiu8\\u002fk4DCPGIf7j8=\"},\"xaxis\":\"x\",\"y\":{\"dtype\":\"f8\",\"bdata\":\"AAAAAACoYcAAAAAAAKhhwAAAAAAAgGbAAAAAAACAZsA=\"},\"yaxis\":\"y\",\"type\":\"scatter\"},{\"hoverinfo\":\"text\",\"marker\":{\"color\":\"rgb(0,116,217)\"},\"mode\":\"lines\",\"x\":{\"dtype\":\"f8\",\"bdata\":\"e\\u002fHZtsIT8D+\\u002f0NVt8K3wP7\\u002fQ1W3wrfA\\u002fcD+IhBKK7z8=\"},\"xaxis\":\"x\",\"y\":{\"dtype\":\"f8\",\"bdata\":\"AAAAAAAAWcAAAAAAAABZwAAAAAAAFGTAAAAAAAAUZMA=\"},\"yaxis\":\"y\",\"type\":\"scatter\"},{\"hoverinfo\":\"text\",\"marker\":{\"color\":\"rgb(255,220,0)\"},\"mode\":\"lines\",\"x\":{\"dtype\":\"f8\",\"bdata\":\"AAAAAAAAAABqdhmqxjLsP2p2GarGMuw\\u002fAAAAAAAAAAA=\"},\"xaxis\":\"x\",\"y\":{\"dtype\":\"f8\",\"bdata\":\"AAAAAABgaMAAAAAAAGBowAAAAAAAoGnAAAAAAACgacA=\"},\"yaxis\":\"y\",\"type\":\"scatter\"},{\"hoverinfo\":\"text\",\"marker\":{\"color\":\"rgb(0,116,217)\"},\"mode\":\"lines\",\"x\":{\"dtype\":\"f8\",\"bdata\":\"v9DVbfCt8D8DhcN2VGnxPwOFw3ZUafE\\u002fanYZqsYy7D8=\"},\"xaxis\":\"x\",\"y\":{\"dtype\":\"f8\",\"bdata\":\"AAAAAABKYMAAAAAAAEpgwAAAAAAAAGnAAAAAAAAAacA=\"},\"yaxis\":\"y\",\"type\":\"scatter\"},{\"hoverinfo\":\"text\",\"marker\":{\"color\":\"rgb(0,116,217)\"},\"mode\":\"lines\",\"x\":{\"dtype\":\"f8\",\"bdata\":\"kX55ULGv7z+PIyLiDATzP48jIuIMBPM\\u002fA4XDdlRp8T8=\"},\"xaxis\":\"x\",\"y\":{\"dtype\":\"f8\",\"bdata\":\"AAAAAAAQQ8AAAAAAABBDwAAAAAAApWTAAAAAAAClZMA=\"},\"yaxis\":\"y\",\"type\":\"scatter\"}],                        {\"autosize\":false,\"height\":515,\"hovermode\":\"closest\",\"showlegend\":false,\"width\":1000,\"xaxis\":{\"mirror\":\"allticks\",\"rangemode\":\"tozero\",\"showgrid\":false,\"showline\":true,\"showticklabels\":true,\"ticks\":\"outside\",\"type\":\"linear\",\"zeroline\":false},\"yaxis\":{\"mirror\":\"allticks\",\"rangemode\":\"tozero\",\"showgrid\":false,\"showline\":true,\"showticklabels\":true,\"tickmode\":\"array\",\"ticks\":\"outside\",\"ticktext\":[\"16_gr\\u00fcn_verkehr_pfeil\",\"1_ampel_stra\\u00dfe_signal\",\"3_gef\\u00e4hrlich_auto_stra\\u00dfe\",\"13_asphalt_schlie\\u00dfen_cm\",\"6_fahrrad_radfahrer_fahrrad...\",\"9_regenwasser_laufen_wasser\",\"15_einm\\u00fcndung_unrat_\\u00e4ste\",\"7_bushaltestellen_bus_schwe...\",\"17_baum_b\\u00e4ume_ewe\",\"20_foto_schild_sehen\",\"10_br\\u00fccke_liegen_autobahnbr...\",\"19_autobahn_m\\u00fcll_autobahnbr...\",\"14_sofa_ca_woche\",\"4_stehen_fahrzeug_kennzeichen\",\"11_herr_grundschule_gemeinsam\",\"0_m\\u00fcll_wild_m\\u00fclleimer\",\"8_glascontainer_m\\u00fcll_ecke\",\"12_illegal_m\\u00fcllentsorgung_a...\",\"18_containerstellplatz_ents...\",\"5_sperrm\\u00fcll_gebotszeich_mast\",\"2_fu\\u00dfball_werbung_aufkleber\"],\"tickvals\":[-5.0,-15.0,-25.0,-35.0,-45.0,-55.0,-65.0,-75.0,-85.0,-95.0,-105.0,-115.0,-125.0,-135.0,-145.0,-155.0,-165.0,-175.0,-185.0,-195.0,-205.0],\"type\":\"linear\",\"zeroline\":false,\"range\":[-210.0,0.0]},\"template\":{\"data\":{\"barpolar\":[{\"marker\":{\"line\":{\"color\":\"white\",\"width\":0.5},\"pattern\":{\"fillmode\":\"overlay\",\"size\":10,\"solidity\":0.2}},\"type\":\"barpolar\"}],\"bar\":[{\"error_x\":{\"color\":\"#2a3f5f\"},\"error_y\":{\"color\":\"#2a3f5f\"},\"marker\":{\"line\":{\"color\":\"white\",\"width\":0.5},\"pattern\":{\"fillmode\":\"overlay\",\"size\":10,\"solidity\":0.2}},\"type\":\"bar\"}],\"carpet\":[{\"aaxis\":{\"endlinecolor\":\"#2a3f5f\",\"gridcolor\":\"#C8D4E3\",\"linecolor\":\"#C8D4E3\",\"minorgridcolor\":\"#C8D4E3\",\"startlinecolor\":\"#2a3f5f\"},\"baxis\":{\"endlinecolor\":\"#2a3f5f\",\"gridcolor\":\"#C8D4E3\",\"linecolor\":\"#C8D4E3\",\"minorgridcolor\":\"#C8D4E3\",\"startlinecolor\":\"#2a3f5f\"},\"type\":\"carpet\"}],\"choropleth\":[{\"colorbar\":{\"outlinewidth\":0,\"ticks\":\"\"},\"type\":\"choropleth\"}],\"contourcarpet\":[{\"colorbar\":{\"outlinewidth\":0,\"ticks\":\"\"},\"type\":\"contourcarpet\"}],\"contour\":[{\"colorbar\":{\"outlinewidth\":0,\"ticks\":\"\"},\"colorscale\":[[0.0,\"#0d0887\"],[0.1111111111111111,\"#46039f\"],[0.2222222222222222,\"#7201a8\"],[0.3333333333333333,\"#9c179e\"],[0.4444444444444444,\"#bd3786\"],[0.5555555555555556,\"#d8576b\"],[0.6666666666666666,\"#ed7953\"],[0.7777777777777778,\"#fb9f3a\"],[0.8888888888888888,\"#fdca26\"],[1.0,\"#f0f921\"]],\"type\":\"contour\"}],\"heatmap\":[{\"colorbar\":{\"outlinewidth\":0,\"ticks\":\"\"},\"colorscale\":[[0.0,\"#0d0887\"],[0.1111111111111111,\"#46039f\"],[0.2222222222222222,\"#7201a8\"],[0.3333333333333333,\"#9c179e\"],[0.4444444444444444,\"#bd3786\"],[0.5555555555555556,\"#d8576b\"],[0.6666666666666666,\"#ed7953\"],[0.7777777777777778,\"#fb9f3a\"],[0.8888888888888888,\"#fdca26\"],[1.0,\"#f0f921\"]],\"type\":\"heatmap\"}],\"histogram2dcontour\":[{\"colorbar\":{\"outlinewidth\":0,\"ticks\":\"\"},\"colorscale\":[[0.0,\"#0d0887\"],[0.1111111111111111,\"#46039f\"],[0.2222222222222222,\"#7201a8\"],[0.3333333333333333,\"#9c179e\"],[0.4444444444444444,\"#bd3786\"],[0.5555555555555556,\"#d8576b\"],[0.6666666666666666,\"#ed7953\"],[0.7777777777777778,\"#fb9f3a\"],[0.8888888888888888,\"#fdca26\"],[1.0,\"#f0f921\"]],\"type\":\"histogram2dcontour\"}],\"histogram2d\":[{\"colorbar\":{\"outlinewidth\":0,\"ticks\":\"\"},\"colorscale\":[[0.0,\"#0d0887\"],[0.1111111111111111,\"#46039f\"],[0.2222222222222222,\"#7201a8\"],[0.3333333333333333,\"#9c179e\"],[0.4444444444444444,\"#bd3786\"],[0.5555555555555556,\"#d8576b\"],[0.6666666666666666,\"#ed7953\"],[0.7777777777777778,\"#fb9f3a\"],[0.8888888888888888,\"#fdca26\"],[1.0,\"#f0f921\"]],\"type\":\"histogram2d\"}],\"histogram\":[{\"marker\":{\"pattern\":{\"fillmode\":\"overlay\",\"size\":10,\"solidity\":0.2}},\"type\":\"histogram\"}],\"mesh3d\":[{\"colorbar\":{\"outlinewidth\":0,\"ticks\":\"\"},\"type\":\"mesh3d\"}],\"parcoords\":[{\"line\":{\"colorbar\":{\"outlinewidth\":0,\"ticks\":\"\"}},\"type\":\"parcoords\"}],\"pie\":[{\"automargin\":true,\"type\":\"pie\"}],\"scatter3d\":[{\"line\":{\"colorbar\":{\"outlinewidth\":0,\"ticks\":\"\"}},\"marker\":{\"colorbar\":{\"outlinewidth\":0,\"ticks\":\"\"}},\"type\":\"scatter3d\"}],\"scattercarpet\":[{\"marker\":{\"colorbar\":{\"outlinewidth\":0,\"ticks\":\"\"}},\"type\":\"scattercarpet\"}],\"scattergeo\":[{\"marker\":{\"colorbar\":{\"outlinewidth\":0,\"ticks\":\"\"}},\"type\":\"scattergeo\"}],\"scattergl\":[{\"marker\":{\"colorbar\":{\"outlinewidth\":0,\"ticks\":\"\"}},\"type\":\"scattergl\"}],\"scattermapbox\":[{\"marker\":{\"colorbar\":{\"outlinewidth\":0,\"ticks\":\"\"}},\"type\":\"scattermapbox\"}],\"scattermap\":[{\"marker\":{\"colorbar\":{\"outlinewidth\":0,\"ticks\":\"\"}},\"type\":\"scattermap\"}],\"scatterpolargl\":[{\"marker\":{\"colorbar\":{\"outlinewidth\":0,\"ticks\":\"\"}},\"type\":\"scatterpolargl\"}],\"scatterpolar\":[{\"marker\":{\"colorbar\":{\"outlinewidth\":0,\"ticks\":\"\"}},\"type\":\"scatterpolar\"}],\"scatter\":[{\"fillpattern\":{\"fillmode\":\"overlay\",\"size\":10,\"solidity\":0.2},\"type\":\"scatter\"}],\"scatterternary\":[{\"marker\":{\"colorbar\":{\"outlinewidth\":0,\"ticks\":\"\"}},\"type\":\"scatterternary\"}],\"surface\":[{\"colorbar\":{\"outlinewidth\":0,\"ticks\":\"\"},\"colorscale\":[[0.0,\"#0d0887\"],[0.1111111111111111,\"#46039f\"],[0.2222222222222222,\"#7201a8\"],[0.3333333333333333,\"#9c179e\"],[0.4444444444444444,\"#bd3786\"],[0.5555555555555556,\"#d8576b\"],[0.6666666666666666,\"#ed7953\"],[0.7777777777777778,\"#fb9f3a\"],[0.8888888888888888,\"#fdca26\"],[1.0,\"#f0f921\"]],\"type\":\"surface\"}],\"table\":[{\"cells\":{\"fill\":{\"color\":\"#EBF0F8\"},\"line\":{\"color\":\"white\"}},\"header\":{\"fill\":{\"color\":\"#C8D4E3\"},\"line\":{\"color\":\"white\"}},\"type\":\"table\"}]},\"layout\":{\"annotationdefaults\":{\"arrowcolor\":\"#2a3f5f\",\"arrowhead\":0,\"arrowwidth\":1},\"autotypenumbers\":\"strict\",\"coloraxis\":{\"colorbar\":{\"outlinewidth\":0,\"ticks\":\"\"}},\"colorscale\":{\"diverging\":[[0,\"#8e0152\"],[0.1,\"#c51b7d\"],[0.2,\"#de77ae\"],[0.3,\"#f1b6da\"],[0.4,\"#fde0ef\"],[0.5,\"#f7f7f7\"],[0.6,\"#e6f5d0\"],[0.7,\"#b8e186\"],[0.8,\"#7fbc41\"],[0.9,\"#4d9221\"],[1,\"#276419\"]],\"sequential\":[[0.0,\"#0d0887\"],[0.1111111111111111,\"#46039f\"],[0.2222222222222222,\"#7201a8\"],[0.3333333333333333,\"#9c179e\"],[0.4444444444444444,\"#bd3786\"],[0.5555555555555556,\"#d8576b\"],[0.6666666666666666,\"#ed7953\"],[0.7777777777777778,\"#fb9f3a\"],[0.8888888888888888,\"#fdca26\"],[1.0,\"#f0f921\"]],\"sequentialminus\":[[0.0,\"#0d0887\"],[0.1111111111111111,\"#46039f\"],[0.2222222222222222,\"#7201a8\"],[0.3333333333333333,\"#9c179e\"],[0.4444444444444444,\"#bd3786\"],[0.5555555555555556,\"#d8576b\"],[0.6666666666666666,\"#ed7953\"],[0.7777777777777778,\"#fb9f3a\"],[0.8888888888888888,\"#fdca26\"],[1.0,\"#f0f921\"]]},\"colorway\":[\"#636efa\",\"#EF553B\",\"#00cc96\",\"#ab63fa\",\"#FFA15A\",\"#19d3f3\",\"#FF6692\",\"#B6E880\",\"#FF97FF\",\"#FECB52\"],\"font\":{\"color\":\"#2a3f5f\"},\"geo\":{\"bgcolor\":\"white\",\"lakecolor\":\"white\",\"landcolor\":\"white\",\"showlakes\":true,\"showland\":true,\"subunitcolor\":\"#C8D4E3\"},\"hoverlabel\":{\"align\":\"left\"},\"hovermode\":\"closest\",\"mapbox\":{\"style\":\"light\"},\"paper_bgcolor\":\"white\",\"plot_bgcolor\":\"white\",\"polar\":{\"angularaxis\":{\"gridcolor\":\"#EBF0F8\",\"linecolor\":\"#EBF0F8\",\"ticks\":\"\"},\"bgcolor\":\"white\",\"radialaxis\":{\"gridcolor\":\"#EBF0F8\",\"linecolor\":\"#EBF0F8\",\"ticks\":\"\"}},\"scene\":{\"xaxis\":{\"backgroundcolor\":\"white\",\"gridcolor\":\"#DFE8F3\",\"gridwidth\":2,\"linecolor\":\"#EBF0F8\",\"showbackground\":true,\"ticks\":\"\",\"zerolinecolor\":\"#EBF0F8\"},\"yaxis\":{\"backgroundcolor\":\"white\",\"gridcolor\":\"#DFE8F3\",\"gridwidth\":2,\"linecolor\":\"#EBF0F8\",\"showbackground\":true,\"ticks\":\"\",\"zerolinecolor\":\"#EBF0F8\"},\"zaxis\":{\"backgroundcolor\":\"white\",\"gridcolor\":\"#DFE8F3\",\"gridwidth\":2,\"linecolor\":\"#EBF0F8\",\"showbackground\":true,\"ticks\":\"\",\"zerolinecolor\":\"#EBF0F8\"}},\"shapedefaults\":{\"line\":{\"color\":\"#2a3f5f\"}},\"ternary\":{\"aaxis\":{\"gridcolor\":\"#DFE8F3\",\"linecolor\":\"#A2B1C6\",\"ticks\":\"\"},\"baxis\":{\"gridcolor\":\"#DFE8F3\",\"linecolor\":\"#A2B1C6\",\"ticks\":\"\"},\"bgcolor\":\"white\",\"caxis\":{\"gridcolor\":\"#DFE8F3\",\"linecolor\":\"#A2B1C6\",\"ticks\":\"\"}},\"title\":{\"x\":0.05},\"xaxis\":{\"automargin\":true,\"gridcolor\":\"#EBF0F8\",\"linecolor\":\"#EBF0F8\",\"ticks\":\"\",\"title\":{\"standoff\":15},\"zerolinecolor\":\"#EBF0F8\",\"zerolinewidth\":2},\"yaxis\":{\"automargin\":true,\"gridcolor\":\"#EBF0F8\",\"linecolor\":\"#EBF0F8\",\"ticks\":\"\",\"title\":{\"standoff\":15},\"zerolinecolor\":\"#EBF0F8\",\"zerolinewidth\":2}}},\"title\":{\"font\":{\"size\":22,\"color\":\"Black\"},\"text\":\"\\u003cb\\u003eHierarchical Clustering\\u003c\\u002fb\\u003e\",\"x\":0.5,\"xanchor\":\"center\",\"yanchor\":\"top\"},\"hoverlabel\":{\"font\":{\"size\":16,\"family\":\"Rockwell\"},\"bgcolor\":\"white\"},\"plot_bgcolor\":\"#ECEFF1\"},                        {\"responsive\": true}                    )                };            </script>        </div>"
      ],
      "text/plain": [
       "Figure({\n",
       "    'data': [{'hoverinfo': 'text',\n",
       "              'marker': {'color': 'rgb(61,153,112)'},\n",
       "              'mode': 'lines',\n",
       "              'type': 'scatter',\n",
       "              'x': {'bdata': 'AAAAAAAAAACQpqx7bEXnP5CmrHtsRec/AAAAAAAAAAA=', 'dtype': 'f8'},\n",
       "              'xaxis': 'x',\n",
       "              'y': {'bdata': 'AAAAAAAALsAAAAAAAAAuwAAAAAAAADnAAAAAAAAAOcA=', 'dtype': 'f8'},\n",
       "              'yaxis': 'y'},\n",
       "             {'hoverinfo': 'text',\n",
       "              'marker': {'color': 'rgb(61,153,112)'},\n",
       "              'mode': 'lines',\n",
       "              'type': 'scatter',\n",
       "              'x': {'bdata': 'kKase2xF5z8dxnnjYz/rPx3GeeNjP+s/AAAAAAAAAAA=', 'dtype': 'f8'},\n",
       "              'xaxis': 'x',\n",
       "              'y': {'bdata': 'AAAAAAAANMAAAAAAAAA0wAAAAAAAgEHAAAAAAACAQcA=', 'dtype': 'f8'},\n",
       "              'yaxis': 'y'},\n",
       "             {'hoverinfo': 'text',\n",
       "              'marker': {'color': 'rgb(61,153,112)'},\n",
       "              'mode': 'lines',\n",
       "              'type': 'scatter',\n",
       "              'x': {'bdata': 'AAAAAAAAAAAyZvC4PkXtPzJm8Lg+Re0/HcZ542M/6z8=', 'dtype': 'f8'},\n",
       "              'xaxis': 'x',\n",
       "              'y': {'bdata': 'AAAAAAAAFMAAAAAAAAAUwAAAAAAAgDvAAAAAAACAO8A=', 'dtype': 'f8'},\n",
       "              'yaxis': 'y'},\n",
       "             {'hoverinfo': 'text',\n",
       "              'marker': {'color': 'rgb(61,153,112)'},\n",
       "              'mode': 'lines',\n",
       "              'type': 'scatter',\n",
       "              'x': {'bdata': 'AAAAAAAAAADZkUOUR9nrP9mRQ5RH2es/AAAAAAAAAAA=', 'dtype': 'f8'},\n",
       "              'xaxis': 'x',\n",
       "              'y': {'bdata': 'AAAAAACARsAAAAAAAIBGwAAAAAAAgEvAAAAAAACAS8A=', 'dtype': 'f8'},\n",
       "              'yaxis': 'y'},\n",
       "             {'hoverinfo': 'text',\n",
       "              'marker': {'color': 'rgb(61,153,112)'},\n",
       "              'mode': 'lines',\n",
       "              'type': 'scatter',\n",
       "              'x': {'bdata': 'AAAAAAAAAACN5OFY7FrsP43k4VjsWuw/AAAAAAAAAAA=', 'dtype': 'f8'},\n",
       "              'xaxis': 'x',\n",
       "              'y': {'bdata': 'AAAAAABAUMAAAAAAAEBQwAAAAAAAwFLAAAAAAADAUsA=', 'dtype': 'f8'},\n",
       "              'yaxis': 'y'},\n",
       "             {'hoverinfo': 'text',\n",
       "              'marker': {'color': 'rgb(61,153,112)'},\n",
       "              'mode': 'lines',\n",
       "              'type': 'scatter',\n",
       "              'x': {'bdata': '2ZFDlEfZ6z/yg0dxGr3tP/KDR3Eave0/jeThWOxa7D8=', 'dtype': 'f8'},\n",
       "              'xaxis': 'x',\n",
       "              'y': {'bdata': 'AAAAAAAAScAAAAAAAABJwAAAAAAAgFHAAAAAAACAUcA=', 'dtype': 'f8'},\n",
       "              'yaxis': 'y'},\n",
       "             {'hoverinfo': 'text',\n",
       "              'marker': {'color': 'rgb(61,153,112)'},\n",
       "              'mode': 'lines',\n",
       "              'type': 'scatter',\n",
       "              'x': {'bdata': 'MmbwuD5F7T+RfnlQsa/vP5F+eVCxr+8/8oNHcRq97T8=', 'dtype': 'f8'},\n",
       "              'xaxis': 'x',\n",
       "              'y': {'bdata': 'AAAAAABAMMAAAAAAAEAwwAAAAAAAAE7AAAAAAAAATsA=', 'dtype': 'f8'},\n",
       "              'yaxis': 'y'},\n",
       "             {'hoverinfo': 'text',\n",
       "              'marker': {'color': 'rgb(255,65,54)'},\n",
       "              'mode': 'lines',\n",
       "              'type': 'scatter',\n",
       "              'x': {'bdata': 'AAAAAAAAAAC7l6DgUGXtP7uXoOBQZe0/AAAAAAAAAAA=', 'dtype': 'f8'},\n",
       "              'xaxis': 'x',\n",
       "              'y': {'bdata': 'AAAAAABAVcAAAAAAAEBVwAAAAAAAwFfAAAAAAADAV8A=', 'dtype': 'f8'},\n",
       "              'yaxis': 'y'},\n",
       "             {'hoverinfo': 'text',\n",
       "              'marker': {'color': 'rgb(35,205,205)'},\n",
       "              'mode': 'lines',\n",
       "              'type': 'scatter',\n",
       "              'x': {'bdata': 'AAAAAAAAAABtmFVeP83oP22YVV4/zeg/AAAAAAAAAAA=', 'dtype': 'f8'},\n",
       "              'xaxis': 'x',\n",
       "              'y': {'bdata': 'AAAAAABAWsAAAAAAAEBawAAAAAAAwFzAAAAAAADAXMA=', 'dtype': 'f8'},\n",
       "              'yaxis': 'y'},\n",
       "             {'hoverinfo': 'text',\n",
       "              'marker': {'color': 'rgb(0,116,217)'},\n",
       "              'mode': 'lines',\n",
       "              'type': 'scatter',\n",
       "              'x': {'bdata': 'u5eg4FBl7T978dm2whPwP3vx2bbCE/A/bZhVXj/N6D8=', 'dtype': 'f8'},\n",
       "              'xaxis': 'x',\n",
       "              'y': {'bdata': 'AAAAAACAVsAAAAAAAIBWwAAAAAAAgFvAAAAAAACAW8A=', 'dtype': 'f8'},\n",
       "              'yaxis': 'y'},\n",
       "             {'hoverinfo': 'text',\n",
       "              'marker': {'color': 'rgb(133,20,75)'},\n",
       "              'mode': 'lines',\n",
       "              'type': 'scatter',\n",
       "              'x': {'bdata': 'AAAAAAAAAADtt1imBSrsP+23WKYFKuw/AAAAAAAAAAA=', 'dtype': 'f8'},\n",
       "              'xaxis': 'x',\n",
       "              'y': {'bdata': 'AAAAAABAX8AAAAAAAEBfwAAAAAAA4GDAAAAAAADgYMA=', 'dtype': 'f8'},\n",
       "              'yaxis': 'y'},\n",
       "             {'hoverinfo': 'text',\n",
       "              'marker': {'color': 'rgb(133,20,75)'},\n",
       "              'mode': 'lines',\n",
       "              'type': 'scatter',\n",
       "              'x': {'bdata': 'AAAAAAAAAAAI8X8CHHPnPwjxfwIcc+c/AAAAAAAAAAA=', 'dtype': 'f8'},\n",
       "              'xaxis': 'x',\n",
       "              'y': {'bdata': 'AAAAAABgY8AAAAAAAGBjwAAAAAAAoGTAAAAAAACgZMA=', 'dtype': 'f8'},\n",
       "              'yaxis': 'y'},\n",
       "             {'hoverinfo': 'text',\n",
       "              'marker': {'color': 'rgb(133,20,75)'},\n",
       "              'mode': 'lines',\n",
       "              'type': 'scatter',\n",
       "              'x': {'bdata': 'AAAAAAAAAAD6kbi8QPPsP/qRuLxA8+w/CPF/Ahxz5z8=', 'dtype': 'f8'},\n",
       "              'xaxis': 'x',\n",
       "              'y': {'bdata': 'AAAAAAAgYsAAAAAAACBiwAAAAAAAAGTAAAAAAAAAZMA=', 'dtype': 'f8'},\n",
       "              'yaxis': 'y'},\n",
       "             {'hoverinfo': 'text',\n",
       "              'marker': {'color': 'rgb(133,20,75)'},\n",
       "              'mode': 'lines',\n",
       "              'type': 'scatter',\n",
       "              'x': {'bdata': '7bdYpgUq7D/AQyv53cjuP8BDK/ndyO4/+pG4vEDz7D8=', 'dtype': 'f8'},\n",
       "              'xaxis': 'x',\n",
       "              'y': {'bdata': 'AAAAAABAYMAAAAAAAEBgwAAAAAAAEGPAAAAAAAAQY8A=', 'dtype': 'f8'},\n",
       "              'yaxis': 'y'},\n",
       "             {'hoverinfo': 'text',\n",
       "              'marker': {'color': 'rgb(133,20,75)'},\n",
       "              'mode': 'lines',\n",
       "              'type': 'scatter',\n",
       "              'x': {'bdata': 'AAAAAAAAAACTgMI8Yh/uP5OAwjxiH+4/AAAAAAAAAAA=', 'dtype': 'f8'},\n",
       "              'xaxis': 'x',\n",
       "              'y': {'bdata': 'AAAAAADgZcAAAAAAAOBlwAAAAAAAIGfAAAAAAAAgZ8A=', 'dtype': 'f8'},\n",
       "              'yaxis': 'y'},\n",
       "             {'hoverinfo': 'text',\n",
       "              'marker': {'color': 'rgb(133,20,75)'},\n",
       "              'mode': 'lines',\n",
       "              'type': 'scatter',\n",
       "              'x': {'bdata': 'wEMr+d3I7j9wP4iEEorvP3A/iIQSiu8/k4DCPGIf7j8=', 'dtype': 'f8'},\n",
       "              'xaxis': 'x',\n",
       "              'y': {'bdata': 'AAAAAACoYcAAAAAAAKhhwAAAAAAAgGbAAAAAAACAZsA=', 'dtype': 'f8'},\n",
       "              'yaxis': 'y'},\n",
       "             {'hoverinfo': 'text',\n",
       "              'marker': {'color': 'rgb(0,116,217)'},\n",
       "              'mode': 'lines',\n",
       "              'type': 'scatter',\n",
       "              'x': {'bdata': 'e/HZtsIT8D+/0NVt8K3wP7/Q1W3wrfA/cD+IhBKK7z8=', 'dtype': 'f8'},\n",
       "              'xaxis': 'x',\n",
       "              'y': {'bdata': 'AAAAAAAAWcAAAAAAAABZwAAAAAAAFGTAAAAAAAAUZMA=', 'dtype': 'f8'},\n",
       "              'yaxis': 'y'},\n",
       "             {'hoverinfo': 'text',\n",
       "              'marker': {'color': 'rgb(255,220,0)'},\n",
       "              'mode': 'lines',\n",
       "              'type': 'scatter',\n",
       "              'x': {'bdata': 'AAAAAAAAAABqdhmqxjLsP2p2GarGMuw/AAAAAAAAAAA=', 'dtype': 'f8'},\n",
       "              'xaxis': 'x',\n",
       "              'y': {'bdata': 'AAAAAABgaMAAAAAAAGBowAAAAAAAoGnAAAAAAACgacA=', 'dtype': 'f8'},\n",
       "              'yaxis': 'y'},\n",
       "             {'hoverinfo': 'text',\n",
       "              'marker': {'color': 'rgb(0,116,217)'},\n",
       "              'mode': 'lines',\n",
       "              'type': 'scatter',\n",
       "              'x': {'bdata': 'v9DVbfCt8D8DhcN2VGnxPwOFw3ZUafE/anYZqsYy7D8=', 'dtype': 'f8'},\n",
       "              'xaxis': 'x',\n",
       "              'y': {'bdata': 'AAAAAABKYMAAAAAAAEpgwAAAAAAAAGnAAAAAAAAAacA=', 'dtype': 'f8'},\n",
       "              'yaxis': 'y'},\n",
       "             {'hoverinfo': 'text',\n",
       "              'marker': {'color': 'rgb(0,116,217)'},\n",
       "              'mode': 'lines',\n",
       "              'type': 'scatter',\n",
       "              'x': {'bdata': 'kX55ULGv7z+PIyLiDATzP48jIuIMBPM/A4XDdlRp8T8=', 'dtype': 'f8'},\n",
       "              'xaxis': 'x',\n",
       "              'y': {'bdata': 'AAAAAAAQQ8AAAAAAABBDwAAAAAAApWTAAAAAAAClZMA=', 'dtype': 'f8'},\n",
       "              'yaxis': 'y'}],\n",
       "    'layout': {'autosize': False,\n",
       "               'height': 515,\n",
       "               'hoverlabel': {'bgcolor': 'white', 'font': {'family': 'Rockwell', 'size': 16}},\n",
       "               'hovermode': 'closest',\n",
       "               'plot_bgcolor': '#ECEFF1',\n",
       "               'showlegend': False,\n",
       "               'template': '...',\n",
       "               'title': {'font': {'color': 'Black', 'size': 22},\n",
       "                         'text': '<b>Hierarchical Clustering</b>',\n",
       "                         'x': 0.5,\n",
       "                         'xanchor': 'center',\n",
       "                         'yanchor': 'top'},\n",
       "               'width': 1000,\n",
       "               'xaxis': {'mirror': 'allticks',\n",
       "                         'rangemode': 'tozero',\n",
       "                         'showgrid': False,\n",
       "                         'showline': True,\n",
       "                         'showticklabels': True,\n",
       "                         'ticks': 'outside',\n",
       "                         'type': 'linear',\n",
       "                         'zeroline': False},\n",
       "               'yaxis': {'mirror': 'allticks',\n",
       "                         'range': [-210.0, 0.0],\n",
       "                         'rangemode': 'tozero',\n",
       "                         'showgrid': False,\n",
       "                         'showline': True,\n",
       "                         'showticklabels': True,\n",
       "                         'tickmode': 'array',\n",
       "                         'ticks': 'outside',\n",
       "                         'ticktext': [16_grün_verkehr_pfeil,\n",
       "                                      1_ampel_straße_signal,\n",
       "                                      3_gefährlich_auto_straße,\n",
       "                                      13_asphalt_schließen_cm,\n",
       "                                      6_fahrrad_radfahrer_fahrrad...,\n",
       "                                      9_regenwasser_laufen_wasser,\n",
       "                                      15_einmündung_unrat_äste,\n",
       "                                      7_bushaltestellen_bus_schwe...,\n",
       "                                      17_baum_bäume_ewe, 20_foto_schild_sehen,\n",
       "                                      10_brücke_liegen_autobahnbr...,\n",
       "                                      19_autobahn_müll_autobahnbr...,\n",
       "                                      14_sofa_ca_woche,\n",
       "                                      4_stehen_fahrzeug_kennzeichen,\n",
       "                                      11_herr_grundschule_gemeinsam,\n",
       "                                      0_müll_wild_mülleimer,\n",
       "                                      8_glascontainer_müll_ecke,\n",
       "                                      12_illegal_müllentsorgung_a...,\n",
       "                                      18_containerstellplatz_ents...,\n",
       "                                      5_sperrmüll_gebotszeich_mast,\n",
       "                                      2_fußball_werbung_aufkleber],\n",
       "                         'tickvals': [-5.0, -15.0, -25.0, -35.0, -45.0, -55.0,\n",
       "                                      -65.0, -75.0, -85.0, -95.0, -105.0, -115.0,\n",
       "                                      -125.0, -135.0, -145.0, -155.0, -165.0,\n",
       "                                      -175.0, -185.0, -195.0, -205.0],\n",
       "                         'type': 'linear',\n",
       "                         'zeroline': False}}\n",
       "})"
      ]
     },
     "execution_count": 55,
     "metadata": {},
     "output_type": "execute_result"
    }
   ],
   "source": [
    "topic_model.visualize_hierarchy()"
   ]
  },
  {
   "cell_type": "code",
   "execution_count": 41,
   "id": "9e83b620",
   "metadata": {},
   "outputs": [],
   "source": [
    "# export top documents per topic\n",
    "file= os.path.join(path, 'top_docs_per_topic.txt')\n",
    "representative_docs = topic_model.get_representative_docs()\n",
    "with open(file, 'w', encoding='utf-8') as f:\n",
    "    for topic_id, docs in representative_docs.items():\n",
    "        if topic_id == -1:\n",
    "            continue\n",
    "        f.write(f'Topic {topic_id}:\\n')\n",
    "        for i, doc in enumerate(docs[:3]):\n",
    "            f.write(f'Document {i+1}:\\n')\n",
    "            f.write(f'{doc.strip()}\\n\\n')\n",
    "        f.write('\\n\\n')"
   ]
  },
  {
   "cell_type": "code",
   "execution_count": 42,
   "id": "c1c15b9a",
   "metadata": {},
   "outputs": [],
   "source": [
    "# export original/unprocessed documents per topic\n",
    "df['Topic'] = topics\n",
    "file= os.path.join(path, 'top_original_docs_per_topic.txt')\n",
    "with open(file, 'w', encoding='utf-8') as f:\n",
    "    topic_info = topic_model.get_topic_info()\n",
    "    for topic_id in topic_info[topic_info.Topic != -1].Topic:\n",
    "        f.write(f\"Topic {topic_id}:\\n\")\n",
    "\n",
    "        top_docs = df[df[\"Topic\"] == topic_id].head(3)\n",
    "\n",
    "        for i, row in top_docs.iterrows():\n",
    "            f.write(f\"  Document {i}:\\n\")\n",
    "            f.write(f\"  {row['Beschreibung_original'].strip()}\\n\\n\")\n",
    "\n",
    "        f.write(\"\\n\\n\")"
   ]
  }
 ],
 "metadata": {
  "kernelspec": {
   "display_name": "hci-venv",
   "language": "python",
   "name": "python3"
  },
  "language_info": {
   "codemirror_mode": {
    "name": "ipython",
    "version": 3
   },
   "file_extension": ".py",
   "mimetype": "text/x-python",
   "name": "python",
   "nbconvert_exporter": "python",
   "pygments_lexer": "ipython3",
   "version": "3.12.3"
  }
 },
 "nbformat": 4,
 "nbformat_minor": 5
}
