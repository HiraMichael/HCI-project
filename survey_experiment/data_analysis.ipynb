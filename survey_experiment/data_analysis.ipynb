{
 "cells": [
  {
   "cell_type": "code",
   "execution_count": 33,
   "id": "18843d86",
   "metadata": {},
   "outputs": [],
   "source": [
    "import pandas as pd\n",
    "import matplotlib.pyplot as plt\n",
    "import statsmodels.formula.api as smf\n",
    "import statsmodels.api as sm\n",
    "from statsmodels.stats.diagnostic import het_breuschpagan\n",
    "from statsmodels.stats.outliers_influence import variance_inflation_factor\n",
    "from statsmodels.iolib.summary2 import summary_col\n",
    "import numpy as np\n",
    "import seaborn as sns\n",
    "from scipy.stats import ttest_rel, wilcoxon"
   ]
  },
  {
   "cell_type": "code",
   "execution_count": 2,
   "id": "1c412f35",
   "metadata": {},
   "outputs": [],
   "source": [
    "df = pd.read_csv('../survey_experiment/results-survey929121.csv')"
   ]
  },
  {
   "cell_type": "code",
   "execution_count": 3,
   "id": "1c3b0756",
   "metadata": {},
   "outputs": [
    {
     "data": {
      "text/html": [
       "<div>\n",
       "<style scoped>\n",
       "    .dataframe tbody tr th:only-of-type {\n",
       "        vertical-align: middle;\n",
       "    }\n",
       "\n",
       "    .dataframe tbody tr th {\n",
       "        vertical-align: top;\n",
       "    }\n",
       "\n",
       "    .dataframe thead th {\n",
       "        text-align: right;\n",
       "    }\n",
       "</style>\n",
       "<table border=\"1\" class=\"dataframe\">\n",
       "  <thead>\n",
       "    <tr style=\"text-align: right;\">\n",
       "      <th></th>\n",
       "      <th>id</th>\n",
       "      <th>submitdate</th>\n",
       "      <th>lastpage</th>\n",
       "      <th>startlanguage</th>\n",
       "      <th>seed</th>\n",
       "      <th>startdate</th>\n",
       "      <th>datestamp</th>\n",
       "      <th>block</th>\n",
       "      <th>M01</th>\n",
       "      <th>M02</th>\n",
       "      <th>...</th>\n",
       "      <th>K02Time</th>\n",
       "      <th>K03Time</th>\n",
       "      <th>groupTime27791</th>\n",
       "      <th>G00Q02Time</th>\n",
       "      <th>G00Q03Time</th>\n",
       "      <th>G00Q04Time</th>\n",
       "      <th>groupTime29372</th>\n",
       "      <th>sexTime</th>\n",
       "      <th>ageTime</th>\n",
       "      <th>educTime</th>\n",
       "    </tr>\n",
       "  </thead>\n",
       "  <tbody>\n",
       "    <tr>\n",
       "      <th>0</th>\n",
       "      <td>1</td>\n",
       "      <td>2025-07-05 14:43:13</td>\n",
       "      <td>6</td>\n",
       "      <td>de</td>\n",
       "      <td>352066507</td>\n",
       "      <td>2025-07-05 14:40:44</td>\n",
       "      <td>2025-07-05 14:43:13</td>\n",
       "      <td>1</td>\n",
       "      <td>NaN</td>\n",
       "      <td>NaN</td>\n",
       "      <td>...</td>\n",
       "      <td>NaN</td>\n",
       "      <td>NaN</td>\n",
       "      <td>10.76</td>\n",
       "      <td>NaN</td>\n",
       "      <td>NaN</td>\n",
       "      <td>NaN</td>\n",
       "      <td>10.16</td>\n",
       "      <td>NaN</td>\n",
       "      <td>NaN</td>\n",
       "      <td>NaN</td>\n",
       "    </tr>\n",
       "    <tr>\n",
       "      <th>1</th>\n",
       "      <td>2</td>\n",
       "      <td>2025-07-05 16:04:16</td>\n",
       "      <td>6</td>\n",
       "      <td>de</td>\n",
       "      <td>1428878115</td>\n",
       "      <td>2025-07-05 16:00:57</td>\n",
       "      <td>2025-07-05 16:04:16</td>\n",
       "      <td>1</td>\n",
       "      <td>NaN</td>\n",
       "      <td>NaN</td>\n",
       "      <td>...</td>\n",
       "      <td>NaN</td>\n",
       "      <td>NaN</td>\n",
       "      <td>18.21</td>\n",
       "      <td>NaN</td>\n",
       "      <td>NaN</td>\n",
       "      <td>NaN</td>\n",
       "      <td>19.19</td>\n",
       "      <td>NaN</td>\n",
       "      <td>NaN</td>\n",
       "      <td>NaN</td>\n",
       "    </tr>\n",
       "    <tr>\n",
       "      <th>2</th>\n",
       "      <td>3</td>\n",
       "      <td>NaN</td>\n",
       "      <td>2</td>\n",
       "      <td>de</td>\n",
       "      <td>1661822640</td>\n",
       "      <td>2025-07-05 19:01:52</td>\n",
       "      <td>2025-07-05 19:01:59</td>\n",
       "      <td>1</td>\n",
       "      <td>NaN</td>\n",
       "      <td>NaN</td>\n",
       "      <td>...</td>\n",
       "      <td>NaN</td>\n",
       "      <td>NaN</td>\n",
       "      <td>NaN</td>\n",
       "      <td>NaN</td>\n",
       "      <td>NaN</td>\n",
       "      <td>NaN</td>\n",
       "      <td>NaN</td>\n",
       "      <td>NaN</td>\n",
       "      <td>NaN</td>\n",
       "      <td>NaN</td>\n",
       "    </tr>\n",
       "    <tr>\n",
       "      <th>3</th>\n",
       "      <td>4</td>\n",
       "      <td>2025-07-05 19:07:06</td>\n",
       "      <td>6</td>\n",
       "      <td>de</td>\n",
       "      <td>1661822640</td>\n",
       "      <td>2025-07-05 19:01:55</td>\n",
       "      <td>2025-07-05 19:07:06</td>\n",
       "      <td>1</td>\n",
       "      <td>NaN</td>\n",
       "      <td>NaN</td>\n",
       "      <td>...</td>\n",
       "      <td>NaN</td>\n",
       "      <td>NaN</td>\n",
       "      <td>51.40</td>\n",
       "      <td>NaN</td>\n",
       "      <td>NaN</td>\n",
       "      <td>NaN</td>\n",
       "      <td>16.15</td>\n",
       "      <td>NaN</td>\n",
       "      <td>NaN</td>\n",
       "      <td>NaN</td>\n",
       "    </tr>\n",
       "    <tr>\n",
       "      <th>4</th>\n",
       "      <td>5</td>\n",
       "      <td>2025-07-05 19:43:57</td>\n",
       "      <td>6</td>\n",
       "      <td>de</td>\n",
       "      <td>619222703</td>\n",
       "      <td>2025-07-05 19:41:42</td>\n",
       "      <td>2025-07-05 19:43:57</td>\n",
       "      <td>0</td>\n",
       "      <td>Wilde Müllkippe 🧹</td>\n",
       "      <td>Straßen 🚧</td>\n",
       "      <td>...</td>\n",
       "      <td>NaN</td>\n",
       "      <td>NaN</td>\n",
       "      <td>13.93</td>\n",
       "      <td>NaN</td>\n",
       "      <td>NaN</td>\n",
       "      <td>NaN</td>\n",
       "      <td>11.77</td>\n",
       "      <td>NaN</td>\n",
       "      <td>NaN</td>\n",
       "      <td>NaN</td>\n",
       "    </tr>\n",
       "  </tbody>\n",
       "</table>\n",
       "<p>5 rows × 136 columns</p>\n",
       "</div>"
      ],
      "text/plain": [
       "   id           submitdate  lastpage startlanguage        seed  \\\n",
       "0   1  2025-07-05 14:43:13         6            de   352066507   \n",
       "1   2  2025-07-05 16:04:16         6            de  1428878115   \n",
       "2   3                  NaN         2            de  1661822640   \n",
       "3   4  2025-07-05 19:07:06         6            de  1661822640   \n",
       "4   5  2025-07-05 19:43:57         6            de   619222703   \n",
       "\n",
       "             startdate            datestamp  block                M01  \\\n",
       "0  2025-07-05 14:40:44  2025-07-05 14:43:13      1                NaN   \n",
       "1  2025-07-05 16:00:57  2025-07-05 16:04:16      1                NaN   \n",
       "2  2025-07-05 19:01:52  2025-07-05 19:01:59      1                NaN   \n",
       "3  2025-07-05 19:01:55  2025-07-05 19:07:06      1                NaN   \n",
       "4  2025-07-05 19:41:42  2025-07-05 19:43:57      0  Wilde Müllkippe 🧹   \n",
       "\n",
       "         M02  ... K02Time K03Time groupTime27791 G00Q02Time G00Q03Time  \\\n",
       "0        NaN  ...     NaN     NaN          10.76        NaN        NaN   \n",
       "1        NaN  ...     NaN     NaN          18.21        NaN        NaN   \n",
       "2        NaN  ...     NaN     NaN            NaN        NaN        NaN   \n",
       "3        NaN  ...     NaN     NaN          51.40        NaN        NaN   \n",
       "4  Straßen 🚧  ...     NaN     NaN          13.93        NaN        NaN   \n",
       "\n",
       "  G00Q04Time groupTime29372  sexTime ageTime educTime  \n",
       "0        NaN          10.16      NaN     NaN      NaN  \n",
       "1        NaN          19.19      NaN     NaN      NaN  \n",
       "2        NaN            NaN      NaN     NaN      NaN  \n",
       "3        NaN          16.15      NaN     NaN      NaN  \n",
       "4        NaN          11.77      NaN     NaN      NaN  \n",
       "\n",
       "[5 rows x 136 columns]"
      ]
     },
     "metadata": {},
     "output_type": "display_data"
    }
   ],
   "source": [
    "display(df.head())"
   ]
  },
  {
   "cell_type": "code",
   "execution_count": 4,
   "id": "d315b866",
   "metadata": {},
   "outputs": [
    {
     "name": "stdout",
     "output_type": "stream",
     "text": [
      "['id', 'submitdate', 'lastpage', 'startlanguage', 'seed', 'startdate', 'datestamp', 'block', 'M01', 'M02', 'M03', 'M04', 'M05', 'M06', 'M07', 'M08', 'P01', 'P01V', 'P01M', 'P01N', 'P01S', 'P02', 'P02V', 'P02M', 'P02N', 'P02S', 'P03', 'P03V', 'P03M', 'P03N', 'P03S', 'P04', 'P04V', 'P04M', 'P04N', 'P04S', 'P05', 'P05V', 'P05M', 'P05N', 'P05S', 'P06', 'P06V', 'P06M', 'P06N', 'P06S', 'P07', 'P07V', 'P07M', 'P07N', 'P07S', 'P08', 'P08V', 'P08M', 'P08N', 'P08S', 'K01', 'K02', 'K03', 'G00Q02[SQ001]', 'G00Q02[SQ002]', 'G00Q02[SQ003]', 'G00Q03[SQ001]', 'G00Q03[SQ002]', 'G00Q03[SQ003]', 'G00Q04[SQ001]', 'G00Q04[SQ002]', 'G00Q04[SQ003]', 'sex', 'age', 'educ', 'interviewtime', 'groupTime27792', 'blockTime', 'groupTime27793', 'M01Time', 'M02Time', 'M03Time', 'M04Time', 'M05Time', 'M06Time', 'M07Time', 'M08Time', 'groupTime27847', 'P01Time', 'P01VTime', 'P01MTime', 'P01NTime', 'P01STime', 'P02Time', 'P02VTime', 'P02MTime', 'P02NTime', 'P02STime', 'P03Time', 'P03VTime', 'P03MTime', 'P03NTime', 'P03STime', 'P04Time', 'P04VTime', 'P04MTime', 'P04NTime', 'P04STime', 'P05Time', 'P05VTime', 'P05MTime', 'P05NTime', 'P05STime', 'P06Time', 'P06VTime', 'P06MTime', 'P06NTime', 'P06STime', 'P07Time', 'P07VTime', 'P07MTime', 'P07NTime', 'P07STime', 'P08Time', 'P08VTime', 'P08MTime', 'P08NTime', 'P08STime', 'groupTime29373', 'K01Time', 'K02Time', 'K03Time', 'groupTime27791', 'G00Q02Time', 'G00Q03Time', 'G00Q04Time', 'groupTime29372', 'sexTime', 'ageTime', 'educTime']\n"
     ]
    }
   ],
   "source": [
    "print(list(df.columns))"
   ]
  },
  {
   "cell_type": "code",
   "execution_count": 6,
   "id": "0c3ca4f4",
   "metadata": {},
   "outputs": [
    {
     "data": {
      "text/plain": [
       "block\n",
       "0    37\n",
       "1    36\n",
       "Name: count, dtype: int64"
      ]
     },
     "execution_count": 6,
     "metadata": {},
     "output_type": "execute_result"
    }
   ],
   "source": [
    "# respondents per block\n",
    "df[df['K01'].isna()==False]['block'].value_counts()"
   ]
  },
  {
   "cell_type": "markdown",
   "id": "4aecc70d",
   "metadata": {},
   "source": [
    "# Subjective ease of categorization"
   ]
  },
  {
   "cell_type": "markdown",
   "id": "8d5c73ab",
   "metadata": {},
   "source": [
    "For this, K01 measures categorization confidence (the outcome of interest). We also have K02, which assesses whether there were difficulties, and K03 as an open text option."
   ]
  },
  {
   "cell_type": "markdown",
   "id": "7edd600b",
   "metadata": {},
   "source": [
    "## Categorization confidence"
   ]
  },
  {
   "cell_type": "markdown",
   "id": "1f129cee",
   "metadata": {},
   "source": [
    "### Descriptive statistics"
   ]
  },
  {
   "cell_type": "code",
   "execution_count": 7,
   "id": "eae39fda",
   "metadata": {},
   "outputs": [
    {
     "name": "stdout",
     "output_type": "stream",
     "text": [
      "K01\n",
      "Sehr sicher                    6\n",
      "Sicher                        43\n",
      "Weder sicher noch unsicher    14\n",
      "Unsicher                       8\n",
      "Sehr unsicher                  2\n",
      "Name: count, dtype: int64\n",
      "block  K01                       \n",
      "0      Sehr sicher                   0.108108\n",
      "       Sicher                        0.513514\n",
      "       Weder sicher noch unsicher    0.216216\n",
      "       Unsicher                      0.135135\n",
      "       Sehr unsicher                 0.027027\n",
      "1      Sehr sicher                   0.055556\n",
      "       Sicher                        0.666667\n",
      "       Weder sicher noch unsicher    0.166667\n",
      "       Unsicher                      0.083333\n",
      "       Sehr unsicher                 0.027778\n",
      "Name: proportion, dtype: float64\n"
     ]
    }
   ],
   "source": [
    "cat_confidence = ['Sehr sicher', 'Sicher', 'Weder sicher noch unsicher', 'Unsicher', 'Sehr unsicher']\n",
    "df['K01'] = pd.Categorical(df['K01'], categories=cat_confidence, ordered=True)\n",
    "print(df['K01'].value_counts().sort_index())\n",
    "print(df.groupby('block')['K01'].value_counts(normalize=True).sort_index())"
   ]
  },
  {
   "cell_type": "code",
   "execution_count": 8,
   "id": "15dcbfc4",
   "metadata": {},
   "outputs": [
    {
     "data": {
      "image/png": "[encoded data removed]",
      "text/plain": [
       "<Figure size 1000x600 with 1 Axes>"
      ]
     },
     "metadata": {},
     "output_type": "display_data"
    }
   ],
   "source": [
    "perc = df.groupby('block')['K01'].value_counts(normalize=True).sort_index().unstack(level=0).fillna(0)\n",
    "\n",
    "ax = perc.plot(kind='bar', figsize=(10,6), width=0.8)\n",
    "plt.title('Subjective ease of categorization: Categorization confidence')\n",
    "plt.ylabel('Percentage of responses')\n",
    "plt.xlabel('Categorization confidence')\n",
    "ax.set_xticklabels([5,4,3,2,1], rotation=0)\n",
    "ax.grid(True, axis='y', linestyle='--', alpha=0.7)\n",
    "ax.set_axisbelow(True)\n",
    "ax.legend(title='Categories', labels=['Old', 'New'])\n",
    "plt.tight_layout()\n",
    "plt.show()"
   ]
  },
  {
   "cell_type": "markdown",
   "id": "ad6f2652",
   "metadata": {},
   "source": [
    "## Regression"
   ]
  },
  {
   "cell_type": "markdown",
   "id": "43bb6ca9",
   "metadata": {},
   "source": [
    "We will begin with a simple OLS, just using block as predictor and then continuously add other predictors."
   ]
  },
  {
   "cell_type": "code",
   "execution_count": 9,
   "id": "ba0989ab",
   "metadata": {},
   "outputs": [
    {
     "name": "stdout",
     "output_type": "stream",
     "text": [
      "                            OLS Regression Results                            \n",
      "==============================================================================\n",
      "Dep. Variable:                K01_num   R-squared:                       0.003\n",
      "Model:                            OLS   Adj. R-squared:                 -0.011\n",
      "Method:                 Least Squares   F-statistic:                    0.2179\n",
      "Date:                Thu, 10 Jul 2025   Prob (F-statistic):              0.642\n",
      "Time:                        14:30:23   Log-Likelihood:                -94.868\n",
      "No. Observations:                  73   AIC:                             193.7\n",
      "Df Residuals:                      71   BIC:                             198.3\n",
      "Df Model:                           1                                         \n",
      "Covariance Type:            nonrobust                                         \n",
      "==============================================================================\n",
      "                 coef    std err          t      P>|t|      [0.025      0.975]\n",
      "------------------------------------------------------------------------------\n",
      "Intercept      3.5405      0.148     23.932      0.000       3.246       3.836\n",
      "block          0.0983      0.211      0.467      0.642      -0.322       0.518\n",
      "==============================================================================\n",
      "Omnibus:                       12.118   Durbin-Watson:                   2.089\n",
      "Prob(Omnibus):                  0.002   Jarque-Bera (JB):               12.579\n",
      "Skew:                          -0.953   Prob(JB):                      0.00186\n",
      "Kurtosis:                       3.708   Cond. No.                         2.60\n",
      "==============================================================================\n",
      "\n",
      "Notes:\n",
      "[1] Standard Errors assume that the covariance matrix of the errors is correctly specified.\n"
     ]
    },
    {
     "name": "stderr",
     "output_type": "stream",
     "text": [
      "/tmp/ipykernel_18137/3752901577.py:10: SettingWithCopyWarning: \n",
      "A value is trying to be set on a copy of a slice from a DataFrame.\n",
      "Try using .loc[row_indexer,col_indexer] = value instead\n",
      "\n",
      "See the caveats in the documentation: https://pandas.pydata.org/pandas-docs/stable/user_guide/indexing.html#returning-a-view-versus-a-copy\n",
      "  df_model['K01_num'] = pd.to_numeric(df_model['K01_num'])\n"
     ]
    }
   ],
   "source": [
    "mapping = {\n",
    "    'Sehr sicher': 5,\n",
    "    'Sicher': 4,\n",
    "    'Weder sicher noch unsicher': 3,\n",
    "    'Unsicher': 2,\n",
    "    'Sehr unsicher': 1\n",
    "}\n",
    "df['K01_num'] = df['K01'].map(mapping)\n",
    "df_model = df.dropna(subset=['K01_num', 'block'])\n",
    "df_model['K01_num'] = pd.to_numeric(df_model['K01_num'])\n",
    "model = smf.ols('K01_num ~ block', data=df_model).fit()\n",
    "print(model.summary())"
   ]
  },
  {
   "cell_type": "code",
   "execution_count": 23,
   "id": "015f3797",
   "metadata": {},
   "outputs": [
    {
     "name": "stderr",
     "output_type": "stream",
     "text": [
      "/tmp/ipykernel_18137/1046004398.py:2: SettingWithCopyWarning: \n",
      "A value is trying to be set on a copy of a slice from a DataFrame.\n",
      "Try using .loc[row_indexer,col_indexer] = value instead\n",
      "\n",
      "See the caveats in the documentation: https://pandas.pydata.org/pandas-docs/stable/user_guide/indexing.html#returning-a-view-versus-a-copy\n",
      "  df_model['fitted'] = pred_table['mean']\n",
      "/tmp/ipykernel_18137/1046004398.py:3: SettingWithCopyWarning: \n",
      "A value is trying to be set on a copy of a slice from a DataFrame.\n",
      "Try using .loc[row_indexer,col_indexer] = value instead\n",
      "\n",
      "See the caveats in the documentation: https://pandas.pydata.org/pandas-docs/stable/user_guide/indexing.html#returning-a-view-versus-a-copy\n",
      "  df_model['mean_ci_lower'] = pred_table['mean_ci_lower']\n",
      "/tmp/ipykernel_18137/1046004398.py:4: SettingWithCopyWarning: \n",
      "A value is trying to be set on a copy of a slice from a DataFrame.\n",
      "Try using .loc[row_indexer,col_indexer] = value instead\n",
      "\n",
      "See the caveats in the documentation: https://pandas.pydata.org/pandas-docs/stable/user_guide/indexing.html#returning-a-view-versus-a-copy\n",
      "  df_model['mean_ci_upper'] = pred_table['mean_ci_upper']\n",
      "/tmp/ipykernel_18137/1046004398.py:8: FutureWarning: \n",
      "\n",
      "The `ci` parameter is deprecated. Use `errorbar=None` for the same effect.\n",
      "\n",
      "  sns.pointplot(x='block', y='K01_num', data=df_model,\n",
      "/tmp/ipykernel_18137/1046004398.py:8: UserWarning: \n",
      "\n",
      "The `join` parameter is deprecated and will be removed in v0.15.0. You can remove the line between points with `linestyle='none'`.\n",
      "\n",
      "  sns.pointplot(x='block', y='K01_num', data=df_model,\n"
     ]
    },
    {
     "data": {
      "image/png": "[encoded data removed]",
      "text/plain": [
       "<Figure size 1000x600 with 1 Axes>"
      ]
     },
     "metadata": {},
     "output_type": "display_data"
    }
   ],
   "source": [
    "pred_table = model.get_prediction().summary_frame(alpha=0.05)\n",
    "df_model['fitted'] = pred_table['mean']\n",
    "df_model['mean_ci_lower'] = pred_table['mean_ci_lower']\n",
    "df_model['mean_ci_upper'] = pred_table['mean_ci_upper']\n",
    "\n",
    "# Plot point estimates with CI\n",
    "plt.figure(figsize=(10,6))\n",
    "sns.pointplot(x='block', y='K01_num', data=df_model, \n",
    "              ci=None, color='blue', join=False)\n",
    "\n",
    "# Overlay predicted means from model\n",
    "mean_preds = df_model.groupby('block')[['fitted', 'mean_ci_lower', 'mean_ci_upper']].mean().reset_index()\n",
    "\n",
    "plt.errorbar(mean_preds['block'], mean_preds['fitted'],\n",
    "             yerr=[mean_preds['fitted'] - mean_preds['mean_ci_lower'],\n",
    "                   mean_preds['mean_ci_upper'] - mean_preds['fitted']],\n",
    "             fmt='o', color='blue', capsize=5, label='Model estimate ±95% CI')\n",
    "\n",
    "plt.ylabel('Categorization confidence')\n",
    "plt.ylim(1,5)\n",
    "plt.xlabel('Condition')\n",
    "plt.grid(True, axis='y', linestyle='--', alpha=0.7)\n",
    "plt.xticks([0, 1], ['Old', 'New'])\n",
    "plt.title('Simple linear regression: Predicted subjective ease of categorization')\n",
    "plt.legend()\n",
    "plt.show()"
   ]
  },
  {
   "cell_type": "markdown",
   "id": "687a78ca",
   "metadata": {},
   "source": [
    "Predictors:\n",
    "- Bekanntheit Mangelmelder\n",
    "- Sozio-demographisch"
   ]
  },
  {
   "cell_type": "code",
   "execution_count": 24,
   "id": "b320225e",
   "metadata": {},
   "outputs": [],
   "source": [
    "\n",
    "df['MM_bekannt'] = df['G00Q02[SQ002]'].apply(lambda x: 1 if x == 'Nein' else 0)\n",
    "df['MM_OL_bekannt'] = df['G00Q03[SQ001]'].apply(lambda x: 1 if x == 'Ja' else 0)\n",
    "df['MM_OL_benutzt'] = df['G00Q04[SQ001]'].apply(lambda x: 1 if x == 'Ja' else 0)\n"
   ]
  },
  {
   "cell_type": "code",
   "execution_count": 25,
   "id": "810fc8fe",
   "metadata": {},
   "outputs": [],
   "source": [
    "df['educ'].value_counts()\n",
    "# transform into with/without university degree\n",
    "df['educ_bin'] = df['educ'].apply(lambda x: 1 if x == 'Hochschulabschluss' else 0)"
   ]
  },
  {
   "cell_type": "code",
   "execution_count": 26,
   "id": "7d8c44b9",
   "metadata": {},
   "outputs": [],
   "source": [
    "df['sex'].value_counts()\n",
    "# done because of small sample size, which makes Divers a bad reference category (no discrimination intended)\n",
    "def binarize_sex(x):\n",
    "    if x == 'Männlich':\n",
    "        return 1\n",
    "    elif x == 'Weiblich':\n",
    "        return 0\n",
    "    elif x == 'Divers':\n",
    "        return np.nan\n",
    "df['sex_bin'] = df['sex'].apply(binarize_sex)"
   ]
  },
  {
   "cell_type": "code",
   "execution_count": 27,
   "id": "bfbddd84",
   "metadata": {},
   "outputs": [
    {
     "data": {
      "text/plain": [
       "age\n",
       "21.0    12\n",
       "26.0     8\n",
       "25.0     8\n",
       "20.0     6\n",
       "29.0     5\n",
       "23.0     5\n",
       "27.0     5\n",
       "22.0     5\n",
       "19.0     4\n",
       "24.0     4\n",
       "33.0     3\n",
       "28.0     3\n",
       "30.0     2\n",
       "31.0     1\n",
       "Name: count, dtype: int64"
      ]
     },
     "execution_count": 27,
     "metadata": {},
     "output_type": "execute_result"
    }
   ],
   "source": [
    "df['age'].value_counts()"
   ]
  },
  {
   "cell_type": "code",
   "execution_count": 36,
   "id": "cb1ac7f5",
   "metadata": {},
   "outputs": [
    {
     "name": "stdout",
     "output_type": "stream",
     "text": [
      "                            OLS Regression Results                            \n",
      "==============================================================================\n",
      "Dep. Variable:                K01_num   R-squared:                       0.075\n",
      "Model:                            OLS   Adj. R-squared:                  0.001\n",
      "Method:                 Least Squares   F-statistic:                     1.016\n",
      "Date:                Thu, 10 Jul 2025   Prob (F-statistic):              0.416\n",
      "Time:                        15:02:10   Log-Likelihood:                -83.022\n",
      "No. Observations:                  69   AIC:                             178.0\n",
      "Df Residuals:                      63   BIC:                             191.4\n",
      "Df Model:                           5                                         \n",
      "Covariance Type:            nonrobust                                         \n",
      "==============================================================================\n",
      "                 coef    std err          t      P>|t|      [0.025      0.975]\n",
      "------------------------------------------------------------------------------\n",
      "Intercept      4.1279      0.894      4.615      0.000       2.341       5.915\n",
      "block          0.0361      0.205      0.176      0.861      -0.373       0.446\n",
      "MM_bekannt    -0.2944      0.267     -1.103      0.274      -0.828       0.239\n",
      "educ_bin       0.3810      0.262      1.453      0.151      -0.143       0.905\n",
      "sex_bin       -0.2727      0.226     -1.206      0.232      -0.725       0.179\n",
      "age           -0.0163      0.038     -0.431      0.668      -0.092       0.059\n",
      "==============================================================================\n",
      "Omnibus:                        4.578   Durbin-Watson:                   1.935\n",
      "Prob(Omnibus):                  0.101   Jarque-Bera (JB):                3.829\n",
      "Skew:                          -0.558   Prob(JB):                        0.147\n",
      "Kurtosis:                       3.290   Cond. No.                         222.\n",
      "==============================================================================\n",
      "\n",
      "Notes:\n",
      "[1] Standard Errors assume that the covariance matrix of the errors is correctly specified.\n"
     ]
    },
    {
     "name": "stderr",
     "output_type": "stream",
     "text": [
      "/tmp/ipykernel_18137/2458507958.py:2: SettingWithCopyWarning: \n",
      "A value is trying to be set on a copy of a slice from a DataFrame.\n",
      "Try using .loc[row_indexer,col_indexer] = value instead\n",
      "\n",
      "See the caveats in the documentation: https://pandas.pydata.org/pandas-docs/stable/user_guide/indexing.html#returning-a-view-versus-a-copy\n",
      "  df_model['K01_num'] = pd.to_numeric(df_model['K01_num'])\n"
     ]
    }
   ],
   "source": [
    "df_model = df.dropna(subset=['K01_num', 'block', 'MM_bekannt', 'educ_bin', 'sex_bin', 'age'])\n",
    "df_model['K01_num'] = pd.to_numeric(df_model['K01_num'])\n",
    "formula = \"K01_num ~ block + MM_bekannt + educ_bin + sex_bin + age\"\n",
    "model = smf.ols(formula, data=df_model).fit()\n",
    "print(model.summary())"
   ]
  },
  {
   "cell_type": "code",
   "execution_count": 37,
   "id": "4037e282",
   "metadata": {},
   "outputs": [],
   "source": [
    "with open('model_summary.html', 'w') as f:\n",
    "    f.write(model.summary().as_html())"
   ]
  },
  {
   "cell_type": "code",
   "execution_count": 38,
   "id": "0abc5fe0",
   "metadata": {},
   "outputs": [],
   "source": [
    "with open('model_summary.txt', 'w') as f:\n",
    "    f.write(model.summary().as_text())"
   ]
  },
  {
   "cell_type": "code",
   "execution_count": 34,
   "id": "093ce05e",
   "metadata": {},
   "outputs": [
    {
     "name": "stdout",
     "output_type": "stream",
     "text": [
      "\n",
      "====================================\n",
      "                             Model  \n",
      "------------------------------------\n",
      "Intercept                  3.9927***\n",
      "                           (0.9042) \n",
      "Gender (Diverse vs Female) -1.4913**\n",
      "                           (0.6392) \n",
      "Sex (Male vs Female)       -0.2828  \n",
      "                           (0.2294) \n",
      "Condition (New vs Old)     0.0393   \n",
      "                           (0.2080) \n",
      "Familiarity                -0.2928  \n",
      "                           (0.2708) \n",
      "Education                  0.3554   \n",
      "                           (0.2656) \n",
      "Age                        -0.0102  \n",
      "                           (0.0381) \n",
      "R-squared                  0.1544   \n",
      "R-squared Adj.             0.0751   \n",
      "====================================\n",
      "Standard errors in parentheses.\n",
      "* p<.1, ** p<.05, ***p<.01\n"
     ]
    }
   ],
   "source": [
    "# Get summary table\n",
    "summary = summary_col([model], stars=True, model_names=['Model'])\n",
    "\n",
    "# Change row labels\n",
    "new_names = {\n",
    "    \"C(sex, Treatment(reference='Weiblich'))[T.Männlich]\": \"Sex (Male vs Female)\",\n",
    "    \"C(sex, Treatment(reference='Weiblich'))[T.Divers]\": \"Gender (Diverse vs Female)\",\n",
    "    \"block\": \"Condition (New vs Old)\",\n",
    "    \"MM_bekannt\": \"Familiarity\",\n",
    "    \"educ_bin\": \"Education\",\n",
    "    \"age\": \"Age\"\n",
    "}\n",
    "\n",
    "# Replace index\n",
    "summary.tables[0].index = [new_names.get(idx, idx) for idx in summary.tables[0].index]\n",
    "\n",
    "# Print or save\n",
    "print(summary)"
   ]
  },
  {
   "cell_type": "markdown",
   "id": "fb1f3eca",
   "metadata": {},
   "source": [
    "Check whether linear model is sufficient (or whether we need to switch to e.g., ordered logit). Expectation: residulas will not be normally distributed."
   ]
  },
  {
   "cell_type": "code",
   "execution_count": 39,
   "id": "b881696c",
   "metadata": {},
   "outputs": [
    {
     "data": {
      "image/png": "[encoded data removed]",
      "text/plain": [
       "<Figure size 800x500 with 1 Axes>"
      ]
     },
     "metadata": {},
     "output_type": "display_data"
    }
   ],
   "source": [
    "fitted_vals = model.fittedvalues\n",
    "residuals = model.resid\n",
    "plt.figure(figsize=(8,5))\n",
    "sns.scatterplot(x=fitted_vals, y=residuals)\n",
    "plt.axhline(0, color='red', linestyle='--')\n",
    "plt.xlabel('Fitted values')\n",
    "plt.ylabel('Residuals')\n",
    "plt.title('Residuals vs Fitted')\n",
    "plt.show()"
   ]
  },
  {
   "cell_type": "code",
   "execution_count": 40,
   "id": "7afeb552",
   "metadata": {},
   "outputs": [
    {
     "data": {
      "image/png": "[encoded data removed]",
      "text/plain": [
       "<Figure size 700x400 with 1 Axes>"
      ]
     },
     "metadata": {},
     "output_type": "display_data"
    }
   ],
   "source": [
    "plt.figure(figsize=(7,4))\n",
    "sns.histplot(residuals, kde=True)\n",
    "plt.title('Histogram of Residuals')\n",
    "plt.show()"
   ]
  },
  {
   "cell_type": "code",
   "execution_count": 41,
   "id": "d1afc6bd",
   "metadata": {},
   "outputs": [
    {
     "data": {
      "image/png": "[encoded data removed]",
      "text/plain": [
       "<Figure size 640x480 with 1 Axes>"
      ]
     },
     "metadata": {},
     "output_type": "display_data"
    }
   ],
   "source": [
    "sm.qqplot(residuals, line='45', fit=True)\n",
    "plt.title('Q-Q Plot of Residuals')\n",
    "plt.show()"
   ]
  },
  {
   "cell_type": "markdown",
   "id": "b2f7c249",
   "metadata": {},
   "source": [
    "Residuals are not exactly normally distributed, but better than expected."
   ]
  },
  {
   "cell_type": "code",
   "execution_count": 42,
   "id": "7f99e1c2",
   "metadata": {},
   "outputs": [
    {
     "name": "stdout",
     "output_type": "stream",
     "text": [
      "{'Lagrange multiplier stat': np.float64(15.821351434026237), 'p-value': np.float64(0.007373071384996104), 'f-value': np.float64(3.7486666819187193), 'f p-value': np.float64(0.004922005491581218)}\n"
     ]
    }
   ],
   "source": [
    "bp_test = het_breuschpagan(residuals, model.model.exog)\n",
    "labels = ['Lagrange multiplier stat', 'p-value', 'f-value', 'f p-value']\n",
    "print(dict(zip(labels, bp_test)))"
   ]
  },
  {
   "cell_type": "markdown",
   "id": "03c2e9d7",
   "metadata": {},
   "source": [
    "Errors are homoskedastic -> good."
   ]
  },
  {
   "cell_type": "code",
   "execution_count": 43,
   "id": "1b612cf2",
   "metadata": {},
   "outputs": [
    {
     "name": "stdout",
     "output_type": "stream",
     "text": [
      "      feature        VIF\n",
      "0   Intercept  77.578698\n",
      "1       block   1.017777\n",
      "2  MM_bekannt   1.055833\n",
      "3    educ_bin   1.663291\n",
      "4     sex_bin   1.145669\n",
      "5         age   1.811270\n"
     ]
    }
   ],
   "source": [
    "X = model.model.exog\n",
    "vif_data = pd.DataFrame()\n",
    "vif_data[\"feature\"] = model.model.exog_names\n",
    "vif_data[\"VIF\"] = [variance_inflation_factor(X, i) for i in range(X.shape[1])]\n",
    "print(vif_data)"
   ]
  },
  {
   "cell_type": "markdown",
   "id": "66269ef2",
   "metadata": {},
   "source": [
    "No multicollinearity -> good."
   ]
  },
  {
   "cell_type": "markdown",
   "id": "b3adddcb",
   "metadata": {},
   "source": [
    "No need to check for extreme values or outliers. There will be none, given the bounded scales we are using (at least no univariate outliers)."
   ]
  },
  {
   "cell_type": "markdown",
   "id": "dc6d10df",
   "metadata": {},
   "source": [
    "# Objective ease of categorization"
   ]
  },
  {
   "cell_type": "code",
   "execution_count": 44,
   "id": "f6e5dd10",
   "metadata": {},
   "outputs": [
    {
     "data": {
      "text/html": [
       "<div>\n",
       "<style scoped>\n",
       "    .dataframe tbody tr th:only-of-type {\n",
       "        vertical-align: middle;\n",
       "    }\n",
       "\n",
       "    .dataframe tbody tr th {\n",
       "        vertical-align: top;\n",
       "    }\n",
       "\n",
       "    .dataframe thead th {\n",
       "        text-align: right;\n",
       "    }\n",
       "</style>\n",
       "<table border=\"1\" class=\"dataframe\">\n",
       "  <thead>\n",
       "    <tr style=\"text-align: right;\">\n",
       "      <th></th>\n",
       "      <th>id</th>\n",
       "      <th>submitdate</th>\n",
       "      <th>lastpage</th>\n",
       "      <th>startlanguage</th>\n",
       "      <th>seed</th>\n",
       "      <th>startdate</th>\n",
       "      <th>datestamp</th>\n",
       "      <th>block</th>\n",
       "      <th>M01</th>\n",
       "      <th>M02</th>\n",
       "      <th>...</th>\n",
       "      <th>groupTime29372</th>\n",
       "      <th>sexTime</th>\n",
       "      <th>ageTime</th>\n",
       "      <th>educTime</th>\n",
       "      <th>K01_num</th>\n",
       "      <th>MM_bekannt</th>\n",
       "      <th>MM_OL_bekannt</th>\n",
       "      <th>MM_OL_benutzt</th>\n",
       "      <th>educ_bin</th>\n",
       "      <th>sex_bin</th>\n",
       "    </tr>\n",
       "  </thead>\n",
       "  <tbody>\n",
       "    <tr>\n",
       "      <th>0</th>\n",
       "      <td>1</td>\n",
       "      <td>2025-07-05 14:43:13</td>\n",
       "      <td>6</td>\n",
       "      <td>de</td>\n",
       "      <td>352066507</td>\n",
       "      <td>2025-07-05 14:40:44</td>\n",
       "      <td>2025-07-05 14:43:13</td>\n",
       "      <td>1</td>\n",
       "      <td>NaN</td>\n",
       "      <td>NaN</td>\n",
       "      <td>...</td>\n",
       "      <td>10.16</td>\n",
       "      <td>NaN</td>\n",
       "      <td>NaN</td>\n",
       "      <td>NaN</td>\n",
       "      <td>4</td>\n",
       "      <td>1</td>\n",
       "      <td>1</td>\n",
       "      <td>0</td>\n",
       "      <td>1</td>\n",
       "      <td>1.0</td>\n",
       "    </tr>\n",
       "  </tbody>\n",
       "</table>\n",
       "<p>1 rows × 142 columns</p>\n",
       "</div>"
      ],
      "text/plain": [
       "   id           submitdate  lastpage startlanguage       seed  \\\n",
       "0   1  2025-07-05 14:43:13         6            de  352066507   \n",
       "\n",
       "             startdate            datestamp  block  M01  M02  ...  \\\n",
       "0  2025-07-05 14:40:44  2025-07-05 14:43:13      1  NaN  NaN  ...   \n",
       "\n",
       "  groupTime29372 sexTime ageTime educTime K01_num MM_bekannt MM_OL_bekannt  \\\n",
       "0          10.16     NaN     NaN      NaN       4          1             1   \n",
       "\n",
       "   MM_OL_benutzt educ_bin sex_bin  \n",
       "0              0        1     1.0  \n",
       "\n",
       "[1 rows x 142 columns]"
      ]
     },
     "metadata": {},
     "output_type": "display_data"
    }
   ],
   "source": [
    "pd.set_option('display.max_rows', None)\n",
    "display(df.head(1))"
   ]
  },
  {
   "cell_type": "markdown",
   "id": "ddf929a1",
   "metadata": {},
   "source": [
    "# Go through each picture and see categories chosen"
   ]
  },
  {
   "cell_type": "code",
   "execution_count": 51,
   "id": "014b5cde",
   "metadata": {},
   "outputs": [
    {
     "name": "stdout",
     "output_type": "stream",
     "text": [
      "Old categories: M01\n",
      "Wilde Müllkippe 🧹    0.717949\n",
      "Abfall 🗑             0.282051\n",
      "Name: proportion, dtype: float64\n",
      "New categories: P01\n",
      "Müllentsorgung                0.742857\n",
      "Natur & öffentliche Plätze    0.257143\n",
      "Name: proportion, dtype: float64\n",
      "Old categories: M02\n",
      "Straßen 🚧    1.0\n",
      "Name: proportion, dtype: float64\n",
      "New categories: P02\n",
      "Verkehr & Infrastruktur    1.0\n",
      "Name: proportion, dtype: float64\n",
      "Old categories: M03\n",
      "Abfall 🗑             0.564103\n",
      "Wilde Müllkippe 🧹    0.410256\n",
      "Straßen 🚧            0.025641\n",
      "Name: proportion, dtype: float64\n",
      "New categories: P03\n",
      "Müllentsorgung                0.885714\n",
      "Natur & öffentliche Plätze    0.085714\n",
      "Sonstiges                     0.028571\n",
      "Name: proportion, dtype: float64\n",
      "Old categories: M04\n",
      "Wilde Müllkippe 🧹    0.641026\n",
      "Abfall 🗑             0.358974\n",
      "Name: proportion, dtype: float64\n",
      "New categories: P04\n",
      "Müllentsorgung                0.971429\n",
      "Natur & öffentliche Plätze    0.028571\n",
      "Name: proportion, dtype: float64\n",
      "Old categories: M05\n",
      "Abfall 🗑             0.74359\n",
      "Wilde Müllkippe 🧹    0.25641\n",
      "Name: proportion, dtype: float64\n",
      "New categories: P05\n",
      "Müllentsorgung                0.914286\n",
      "Natur & öffentliche Plätze    0.085714\n",
      "Name: proportion, dtype: float64\n",
      "Old categories: M06\n",
      "Verkehrszeichen ⚠️    0.897436\n",
      "Straßen 🚧             0.051282\n",
      "Danke sagen 🙏         0.025641\n",
      "Spielplätze 🧸         0.025641\n",
      "Name: proportion, dtype: float64\n",
      "New categories: P06\n",
      "Verkehr & Infrastruktur       0.828571\n",
      "Natur & öffentliche Plätze    0.114286\n",
      "Sonstiges                     0.057143\n",
      "Name: proportion, dtype: float64\n",
      "Old categories: M07\n",
      "Abfall 🗑             0.641026\n",
      "Wilde Müllkippe 🧹    0.358974\n",
      "Name: proportion, dtype: float64\n",
      "New categories: P07\n",
      "Müllentsorgung                0.828571\n",
      "Natur & öffentliche Plätze    0.171429\n",
      "Name: proportion, dtype: float64\n"
     ]
    }
   ],
   "source": [
    "for i in range(1,8):\n",
    "    print(f'Old categories: {df[f'M0{i}'].value_counts(normalize=True)}')\n",
    "    print(f'New categories: {df[f'P0{i}'].value_counts(normalize=True)}')"
   ]
  },
  {
   "cell_type": "code",
   "execution_count": 46,
   "id": "7f9c01ec",
   "metadata": {},
   "outputs": [
    {
     "name": "stdout",
     "output_type": "stream",
     "text": [
      "New categories: P01\n",
      "Müllentsorgung                26\n",
      "Natur & öffentliche Plätze     9\n",
      "Name: count, dtype: int64\n",
      "Series([], Name: count, dtype: int64)\n",
      "P01M\n",
      "Umweltverschmutzung      22\n",
      "Öffentliche Mülleimer     4\n",
      "Name: count, dtype: int64\n",
      "P01N\n",
      "Umweltverschmutzung    8\n",
      "Sonstiges              1\n",
      "Name: count, dtype: int64\n",
      "Series([], Name: count, dtype: int64)\n",
      "New categories: P02\n",
      "Verkehr & Infrastruktur    35\n",
      "Name: count, dtype: int64\n",
      "P02V\n",
      "Asphalt & Schlaglöcher    31\n",
      "Fahrradwege                3\n",
      "Sonstiges                  1\n",
      "Name: count, dtype: int64\n",
      "Series([], Name: count, dtype: int64)\n",
      "Series([], Name: count, dtype: int64)\n",
      "Series([], Name: count, dtype: int64)\n",
      "New categories: P03\n",
      "Müllentsorgung                31\n",
      "Natur & öffentliche Plätze     3\n",
      "Sonstiges                      1\n",
      "Name: count, dtype: int64\n",
      "Series([], Name: count, dtype: int64)\n",
      "P03M\n",
      "Sperrmüll                28\n",
      "Umweltverschmutzung       1\n",
      "Sonstiges                 1\n",
      "Öffentliche Mülleimer     1\n",
      "Name: count, dtype: int64\n",
      "P03N\n",
      "Umweltverschmutzung    2\n",
      "Name: count, dtype: int64\n",
      "P03S\n",
      "Andere Verkehrsbeeinträchtigungen    1\n",
      "Name: count, dtype: int64\n",
      "New categories: P04\n",
      "Müllentsorgung                34\n",
      "Natur & öffentliche Plätze     1\n",
      "Name: count, dtype: int64\n",
      "Series([], Name: count, dtype: int64)\n",
      "P04M\n",
      "Altglas- & Altkleidercontainer    25\n",
      "Sperrmüll                          6\n",
      "Umweltverschmutzung                2\n",
      "Öffentliche Mülleimer              1\n",
      "Name: count, dtype: int64\n",
      "P04N\n",
      "Umweltverschmutzung    1\n",
      "Name: count, dtype: int64\n",
      "Series([], Name: count, dtype: int64)\n",
      "New categories: P05\n",
      "Müllentsorgung                32\n",
      "Natur & öffentliche Plätze     3\n",
      "Name: count, dtype: int64\n",
      "Series([], Name: count, dtype: int64)\n",
      "P05M\n",
      "Sonstiges                12\n",
      "Umweltverschmutzung      11\n",
      "Öffentliche Mülleimer     8\n",
      "Sperrmüll                 1\n",
      "Name: count, dtype: int64\n",
      "P05N\n",
      "Umweltverschmutzung    3\n",
      "Name: count, dtype: int64\n",
      "Series([], Name: count, dtype: int64)\n",
      "New categories: P06\n",
      "Verkehr & Infrastruktur       29\n",
      "Natur & öffentliche Plätze     4\n",
      "Sonstiges                      2\n",
      "Name: count, dtype: int64\n",
      "P06V\n",
      "Ampeln, Verkehrsschilder & Straßenbeleuchtung    27\n",
      "Sonstiges                                         2\n",
      "Name: count, dtype: int64\n",
      "Series([], Name: count, dtype: int64)\n",
      "P06N\n",
      "Aufkleber, Plakate & Sprüche    4\n",
      "Name: count, dtype: int64\n",
      "P06S\n",
      "Aufkleber, Plakate & Sprüche    1\n",
      "Name: count, dtype: int64\n",
      "New categories: P07\n",
      "Müllentsorgung                29\n",
      "Natur & öffentliche Plätze     6\n",
      "Name: count, dtype: int64\n",
      "Series([], Name: count, dtype: int64)\n",
      "P07M\n",
      "Gefahrenstoffe         13\n",
      "Umweltverschmutzung    12\n",
      "Sonstiges               3\n",
      "Sperrmüll               1\n",
      "Name: count, dtype: int64\n",
      "P07N\n",
      "Umweltverschmutzung    5\n",
      "Öffentliche Plätze     1\n",
      "Name: count, dtype: int64\n",
      "Series([], Name: count, dtype: int64)\n"
     ]
    }
   ],
   "source": [
    "# look at sub-categories\n",
    "sub_cats = ['V', 'M', 'N', 'S']\n",
    "for i in range(1,8):\n",
    "    print(f'New categories: {df[f'P0{i}'].value_counts()}')\n",
    "    for j in sub_cats:\n",
    "        print(df[f'P0{i}{j}'].value_counts())"
   ]
  },
  {
   "cell_type": "code",
   "execution_count": 47,
   "id": "fdd0774a",
   "metadata": {},
   "outputs": [
    {
     "data": {
      "text/html": [
       "<div>\n",
       "<style scoped>\n",
       "    .dataframe tbody tr th:only-of-type {\n",
       "        vertical-align: middle;\n",
       "    }\n",
       "\n",
       "    .dataframe tbody tr th {\n",
       "        vertical-align: top;\n",
       "    }\n",
       "\n",
       "    .dataframe thead th {\n",
       "        text-align: right;\n",
       "    }\n",
       "</style>\n",
       "<table border=\"1\" class=\"dataframe\">\n",
       "  <thead>\n",
       "    <tr style=\"text-align: right;\">\n",
       "      <th></th>\n",
       "      <th>old</th>\n",
       "      <th>new</th>\n",
       "    </tr>\n",
       "  </thead>\n",
       "  <tbody>\n",
       "    <tr>\n",
       "      <th>0</th>\n",
       "      <td>0.717949</td>\n",
       "      <td>0.742857</td>\n",
       "    </tr>\n",
       "    <tr>\n",
       "      <th>1</th>\n",
       "      <td>1.000000</td>\n",
       "      <td>1.000000</td>\n",
       "    </tr>\n",
       "    <tr>\n",
       "      <th>2</th>\n",
       "      <td>0.564103</td>\n",
       "      <td>0.885714</td>\n",
       "    </tr>\n",
       "    <tr>\n",
       "      <th>3</th>\n",
       "      <td>0.641026</td>\n",
       "      <td>0.971429</td>\n",
       "    </tr>\n",
       "    <tr>\n",
       "      <th>4</th>\n",
       "      <td>0.743590</td>\n",
       "      <td>0.914286</td>\n",
       "    </tr>\n",
       "    <tr>\n",
       "      <th>5</th>\n",
       "      <td>0.897436</td>\n",
       "      <td>0.828571</td>\n",
       "    </tr>\n",
       "    <tr>\n",
       "      <th>6</th>\n",
       "      <td>0.641026</td>\n",
       "      <td>0.828571</td>\n",
       "    </tr>\n",
       "    <tr>\n",
       "      <th>7</th>\n",
       "      <td>0.769231</td>\n",
       "      <td>0.914286</td>\n",
       "    </tr>\n",
       "  </tbody>\n",
       "</table>\n",
       "</div>"
      ],
      "text/plain": [
       "        old       new\n",
       "0  0.717949  0.742857\n",
       "1  1.000000  1.000000\n",
       "2  0.564103  0.885714\n",
       "3  0.641026  0.971429\n",
       "4  0.743590  0.914286\n",
       "5  0.897436  0.828571\n",
       "6  0.641026  0.828571\n",
       "7  0.769231  0.914286"
      ]
     },
     "metadata": {},
     "output_type": "display_data"
    }
   ],
   "source": [
    "# extract level of agreement (based on top category)\n",
    "agreement = []\n",
    "for i in range(1,9):\n",
    "    old_cat_agreement = df[f'M0{i}'].value_counts(normalize=True).iloc[0]\n",
    "    new_cat_agreement = df[f'P0{i}'].value_counts(normalize=True).iloc[0]\n",
    "    agreement.append({'old': old_cat_agreement,\n",
    "                             'new': new_cat_agreement})\n",
    "agreement_df = pd.DataFrame(agreement)\n",
    "display(agreement_df)\n",
    "    "
   ]
  },
  {
   "cell_type": "code",
   "execution_count": 48,
   "id": "ff2fa174",
   "metadata": {},
   "outputs": [
    {
     "name": "stdout",
     "output_type": "stream",
     "text": [
      "Paired t-test: t = 2.694, p = 0.031\n",
      "Wilcoxon signed-rank test: W = 2.000, p = 0.047\n"
     ]
    }
   ],
   "source": [
    "#t-test\n",
    "t_stat, p_value = ttest_rel(agreement_df['new'], agreement_df['old'])\n",
    "print(f\"Paired t-test: t = {t_stat:.3f}, p = {p_value:.3f}\")\n",
    "#Wilcoxon signed rank\n",
    "w_stat, p_value = wilcoxon(agreement_df['new'], agreement_df['old'])\n",
    "print(f\"Wilcoxon signed-rank test: W = {w_stat:.3f}, p = {p_value:.3f}\")"
   ]
  },
  {
   "cell_type": "code",
   "execution_count": 49,
   "id": "0724d047",
   "metadata": {},
   "outputs": [
    {
     "data": {
      "image/png": "[encoded data removed]",
      "text/plain": [
       "<Figure size 1000x600 with 1 Axes>"
      ]
     },
     "metadata": {},
     "output_type": "display_data"
    }
   ],
   "source": [
    "# Setup\n",
    "x = np.arange(len(agreement_df))  # the label locations\n",
    "width = 0.35            # the width of the bars\n",
    "\n",
    "fig, ax = plt.subplots(figsize=(10,6))\n",
    "\n",
    "bars1 = ax.bar(x - width/2, agreement_df['old'], width, label='Old')\n",
    "bars2 = ax.bar(x + width/2, agreement_df['new'], width, label='New')\n",
    "\n",
    "# Labels etc.\n",
    "ax.set_ylabel('Top category percentage')\n",
    "ax.set_xlabel('Picture')\n",
    "ax.set_title('Objective ease of categorization: Inter-respondent agreement')\n",
    "ax.set_xticks(x)\n",
    "#ax.set_xticklabels(df['picture'], rotation=45, ha='right')\n",
    "ax.grid(True, axis='y', linestyle='--', alpha=0.7)\n",
    "ax.set_axisbelow(True)\n",
    "ax.legend(title='Categories', labels=['Old', 'New'])\n",
    "\n",
    "\n",
    "plt.tight_layout()\n",
    "plt.show()"
   ]
  },
  {
   "cell_type": "code",
   "execution_count": null,
   "id": "13629003",
   "metadata": {},
   "outputs": [],
   "source": [
    "ax = perc.plot(kind='bar', figsize=(10,6), width=0.8)\n",
    "plt.title('Categorization confidence: Old vs. new categories')\n",
    "plt.ylabel('Percentage of responses')\n",
    "plt.xlabel('Categorization confidence')\n",
    "ax.set_xticklabels([5,4,3,2,1], rotation=0)\n",
    "ax.grid(True, axis='y', linestyle='--', alpha=0.7)\n",
    "ax.set_axisbelow(True)\n",
    "ax.legend(title='Categories', labels=['Old', 'New'])\n",
    "plt.tight_layout()\n",
    "plt.show()"
   ]
  },
  {
   "cell_type": "markdown",
   "id": "05fb195f",
   "metadata": {},
   "source": [
    "# Brief look at open text column"
   ]
  },
  {
   "cell_type": "code",
   "execution_count": 53,
   "id": "ab1021a7",
   "metadata": {},
   "outputs": [
    {
     "data": {
      "text/plain": [
       "4     Unterschied zwischen Abfall und Wilder Müllkip...\n",
       "5                                                   NaN\n",
       "6                                                   NaN\n",
       "7                                                   NaN\n",
       "8                                                   NaN\n",
       "9                                                   NaN\n",
       "10    Wilde Müllkippe und Abfall finde ich schwierig...\n",
       "11                                                  NaN\n",
       "13    Abfall und wilde Müllkippe bin ich mir im Unte...\n",
       "18    Abfall vs wilde Müllkippe, was gehört wozu?\\nW...\n",
       "19                                                  NaN\n",
       "22                                                  NaN\n",
       "23                                                  NaN\n",
       "24                                                  NaN\n",
       "29                                                  NaN\n",
       "31                                                  NaN\n",
       "32    Das Bild mit den Steinlatten an der Säule war ...\n",
       "33    Unterscheidung zwischen Abfall und wilde Müllk...\n",
       "34                                                  NaN\n",
       "35             Keine klaren Kategorien, Danke sagen ???\n",
       "37                                                  NaN\n",
       "38    Mir war nicht ganz klar, ab wann es zur Katego...\n",
       "39    Die Kategorien wurden nicht richtig beschriebe...\n",
       "41                                                  NaN\n",
       "43    Die Kategorien sind zT unterschieden in Ort un...\n",
       "45                Abfall vs. wilde Müllkippe undeutlich\n",
       "49                                                  NaN\n",
       "50    Manchmal waren die Kategorien nicht eindeutig ...\n",
       "51                                                  NaN\n",
       "54        Unterscheidung von Abfall und Wilde Müllkippe\n",
       "55                           Verkehrszeichen als Mangel\n",
       "59                                                  NaN\n",
       "61                                                  NaN\n",
       "64                                                  NaN\n",
       "65                                                  NaN\n",
       "70                                                  NaN\n",
       "72                                                  NaN\n",
       "73                           Abfall vs. Wilde Müllkippe\n",
       "74                                                  NaN\n",
       "75                                                  NaN\n",
       "76    Besonders beim Müll was Abfall oder Wilde Müll...\n",
       "77                                                  NaN\n",
       "79                                                  NaN\n",
       "82                                                  NaN\n",
       "83                                                  NaN\n",
       "Name: K03, dtype: object"
      ]
     },
     "metadata": {},
     "output_type": "display_data"
    }
   ],
   "source": [
    "pd.set_option('display.max_rows', None)\n",
    "display(df[df['block']==0]['K03'])"
   ]
  },
  {
   "cell_type": "code",
   "execution_count": 54,
   "id": "97002724",
   "metadata": {},
   "outputs": [],
   "source": [
    "df[df['block']==0]['K03'].dropna().to_csv('old_cat_open_text.txt', index=False, header=False)"
   ]
  },
  {
   "cell_type": "code",
   "execution_count": 96,
   "id": "1060dd61",
   "metadata": {},
   "outputs": [
    {
     "data": {
      "text/plain": [
       "0       Müll am Straßenrand etwas anderes als Sperrmüll\n",
       "1                                                   NaN\n",
       "2                                                   NaN\n",
       "3     Manchmal undeutlich ob das jetzt Sperrmüll ist...\n",
       "12    Mehrdeutigkeit, Interpretationsspielraum ob Ko...\n",
       "14                                                  NaN\n",
       "15                          Mehrere passende Kategorien\n",
       "16                                                  NaN\n",
       "17    Die unterschiedliche müllensorgungsarten zu ka...\n",
       "20                                                  NaN\n",
       "21                                                  NaN\n",
       "25                                                  NaN\n",
       "26                                                  NaN\n",
       "27                                                  NaN\n",
       "28    Manchmal gab es bei den Unterkategorien zur Mü...\n",
       "30                                                  NaN\n",
       "36                                                  NaN\n",
       "40    Ich fand es bei den ganzen Müll Bildern schwie...\n",
       "42                                                  NaN\n",
       "44    Ich hatte Probleme, das beschmierte Straßensch...\n",
       "46                                                  NaN\n",
       "47                                                  NaN\n",
       "48    man kann viele Bilder mehreren Kategorien zuor...\n",
       "52                                                  NaN\n",
       "53                                                  NaN\n",
       "56    Manche Mängel fallen offensichtlich nicht nur ...\n",
       "57    Bei den unterkategorien fehlte mir eine Katego...\n",
       "58    Konnte auf dem Bild mit den weißen Platten auf...\n",
       "60                                                  NaN\n",
       "62    man möchte \"Sonstiges\" vermeiden, aber alles a...\n",
       "Name: K03, dtype: object"
      ]
     },
     "metadata": {},
     "output_type": "display_data"
    }
   ],
   "source": [
    "display(df[df['block']==1]['K03'])"
   ]
  },
  {
   "cell_type": "code",
   "execution_count": 55,
   "id": "e96298aa",
   "metadata": {},
   "outputs": [],
   "source": [
    "df[df['block']==1]['K03'].dropna().to_csv('new_cat_open_text.txt', index=False, header=False)"
   ]
  }
 ],
 "metadata": {
  "kernelspec": {
   "display_name": "hci-venv",
   "language": "python",
   "name": "python3"
  },
  "language_info": {
   "codemirror_mode": {
    "name": "ipython",
    "version": 3
   },
   "file_extension": ".py",
   "mimetype": "text/x-python",
   "name": "python",
   "nbconvert_exporter": "python",
   "pygments_lexer": "ipython3",
   "version": "3.12.3"
  }
 },
 "nbformat": 4,
 "nbformat_minor": 5
}
